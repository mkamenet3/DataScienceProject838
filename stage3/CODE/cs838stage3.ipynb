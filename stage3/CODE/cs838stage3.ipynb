{
 "cells": [
  {
   "cell_type": "markdown",
   "metadata": {},
   "source": [
    "# CS838 Project Stage3\n",
    "\n",
    "Yuying Chen\n",
    "Maria Kamenetsky"
   ]
  },
  {
   "cell_type": "code",
   "execution_count": 112,
   "metadata": {
    "collapsed": false,
    "scrolled": true
   },
   "outputs": [],
   "source": [
    "#import modules\n",
    "import csv\n",
    "import py_entitymatching as em\n",
    "import pandas as pd\n",
    "import numpy as np\n",
    "import timeit\n",
    "import sys"
   ]
  },
  {
   "cell_type": "markdown",
   "metadata": {},
   "source": [
    "We first set our goals: we want to create a matcher that achieves precsion of at least 90% and recall as high as possible. In our team, we then went through and explored the idea and defined what we would consider to be a match and not a match. We elaborate below"
   ]
  },
  {
   "cell_type": "markdown",
   "metadata": {},
   "source": [
    "## Read input tables"
   ]
  },
  {
   "cell_type": "markdown",
   "metadata": {},
   "source": [
    "Since the original two movie dataset that we selected don't have too many overlaps, we changed one of them to another movie dataset. The first dataset is from kaggle.com. The second dataset is from movielens.org.\n",
    "\n",
    "We added an id column for both datasets."
   ]
  },
  {
   "cell_type": "code",
   "execution_count": 113,
   "metadata": {
    "collapsed": false
   },
   "outputs": [
    {
     "name": "stderr",
     "output_type": "stream",
     "text": [
      "Metadata file is not present in the given path; proceeding to read the csv file.\n",
      "Metadata file is not present in the given path; proceeding to read the csv file.\n"
     ]
    }
   ],
   "source": [
    "A = em.read_csv_metadata('../DATA/movie1_stage3.csv', key='id',encoding='mac_roman')\n",
    "B = em.read_csv_metadata('../DATA/movie2_stage3.csv', key='movieId',encoding='mac_roman')"
   ]
  },
  {
   "cell_type": "code",
   "execution_count": 114,
   "metadata": {
    "collapsed": false
   },
   "outputs": [
    {
     "name": "stdout",
     "output_type": "stream",
     "text": [
      "Number of tuples in A: 5043\n",
      "Number of tuples in B: 27278\n",
      "Number of tuples in A x B: 137562954\n"
     ]
    }
   ],
   "source": [
    "print('Number of tuples in A: ' + str(len(A)))\n",
    "print('Number of tuples in B: ' + str(len(B)))\n",
    "print('Number of tuples in A x B: ' + str(len(A)*len(B)))"
   ]
  },
  {
   "cell_type": "code",
   "execution_count": 115,
   "metadata": {
    "collapsed": false
   },
   "outputs": [
    {
     "data": {
      "text/html": [
       "<div>\n",
       "<table border=\"1\" class=\"dataframe\">\n",
       "  <thead>\n",
       "    <tr style=\"text-align: right;\">\n",
       "      <th></th>\n",
       "      <th>id</th>\n",
       "      <th>title</th>\n",
       "      <th>genres</th>\n",
       "      <th>director_name</th>\n",
       "      <th>plot_keywords</th>\n",
       "      <th>actor_3_facebook_likes</th>\n",
       "      <th>cast_total_facebook_likes</th>\n",
       "      <th>content_rating</th>\n",
       "      <th>budget</th>\n",
       "      <th>duration</th>\n",
       "      <th>...</th>\n",
       "      <th>actor_2_facebook_likes</th>\n",
       "      <th>imdb_score</th>\n",
       "      <th>movie_facebook_likes</th>\n",
       "      <th>language</th>\n",
       "      <th>actor_1_facebook_likes</th>\n",
       "      <th>facenumber_in_poster</th>\n",
       "      <th>actor_1_name</th>\n",
       "      <th>num_user_for_reviews</th>\n",
       "      <th>aspect_ratio</th>\n",
       "      <th>num_critic_for_reviews</th>\n",
       "    </tr>\n",
       "  </thead>\n",
       "  <tbody>\n",
       "    <tr>\n",
       "      <th>0</th>\n",
       "      <td>1</td>\n",
       "      <td>avatar</td>\n",
       "      <td>action|adventure|fantasy|sci-fi</td>\n",
       "      <td>james cameron</td>\n",
       "      <td>avatar|future|marine|native|paraplegic</td>\n",
       "      <td>855</td>\n",
       "      <td>4834</td>\n",
       "      <td>pg-13</td>\n",
       "      <td>237000000</td>\n",
       "      <td>178</td>\n",
       "      <td>...</td>\n",
       "      <td>936</td>\n",
       "      <td>7.9</td>\n",
       "      <td>33000</td>\n",
       "      <td>english</td>\n",
       "      <td>1000</td>\n",
       "      <td>0</td>\n",
       "      <td>cch pounder</td>\n",
       "      <td>3054</td>\n",
       "      <td>1.78</td>\n",
       "      <td>723</td>\n",
       "    </tr>\n",
       "    <tr>\n",
       "      <th>1</th>\n",
       "      <td>2</td>\n",
       "      <td>pirates of the caribbean: at world's end</td>\n",
       "      <td>action|adventure|fantasy</td>\n",
       "      <td>gore verbinski</td>\n",
       "      <td>goddess|marriage ceremony|marriage proposal|pirate|singapore</td>\n",
       "      <td>1000</td>\n",
       "      <td>48350</td>\n",
       "      <td>pg-13</td>\n",
       "      <td>300000000</td>\n",
       "      <td>169</td>\n",
       "      <td>...</td>\n",
       "      <td>5000</td>\n",
       "      <td>7.1</td>\n",
       "      <td>0</td>\n",
       "      <td>english</td>\n",
       "      <td>40000</td>\n",
       "      <td>0</td>\n",
       "      <td>johnny depp</td>\n",
       "      <td>1238</td>\n",
       "      <td>2.35</td>\n",
       "      <td>302</td>\n",
       "    </tr>\n",
       "    <tr>\n",
       "      <th>2</th>\n",
       "      <td>3</td>\n",
       "      <td>spectre</td>\n",
       "      <td>action|adventure|thriller</td>\n",
       "      <td>sam mendes</td>\n",
       "      <td>bomb|espionage|sequel|spy|terrorist</td>\n",
       "      <td>161</td>\n",
       "      <td>11700</td>\n",
       "      <td>pg-13</td>\n",
       "      <td>245000000</td>\n",
       "      <td>148</td>\n",
       "      <td>...</td>\n",
       "      <td>393</td>\n",
       "      <td>6.8</td>\n",
       "      <td>85000</td>\n",
       "      <td>english</td>\n",
       "      <td>11000</td>\n",
       "      <td>1</td>\n",
       "      <td>christoph waltz</td>\n",
       "      <td>994</td>\n",
       "      <td>2.35</td>\n",
       "      <td>602</td>\n",
       "    </tr>\n",
       "    <tr>\n",
       "      <th>3</th>\n",
       "      <td>4</td>\n",
       "      <td>the dark knight rises</td>\n",
       "      <td>action|thriller</td>\n",
       "      <td>christopher nolan</td>\n",
       "      <td>deception|imprisonment|lawlessness|police officer|terrorist plot</td>\n",
       "      <td>23000</td>\n",
       "      <td>106759</td>\n",
       "      <td>pg-13</td>\n",
       "      <td>250000000</td>\n",
       "      <td>164</td>\n",
       "      <td>...</td>\n",
       "      <td>23000</td>\n",
       "      <td>8.5</td>\n",
       "      <td>164000</td>\n",
       "      <td>english</td>\n",
       "      <td>27000</td>\n",
       "      <td>0</td>\n",
       "      <td>tom hardy</td>\n",
       "      <td>2701</td>\n",
       "      <td>2.35</td>\n",
       "      <td>813</td>\n",
       "    </tr>\n",
       "    <tr>\n",
       "      <th>4</th>\n",
       "      <td>5</td>\n",
       "      <td>star wars: episode vii - the force awakens</td>\n",
       "      <td>documentary</td>\n",
       "      <td>doug walker</td>\n",
       "      <td>.</td>\n",
       "      <td>.</td>\n",
       "      <td>143</td>\n",
       "      <td>.</td>\n",
       "      <td>.</td>\n",
       "      <td>.</td>\n",
       "      <td>...</td>\n",
       "      <td>12</td>\n",
       "      <td>7.1</td>\n",
       "      <td>0</td>\n",
       "      <td>.</td>\n",
       "      <td>131</td>\n",
       "      <td>0</td>\n",
       "      <td>doug walker</td>\n",
       "      <td>.</td>\n",
       "      <td>.</td>\n",
       "      <td>.</td>\n",
       "    </tr>\n",
       "  </tbody>\n",
       "</table>\n",
       "<p>5 rows × 28 columns</p>\n",
       "</div>"
      ],
      "text/plain": [
       "   id                                       title  \\\n",
       "0   1                                      avatar   \n",
       "1   2    pirates of the caribbean: at world's end   \n",
       "2   3                                     spectre   \n",
       "3   4                       the dark knight rises   \n",
       "4   5  star wars: episode vii - the force awakens   \n",
       "\n",
       "                            genres      director_name  \\\n",
       "0  action|adventure|fantasy|sci-fi      james cameron   \n",
       "1         action|adventure|fantasy     gore verbinski   \n",
       "2        action|adventure|thriller         sam mendes   \n",
       "3                  action|thriller  christopher nolan   \n",
       "4                      documentary        doug walker   \n",
       "\n",
       "                                                      plot_keywords  \\\n",
       "0                            avatar|future|marine|native|paraplegic   \n",
       "1      goddess|marriage ceremony|marriage proposal|pirate|singapore   \n",
       "2                               bomb|espionage|sequel|spy|terrorist   \n",
       "3  deception|imprisonment|lawlessness|police officer|terrorist plot   \n",
       "4                                                                 .   \n",
       "\n",
       "  actor_3_facebook_likes  cast_total_facebook_likes content_rating     budget  \\\n",
       "0                    855                       4834          pg-13  237000000   \n",
       "1                   1000                      48350          pg-13  300000000   \n",
       "2                    161                      11700          pg-13  245000000   \n",
       "3                  23000                     106759          pg-13  250000000   \n",
       "4                      .                        143              .          .   \n",
       "\n",
       "  duration           ...           actor_2_facebook_likes imdb_score  \\\n",
       "0      178           ...                              936        7.9   \n",
       "1      169           ...                             5000        7.1   \n",
       "2      148           ...                              393        6.8   \n",
       "3      164           ...                            23000        8.5   \n",
       "4        .           ...                               12        7.1   \n",
       "\n",
       "  movie_facebook_likes  language actor_1_facebook_likes facenumber_in_poster  \\\n",
       "0                33000   english                   1000                    0   \n",
       "1                    0   english                  40000                    0   \n",
       "2                85000   english                  11000                    1   \n",
       "3               164000   english                  27000                    0   \n",
       "4                    0         .                    131                    0   \n",
       "\n",
       "      actor_1_name num_user_for_reviews aspect_ratio  num_critic_for_reviews  \n",
       "0      cch pounder                 3054         1.78                     723  \n",
       "1      johnny depp                 1238         2.35                     302  \n",
       "2  christoph waltz                  994         2.35                     602  \n",
       "3        tom hardy                 2701         2.35                     813  \n",
       "4      doug walker                    .            .                       .  \n",
       "\n",
       "[5 rows x 28 columns]"
      ]
     },
     "execution_count": 115,
     "metadata": {},
     "output_type": "execute_result"
    }
   ],
   "source": [
    "A.head() "
   ]
  },
  {
   "cell_type": "code",
   "execution_count": 116,
   "metadata": {
    "collapsed": false
   },
   "outputs": [
    {
     "data": {
      "text/plain": [
       "array(['id', 'title', 'genres', 'director_name', 'plot_keywords',\n",
       "       'actor_3_facebook_likes', 'cast_total_facebook_likes',\n",
       "       'content_rating', 'budget', 'duration', 'country', 'color', 'year',\n",
       "       'num_voted_users', 'director_facebook_likes', 'gross',\n",
       "       'actor_2_name', 'actor_3_name', 'actor_2_facebook_likes',\n",
       "       'imdb_score', 'movie_facebook_likes', 'language',\n",
       "       'actor_1_facebook_likes', 'facenumber_in_poster', 'actor_1_name',\n",
       "       'num_user_for_reviews', 'aspect_ratio', 'num_critic_for_reviews'], dtype=object)"
      ]
     },
     "execution_count": 116,
     "metadata": {},
     "output_type": "execute_result"
    }
   ],
   "source": [
    "A.columns.values"
   ]
  },
  {
   "cell_type": "code",
   "execution_count": 117,
   "metadata": {
    "collapsed": false
   },
   "outputs": [
    {
     "data": {
      "text/html": [
       "<div>\n",
       "<table border=\"1\" class=\"dataframe\">\n",
       "  <thead>\n",
       "    <tr style=\"text-align: right;\">\n",
       "      <th></th>\n",
       "      <th>movieId</th>\n",
       "      <th>title</th>\n",
       "      <th>genres</th>\n",
       "      <th>year</th>\n",
       "    </tr>\n",
       "  </thead>\n",
       "  <tbody>\n",
       "    <tr>\n",
       "      <th>0</th>\n",
       "      <td>1</td>\n",
       "      <td>Toy Story</td>\n",
       "      <td>Adventure|Animation|Children|Comedy|Fantasy</td>\n",
       "      <td>1995</td>\n",
       "    </tr>\n",
       "    <tr>\n",
       "      <th>1</th>\n",
       "      <td>2</td>\n",
       "      <td>Jumanji</td>\n",
       "      <td>Adventure|Children|Fantasy</td>\n",
       "      <td>1995</td>\n",
       "    </tr>\n",
       "    <tr>\n",
       "      <th>2</th>\n",
       "      <td>3</td>\n",
       "      <td>Grumpier Old Men</td>\n",
       "      <td>Comedy|Romance</td>\n",
       "      <td>1995</td>\n",
       "    </tr>\n",
       "    <tr>\n",
       "      <th>3</th>\n",
       "      <td>4</td>\n",
       "      <td>Waiting to Exhale</td>\n",
       "      <td>Comedy|Drama|Romance</td>\n",
       "      <td>1995</td>\n",
       "    </tr>\n",
       "    <tr>\n",
       "      <th>4</th>\n",
       "      <td>5</td>\n",
       "      <td>Father of the Bride Part II</td>\n",
       "      <td>Comedy</td>\n",
       "      <td>1995</td>\n",
       "    </tr>\n",
       "  </tbody>\n",
       "</table>\n",
       "</div>"
      ],
      "text/plain": [
       "   movieId                        title  \\\n",
       "0        1                    Toy Story   \n",
       "1        2                      Jumanji   \n",
       "2        3             Grumpier Old Men   \n",
       "3        4            Waiting to Exhale   \n",
       "4        5  Father of the Bride Part II   \n",
       "\n",
       "                                        genres  year  \n",
       "0  Adventure|Animation|Children|Comedy|Fantasy  1995  \n",
       "1                   Adventure|Children|Fantasy  1995  \n",
       "2                               Comedy|Romance  1995  \n",
       "3                         Comedy|Drama|Romance  1995  \n",
       "4                                       Comedy  1995  "
      ]
     },
     "execution_count": 117,
     "metadata": {},
     "output_type": "execute_result"
    }
   ],
   "source": [
    "B.head()"
   ]
  },
  {
   "cell_type": "code",
   "execution_count": 118,
   "metadata": {
    "collapsed": false
   },
   "outputs": [
    {
     "data": {
      "text/plain": [
       "array(['movieId', 'title', 'genres', 'year'], dtype=object)"
      ]
     },
     "execution_count": 118,
     "metadata": {},
     "output_type": "execute_result"
    }
   ],
   "source": [
    "B.columns.values"
   ]
  },
  {
   "cell_type": "code",
   "execution_count": 119,
   "metadata": {
    "collapsed": false
   },
   "outputs": [
    {
     "data": {
      "text/plain": [
       "('id', 'movieId')"
      ]
     },
     "execution_count": 119,
     "metadata": {},
     "output_type": "execute_result"
    }
   ],
   "source": [
    "em.get_key(A), em.get_key(B)"
   ]
  },
  {
   "cell_type": "markdown",
   "metadata": {},
   "source": [
    "Since the tables are very large let's downsample:"
   ]
  },
  {
   "cell_type": "code",
   "execution_count": 120,
   "metadata": {
    "collapsed": false
   },
   "outputs": [
    {
     "name": "stderr",
     "output_type": "stream",
     "text": [
      "0%                          100%\n",
      "[##############################] | ETA: 00:00:00\n",
      "Total time elapsed: 00:00:00\n"
     ]
    },
    {
     "data": {
      "text/plain": [
       "(160, 200)"
      ]
     },
     "execution_count": 120,
     "metadata": {},
     "output_type": "execute_result"
    }
   ],
   "source": [
    "A1, B1 = em.down_sample(A,B, 200,1, show_progress=True)\n",
    "len(A1), len(B1)"
   ]
  },
  {
   "cell_type": "markdown",
   "metadata": {
    "collapsed": true
   },
   "source": [
    "## Block Tables To Get Candidate Set"
   ]
  },
  {
   "cell_type": "markdown",
   "metadata": {},
   "source": [
    "Block on attribute 'year' using an overlap blocker since the same movie must have the same year. The output attributes of table A is limited to id, title, year and genres to match the information provided by table B."
   ]
  },
  {
   "cell_type": "code",
   "execution_count": 121,
   "metadata": {
    "collapsed": false
   },
   "outputs": [
    {
     "name": "stderr",
     "output_type": "stream",
     "text": [
      "0%                          100%\n",
      "[##############################] | ETA: 00:00:00\n",
      "Total time elapsed: 00:00:18\n"
     ]
    },
    {
     "name": "stdout",
     "output_type": "stream",
     "text": [
      "Overlap blocking step:  25.151411594869387\n"
     ]
    }
   ],
   "source": [
    "# Create overlap blocker\n",
    "ob = em.OverlapBlocker()\n",
    "\n",
    "start = time.clock()\n",
    "C = ob.block_tables(A, B, 'year', 'year',\n",
    "                   l_output_attrs=['id', 'title', 'year', 'genres'],\n",
    "                   r_output_attrs=['movieId', 'title','year', 'genres'],\n",
    "                   overlap_size=1, show_progress=True)\n",
    "\n",
    "elapsed = (time.clock() - start)\n",
    "print(\"Overlap blocking step: \", elapsed)"
   ]
  },
  {
   "cell_type": "code",
   "execution_count": 122,
   "metadata": {
    "collapsed": false
   },
   "outputs": [
    {
     "name": "stderr",
     "output_type": "stream",
     "text": [
      "File already exists at ../DATA/candidate_pairs.csv; Overwriting it\n",
      "Metadata file already exists at ../DATA/candidate_pairs.metadata. Overwriting it\n"
     ]
    },
    {
     "data": {
      "text/plain": [
       "True"
      ]
     },
     "execution_count": 122,
     "metadata": {},
     "output_type": "execute_result"
    }
   ],
   "source": [
    "em.to_csv_metadata(C, '../DATA/candidate_pairs.csv') "
   ]
  },
  {
   "cell_type": "code",
   "execution_count": 123,
   "metadata": {
    "collapsed": false
   },
   "outputs": [
    {
     "data": {
      "text/plain": [
       "3288743"
      ]
     },
     "execution_count": 123,
     "metadata": {},
     "output_type": "execute_result"
    }
   ],
   "source": [
    "len(C)"
   ]
  },
  {
   "cell_type": "markdown",
   "metadata": {},
   "source": [
    "## Match tuple pairs in candidate set"
   ]
  },
  {
   "cell_type": "markdown",
   "metadata": {},
   "source": [
    "### Import Pre-Determined Golden Data"
   ]
  },
  {
   "cell_type": "markdown",
   "metadata": {},
   "source": [
    "We randomly sampled 500 tuple pairs for labeling. There are 201 matches and 299 mismatches. **gold.csv** is our gold dataset of perfect matches that we have determined prior to this. "
   ]
  },
  {
   "cell_type": "code",
   "execution_count": 124,
   "metadata": {
    "collapsed": false
   },
   "outputs": [
    {
     "name": "stderr",
     "output_type": "stream",
     "text": [
      "Metadata file is not present in the given path; proceeding to read the csv file.\n"
     ]
    },
    {
     "data": {
      "text/plain": [
       "500"
      ]
     },
     "execution_count": 124,
     "metadata": {},
     "output_type": "execute_result"
    }
   ],
   "source": [
    "G = em.read_csv_metadata('../DATA/gold.csv', \n",
    "                         key='_id',\n",
    "                            ltable=A, rtable=B, \n",
    "                        fk_ltable='ltable_id', fk_rtable='rtable_movieId',\n",
    "                         encoding='mac_roman')\n",
    "len(G)"
   ]
  },
  {
   "cell_type": "code",
   "execution_count": 125,
   "metadata": {
    "collapsed": false
   },
   "outputs": [
    {
     "data": {
      "text/html": [
       "<div>\n",
       "<table border=\"1\" class=\"dataframe\">\n",
       "  <thead>\n",
       "    <tr style=\"text-align: right;\">\n",
       "      <th></th>\n",
       "      <th>_id</th>\n",
       "      <th>ltable_id</th>\n",
       "      <th>rtable_movieId</th>\n",
       "      <th>ltable_movie_title</th>\n",
       "      <th>ltable_title_year</th>\n",
       "      <th>ltable_genres</th>\n",
       "      <th>rtable_title</th>\n",
       "      <th>rtable_year</th>\n",
       "      <th>rtable_genres</th>\n",
       "      <th>label</th>\n",
       "    </tr>\n",
       "  </thead>\n",
       "  <tbody>\n",
       "    <tr>\n",
       "      <th>0</th>\n",
       "      <td>2433</td>\n",
       "      <td>894</td>\n",
       "      <td>64716</td>\n",
       "      <td>seven pounds</td>\n",
       "      <td>2008</td>\n",
       "      <td>drama|romance</td>\n",
       "      <td>Seven Pounds</td>\n",
       "      <td>2008</td>\n",
       "      <td>Drama</td>\n",
       "      <td>1</td>\n",
       "    </tr>\n",
       "    <tr>\n",
       "      <th>1</th>\n",
       "      <td>4545</td>\n",
       "      <td>2842</td>\n",
       "      <td>4015</td>\n",
       "      <td>dude, where's my car?</td>\n",
       "      <td>2000</td>\n",
       "      <td>comedy|mystery</td>\n",
       "      <td>Dude, Where's My Car?</td>\n",
       "      <td>2000</td>\n",
       "      <td>Comedy|Sci-Fi</td>\n",
       "      <td>1</td>\n",
       "    </tr>\n",
       "    <tr>\n",
       "      <th>2</th>\n",
       "      <td>6907</td>\n",
       "      <td>3697</td>\n",
       "      <td>104908</td>\n",
       "      <td>insidious: chapter 2</td>\n",
       "      <td>2013</td>\n",
       "      <td>fantasy|horror|thriller</td>\n",
       "      <td>Insidious: Chapter 2</td>\n",
       "      <td>2013</td>\n",
       "      <td>Horror|Thriller</td>\n",
       "      <td>1</td>\n",
       "    </tr>\n",
       "    <tr>\n",
       "      <th>3</th>\n",
       "      <td>24168</td>\n",
       "      <td>4384</td>\n",
       "      <td>2891</td>\n",
       "      <td>happy, texas</td>\n",
       "      <td>1999</td>\n",
       "      <td>comedy|crime|romance</td>\n",
       "      <td>Happy, Texas</td>\n",
       "      <td>1999</td>\n",
       "      <td>Comedy</td>\n",
       "      <td>1</td>\n",
       "    </tr>\n",
       "    <tr>\n",
       "      <th>4</th>\n",
       "      <td>31352</td>\n",
       "      <td>1844</td>\n",
       "      <td>7980</td>\n",
       "      <td>a bridge too far</td>\n",
       "      <td>1977</td>\n",
       "      <td>drama|history|war</td>\n",
       "      <td>Bridge Too Far, A</td>\n",
       "      <td>1977</td>\n",
       "      <td>Action|Drama|War</td>\n",
       "      <td>1</td>\n",
       "    </tr>\n",
       "    <tr>\n",
       "      <th>5</th>\n",
       "      <td>35987</td>\n",
       "      <td>874</td>\n",
       "      <td>2676</td>\n",
       "      <td>instinct</td>\n",
       "      <td>1999</td>\n",
       "      <td>drama|thriller</td>\n",
       "      <td>Instinct</td>\n",
       "      <td>1999</td>\n",
       "      <td>Drama|Thriller</td>\n",
       "      <td>1</td>\n",
       "    </tr>\n",
       "    <tr>\n",
       "      <th>6</th>\n",
       "      <td>37526</td>\n",
       "      <td>2582</td>\n",
       "      <td>1599</td>\n",
       "      <td>steel</td>\n",
       "      <td>1997</td>\n",
       "      <td>action|crime|sci-fi</td>\n",
       "      <td>Steel</td>\n",
       "      <td>1997</td>\n",
       "      <td>Action</td>\n",
       "      <td>1</td>\n",
       "    </tr>\n",
       "    <tr>\n",
       "      <th>7</th>\n",
       "      <td>50124</td>\n",
       "      <td>1212</td>\n",
       "      <td>1408</td>\n",
       "      <td>the last of the mohicans</td>\n",
       "      <td>1992</td>\n",
       "      <td>action|adventure|drama|romance|war</td>\n",
       "      <td>Last of the Mohicans, The</td>\n",
       "      <td>1992</td>\n",
       "      <td>Action|Romance|War|Western</td>\n",
       "      <td>1</td>\n",
       "    </tr>\n",
       "    <tr>\n",
       "      <th>8</th>\n",
       "      <td>57296</td>\n",
       "      <td>2987</td>\n",
       "      <td>66200</td>\n",
       "      <td>two lovers</td>\n",
       "      <td>2008</td>\n",
       "      <td>drama|romance</td>\n",
       "      <td>Two Lovers</td>\n",
       "      <td>2008</td>\n",
       "      <td>Drama|Romance</td>\n",
       "      <td>1</td>\n",
       "    </tr>\n",
       "    <tr>\n",
       "      <th>9</th>\n",
       "      <td>64913</td>\n",
       "      <td>2952</td>\n",
       "      <td>2841</td>\n",
       "      <td>stir of echoes</td>\n",
       "      <td>1999</td>\n",
       "      <td>horror|mystery|thriller</td>\n",
       "      <td>Stir of Echoes</td>\n",
       "      <td>1999</td>\n",
       "      <td>Horror|Mystery|Thriller</td>\n",
       "      <td>1</td>\n",
       "    </tr>\n",
       "  </tbody>\n",
       "</table>\n",
       "</div>"
      ],
      "text/plain": [
       "     _id  ltable_id  rtable_movieId        ltable_movie_title  \\\n",
       "0   2433        894           64716              seven pounds   \n",
       "1   4545       2842            4015     dude, where's my car?   \n",
       "2   6907       3697          104908      insidious: chapter 2   \n",
       "3  24168       4384            2891              happy, texas   \n",
       "4  31352       1844            7980          a bridge too far   \n",
       "5  35987        874            2676                  instinct   \n",
       "6  37526       2582            1599                     steel   \n",
       "7  50124       1212            1408  the last of the mohicans   \n",
       "8  57296       2987           66200                two lovers   \n",
       "9  64913       2952            2841            stir of echoes   \n",
       "\n",
       "   ltable_title_year                       ltable_genres  \\\n",
       "0               2008                       drama|romance   \n",
       "1               2000                      comedy|mystery   \n",
       "2               2013             fantasy|horror|thriller   \n",
       "3               1999                comedy|crime|romance   \n",
       "4               1977                   drama|history|war   \n",
       "5               1999                      drama|thriller   \n",
       "6               1997                 action|crime|sci-fi   \n",
       "7               1992  action|adventure|drama|romance|war   \n",
       "8               2008                       drama|romance   \n",
       "9               1999             horror|mystery|thriller   \n",
       "\n",
       "                rtable_title  rtable_year               rtable_genres  label  \n",
       "0               Seven Pounds         2008                       Drama      1  \n",
       "1      Dude, Where's My Car?         2000               Comedy|Sci-Fi      1  \n",
       "2       Insidious: Chapter 2         2013             Horror|Thriller      1  \n",
       "3               Happy, Texas         1999                      Comedy      1  \n",
       "4          Bridge Too Far, A         1977            Action|Drama|War      1  \n",
       "5                   Instinct         1999              Drama|Thriller      1  \n",
       "6                      Steel         1997                      Action      1  \n",
       "7  Last of the Mohicans, The         1992  Action|Romance|War|Western      1  \n",
       "8                 Two Lovers         2008               Drama|Romance      1  \n",
       "9             Stir of Echoes         1999     Horror|Mystery|Thriller      1  "
      ]
     },
     "execution_count": 125,
     "metadata": {},
     "output_type": "execute_result"
    }
   ],
   "source": [
    "G.head(10)"
   ]
  },
  {
   "cell_type": "markdown",
   "metadata": {
    "collapsed": true
   },
   "source": [
    "We note here, that based on what we saw in the creation of the golden data, we establish a *correct* match as a perfect match on year and title, where title is lower case. For example, we would not consider tuple *(insidious, 2013)* and tuple *(insidious: chapter 2, 2013)* to be a match. We do so because we cannot reliably say that the sequal refers to the original. "
   ]
  },
  {
   "cell_type": "markdown",
   "metadata": {
    "collapsed": true
   },
   "source": [
    "### Splitting Labeled Data into Development and Evaluation Set"
   ]
  },
  {
   "cell_type": "markdown",
   "metadata": {},
   "source": [
    "We next want to split our data into a development set, where we will iteratively train and test various classifiers on the data. The evaluation set will be our final hold out set which we will test last and only once, so that we avoid overfitting. \n",
    "\n",
    "Let *I* be the development set and *J* be the evaluation set. We split the data into a 70-30 split for development-evaluation."
   ]
  },
  {
   "cell_type": "code",
   "execution_count": 126,
   "metadata": {
    "collapsed": false
   },
   "outputs": [],
   "source": [
    "IJ = em.split_train_test(G, train_proportion=0.7, random_state=0)\n",
    "I = IJ['train']\n",
    "J = IJ['test']"
   ]
  },
  {
   "cell_type": "code",
   "execution_count": 127,
   "metadata": {
    "collapsed": false
   },
   "outputs": [],
   "source": [
    "#write these to .csvs in DATA folder \n",
    "I.to_csv('../DATA/setI.csv')\n",
    "J.to_csv('../DATA/setJ.csv')"
   ]
  },
  {
   "cell_type": "markdown",
   "metadata": {},
   "source": [
    "**Package note**: the above split_train_test did not work if I imported G using pandas read_csv, even with encoding. I had to import it using\n",
    "    ```em.read_csv_metadata()```, which is a little confusing to first-time user since it's a csv, but not necessarily metadata.\n",
    "    Is there another function that would import metadata and do something with it separately? Or a way to interface with ```pd.read_csv()``` so that  you can read in a csv, clean it and work with it, and then reimport with ```em.read_csv_metadata()``` somehow?"
   ]
  },
  {
   "cell_type": "markdown",
   "metadata": {},
   "source": [
    "### Selecting Best Learning-Based Matcher"
   ]
  },
  {
   "cell_type": "markdown",
   "metadata": {},
   "source": [
    "We first go through and set our various machine-learning matchers that we will cycle through:"
   ]
  },
  {
   "cell_type": "code",
   "execution_count": 128,
   "metadata": {
    "collapsed": true
   },
   "outputs": [],
   "source": [
    "# Create a set of ML-matchers\n",
    "dt = em.DTMatcher(name='DecisionTree', random_state=0)\n",
    "svm = em.SVMMatcher(name='SVM', random_state=0)\n",
    "rf = em.RFMatcher(name='RF', random_state=0)\n",
    "lg = em.LogRegMatcher(name='LogReg', random_state=0)\n",
    "ln = em.LinRegMatcher(name='LinReg')\n",
    "nb = em.NBMatcher(name='NaiveBayes')"
   ]
  },
  {
   "cell_type": "markdown",
   "metadata": {},
   "source": [
    "In exploring the **py_entitymatching**, we first start with using the automatically generated features."
   ]
  },
  {
   "cell_type": "code",
   "execution_count": 129,
   "metadata": {
    "collapsed": false
   },
   "outputs": [
    {
     "name": "stdout",
     "output_type": "stream",
     "text": [
      "Getting features step:  1.66341188046772\n"
     ]
    }
   ],
   "source": [
    "#get the auto features\n",
    "\n",
    "start = time.clock()\n",
    "feature_table = em.get_features_for_matching(A,B)\n",
    "elapsed = (time.clock() - start)\n",
    "print(\"Getting features step: \", elapsed)"
   ]
  },
  {
   "cell_type": "code",
   "execution_count": 130,
   "metadata": {
    "collapsed": false
   },
   "outputs": [
    {
     "data": {
      "text/plain": [
       "0        title_title_jac_qgm_3_qgm_3\n",
       "1    title_title_cos_dlm_dc0_dlm_dc0\n",
       "2    title_title_jac_dlm_dc0_dlm_dc0\n",
       "3                    title_title_mel\n",
       "4               title_title_lev_dist\n",
       "5                title_title_lev_sim\n",
       "6                    title_title_nmw\n",
       "7                     title_title_sw\n",
       "Name: feature_name, dtype: object"
      ]
     },
     "execution_count": 130,
     "metadata": {},
     "output_type": "execute_result"
    }
   ],
   "source": [
    "feature_table.feature_name"
   ]
  },
  {
   "cell_type": "markdown",
   "metadata": {},
   "source": [
    "**Package Note**: The ```get_features_for_matching()``` doesn't work if A and B do not have any common features. Which totally makes sense, but the error message was not clear. Also, it would be nice if for features that are quantitative (for example, length of token), you could also get average length of token, median, sd, based on some sort of blocking scheme. Would this help increase P/R?"
   ]
  },
  {
   "cell_type": "code",
   "execution_count": 147,
   "metadata": {
    "collapsed": false
   },
   "outputs": [
    {
     "name": "stderr",
     "output_type": "stream",
     "text": [
      "0%                          100%\n",
      "[##############################] | ETA: 00:00:00"
     ]
    },
    {
     "name": "stdout",
     "output_type": "stream",
     "text": [
      "Extract features:  1.7220805879769614\n"
     ]
    },
    {
     "name": "stderr",
     "output_type": "stream",
     "text": [
      "\n",
      "Total time elapsed: 00:00:01\n"
     ]
    }
   ],
   "source": [
    "#convert to feature vectors\n",
    "start = time.clock()\n",
    "H = em.extract_feature_vecs(I,\n",
    "                           feature_table=feature_table,\n",
    "                           attrs_after='label',\n",
    "                           show_progress=True)\n",
    "elapsed = (time.clock() - start)\n",
    "print(\"Extract features: \", elapsed)"
   ]
  },
  {
   "cell_type": "code",
   "execution_count": 132,
   "metadata": {
    "collapsed": false
   },
   "outputs": [
    {
     "data": {
      "text/html": [
       "<div>\n",
       "<table border=\"1\" class=\"dataframe\">\n",
       "  <thead>\n",
       "    <tr style=\"text-align: right;\">\n",
       "      <th></th>\n",
       "      <th>_id</th>\n",
       "      <th>ltable_id</th>\n",
       "      <th>rtable_movieId</th>\n",
       "      <th>title_title_jac_qgm_3_qgm_3</th>\n",
       "      <th>title_title_cos_dlm_dc0_dlm_dc0</th>\n",
       "      <th>title_title_jac_dlm_dc0_dlm_dc0</th>\n",
       "      <th>title_title_mel</th>\n",
       "      <th>title_title_lev_dist</th>\n",
       "      <th>title_title_lev_sim</th>\n",
       "      <th>title_title_nmw</th>\n",
       "      <th>title_title_sw</th>\n",
       "      <th>label</th>\n",
       "    </tr>\n",
       "  </thead>\n",
       "  <tbody>\n",
       "    <tr>\n",
       "      <th>141</th>\n",
       "      <td>640561</td>\n",
       "      <td>3382</td>\n",
       "      <td>69253</td>\n",
       "      <td>0.368421</td>\n",
       "      <td>0.333333</td>\n",
       "      <td>0.2</td>\n",
       "      <td>0.878788</td>\n",
       "      <td>2</td>\n",
       "      <td>0.818182</td>\n",
       "      <td>9.0</td>\n",
       "      <td>9.0</td>\n",
       "      <td>1</td>\n",
       "    </tr>\n",
       "    <tr>\n",
       "      <th>383</th>\n",
       "      <td>1475</td>\n",
       "      <td>2654</td>\n",
       "      <td>93492</td>\n",
       "      <td>0.000000</td>\n",
       "      <td>0.000000</td>\n",
       "      <td>0.0</td>\n",
       "      <td>0.533333</td>\n",
       "      <td>9</td>\n",
       "      <td>0.100000</td>\n",
       "      <td>-4.0</td>\n",
       "      <td>2.0</td>\n",
       "      <td>0</td>\n",
       "    </tr>\n",
       "    <tr>\n",
       "      <th>135</th>\n",
       "      <td>620734</td>\n",
       "      <td>4840</td>\n",
       "      <td>2127</td>\n",
       "      <td>0.314286</td>\n",
       "      <td>0.000000</td>\n",
       "      <td>0.0</td>\n",
       "      <td>0.878788</td>\n",
       "      <td>4</td>\n",
       "      <td>0.818182</td>\n",
       "      <td>18.0</td>\n",
       "      <td>18.0</td>\n",
       "      <td>1</td>\n",
       "    </tr>\n",
       "    <tr>\n",
       "      <th>493</th>\n",
       "      <td>2413</td>\n",
       "      <td>117</td>\n",
       "      <td>64716</td>\n",
       "      <td>0.000000</td>\n",
       "      <td>0.000000</td>\n",
       "      <td>0.0</td>\n",
       "      <td>0.484127</td>\n",
       "      <td>10</td>\n",
       "      <td>0.166667</td>\n",
       "      <td>-3.0</td>\n",
       "      <td>1.0</td>\n",
       "      <td>0</td>\n",
       "    </tr>\n",
       "    <tr>\n",
       "      <th>122</th>\n",
       "      <td>573655</td>\n",
       "      <td>716</td>\n",
       "      <td>112556</td>\n",
       "      <td>0.294118</td>\n",
       "      <td>0.000000</td>\n",
       "      <td>0.0</td>\n",
       "      <td>0.851852</td>\n",
       "      <td>2</td>\n",
       "      <td>0.777778</td>\n",
       "      <td>7.0</td>\n",
       "      <td>7.0</td>\n",
       "      <td>1</td>\n",
       "    </tr>\n",
       "  </tbody>\n",
       "</table>\n",
       "</div>"
      ],
      "text/plain": [
       "        _id  ltable_id  rtable_movieId  title_title_jac_qgm_3_qgm_3  \\\n",
       "141  640561       3382           69253                     0.368421   \n",
       "383    1475       2654           93492                     0.000000   \n",
       "135  620734       4840            2127                     0.314286   \n",
       "493    2413        117           64716                     0.000000   \n",
       "122  573655        716          112556                     0.294118   \n",
       "\n",
       "     title_title_cos_dlm_dc0_dlm_dc0  title_title_jac_dlm_dc0_dlm_dc0  \\\n",
       "141                         0.333333                              0.2   \n",
       "383                         0.000000                              0.0   \n",
       "135                         0.000000                              0.0   \n",
       "493                         0.000000                              0.0   \n",
       "122                         0.000000                              0.0   \n",
       "\n",
       "     title_title_mel  title_title_lev_dist  title_title_lev_sim  \\\n",
       "141         0.878788                     2             0.818182   \n",
       "383         0.533333                     9             0.100000   \n",
       "135         0.878788                     4             0.818182   \n",
       "493         0.484127                    10             0.166667   \n",
       "122         0.851852                     2             0.777778   \n",
       "\n",
       "     title_title_nmw  title_title_sw  label  \n",
       "141              9.0             9.0      1  \n",
       "383             -4.0             2.0      0  \n",
       "135             18.0            18.0      1  \n",
       "493             -3.0             1.0      0  \n",
       "122              7.0             7.0      1  "
      ]
     },
     "execution_count": 132,
     "metadata": {},
     "output_type": "execute_result"
    }
   ],
   "source": [
    "H.head()"
   ]
  },
  {
   "cell_type": "markdown",
   "metadata": {},
   "source": [
    "### Selecting best ML Matcher"
   ]
  },
  {
   "cell_type": "markdown",
   "metadata": {
    "collapsed": false
   },
   "source": [
    "Now we want to select the best matcher. We use k-fold cross validation. We will use 10 folds here and use precision, recall, and F1 to select the best matcher.\n",
    "\n"
   ]
  },
  {
   "cell_type": "code",
   "execution_count": 133,
   "metadata": {
    "collapsed": false
   },
   "outputs": [
    {
     "name": "stdout",
     "output_type": "stream",
     "text": [
      "Matching step - precision:  0.5405771328996707\n"
     ]
    }
   ],
   "source": [
    "#select best ML matcher based on cross-validation\n",
    "##PRECISION\n",
    "start = time.clock()\n",
    "result = em.select_matcher([dt, rf, svm, ln, lg, nb], table=H,\n",
    "                          exclude_attrs=['_id', 'ltable_id','rtable_movieId', 'label'],\n",
    "                          k = 10,\n",
    "                          target_attr='label', metric='precision', random_state=0)\n",
    "elapsed = (time.clock() - start)\n",
    "print(\"Matching step - precision: \", elapsed)"
   ]
  },
  {
   "cell_type": "code",
   "execution_count": 134,
   "metadata": {
    "collapsed": false
   },
   "outputs": [
    {
     "data": {
      "text/html": [
       "<div>\n",
       "<table border=\"1\" class=\"dataframe\">\n",
       "  <thead>\n",
       "    <tr style=\"text-align: right;\">\n",
       "      <th></th>\n",
       "      <th>Name</th>\n",
       "      <th>Matcher</th>\n",
       "      <th>Num folds</th>\n",
       "      <th>Fold 1</th>\n",
       "      <th>Fold 2</th>\n",
       "      <th>Fold 3</th>\n",
       "      <th>Fold 4</th>\n",
       "      <th>Fold 5</th>\n",
       "      <th>Fold 6</th>\n",
       "      <th>Fold 7</th>\n",
       "      <th>Fold 8</th>\n",
       "      <th>Fold 9</th>\n",
       "      <th>Fold 10</th>\n",
       "      <th>Mean score</th>\n",
       "    </tr>\n",
       "  </thead>\n",
       "  <tbody>\n",
       "    <tr>\n",
       "      <th>0</th>\n",
       "      <td>DecisionTree</td>\n",
       "      <td>&lt;py_entitymatching.matcher.dtmatcher.DTMatcher object at 0x0000022383AEAB00&gt;</td>\n",
       "      <td>10</td>\n",
       "      <td>1.0</td>\n",
       "      <td>1.0</td>\n",
       "      <td>1.0</td>\n",
       "      <td>1.0</td>\n",
       "      <td>0.928571</td>\n",
       "      <td>1.0</td>\n",
       "      <td>1.0</td>\n",
       "      <td>1.0</td>\n",
       "      <td>1.0</td>\n",
       "      <td>1.0</td>\n",
       "      <td>0.992857</td>\n",
       "    </tr>\n",
       "    <tr>\n",
       "      <th>1</th>\n",
       "      <td>RF</td>\n",
       "      <td>&lt;py_entitymatching.matcher.rfmatcher.RFMatcher object at 0x0000022386E90630&gt;</td>\n",
       "      <td>10</td>\n",
       "      <td>1.0</td>\n",
       "      <td>1.0</td>\n",
       "      <td>1.0</td>\n",
       "      <td>1.0</td>\n",
       "      <td>0.928571</td>\n",
       "      <td>1.0</td>\n",
       "      <td>1.0</td>\n",
       "      <td>1.0</td>\n",
       "      <td>1.0</td>\n",
       "      <td>1.0</td>\n",
       "      <td>0.992857</td>\n",
       "    </tr>\n",
       "    <tr>\n",
       "      <th>2</th>\n",
       "      <td>SVM</td>\n",
       "      <td>&lt;py_entitymatching.matcher.svmmatcher.SVMMatcher object at 0x0000022383AEAA20&gt;</td>\n",
       "      <td>10</td>\n",
       "      <td>1.0</td>\n",
       "      <td>1.0</td>\n",
       "      <td>1.0</td>\n",
       "      <td>1.0</td>\n",
       "      <td>0.857143</td>\n",
       "      <td>1.0</td>\n",
       "      <td>1.0</td>\n",
       "      <td>1.0</td>\n",
       "      <td>1.0</td>\n",
       "      <td>1.0</td>\n",
       "      <td>0.985714</td>\n",
       "    </tr>\n",
       "    <tr>\n",
       "      <th>3</th>\n",
       "      <td>LinReg</td>\n",
       "      <td>&lt;py_entitymatching.matcher.linregmatcher.LinRegMatcher object at 0x0000022386E90C50&gt;</td>\n",
       "      <td>10</td>\n",
       "      <td>1.0</td>\n",
       "      <td>1.0</td>\n",
       "      <td>1.0</td>\n",
       "      <td>1.0</td>\n",
       "      <td>1.000000</td>\n",
       "      <td>1.0</td>\n",
       "      <td>1.0</td>\n",
       "      <td>1.0</td>\n",
       "      <td>1.0</td>\n",
       "      <td>1.0</td>\n",
       "      <td>1.000000</td>\n",
       "    </tr>\n",
       "    <tr>\n",
       "      <th>4</th>\n",
       "      <td>LogReg</td>\n",
       "      <td>&lt;py_entitymatching.matcher.logregmatcher.LogRegMatcher object at 0x0000022386E90AC8&gt;</td>\n",
       "      <td>10</td>\n",
       "      <td>1.0</td>\n",
       "      <td>1.0</td>\n",
       "      <td>1.0</td>\n",
       "      <td>1.0</td>\n",
       "      <td>0.923077</td>\n",
       "      <td>1.0</td>\n",
       "      <td>1.0</td>\n",
       "      <td>1.0</td>\n",
       "      <td>1.0</td>\n",
       "      <td>1.0</td>\n",
       "      <td>0.992308</td>\n",
       "    </tr>\n",
       "    <tr>\n",
       "      <th>5</th>\n",
       "      <td>NaiveBayes</td>\n",
       "      <td>&lt;py_entitymatching.matcher.nbmatcher.NBMatcher object at 0x0000022386E906A0&gt;</td>\n",
       "      <td>10</td>\n",
       "      <td>1.0</td>\n",
       "      <td>1.0</td>\n",
       "      <td>1.0</td>\n",
       "      <td>1.0</td>\n",
       "      <td>0.923077</td>\n",
       "      <td>1.0</td>\n",
       "      <td>1.0</td>\n",
       "      <td>1.0</td>\n",
       "      <td>1.0</td>\n",
       "      <td>1.0</td>\n",
       "      <td>0.992308</td>\n",
       "    </tr>\n",
       "  </tbody>\n",
       "</table>\n",
       "</div>"
      ],
      "text/plain": [
       "           Name  \\\n",
       "0  DecisionTree   \n",
       "1            RF   \n",
       "2           SVM   \n",
       "3        LinReg   \n",
       "4        LogReg   \n",
       "5    NaiveBayes   \n",
       "\n",
       "                                                                                Matcher  \\\n",
       "0          <py_entitymatching.matcher.dtmatcher.DTMatcher object at 0x0000022383AEAB00>   \n",
       "1          <py_entitymatching.matcher.rfmatcher.RFMatcher object at 0x0000022386E90630>   \n",
       "2        <py_entitymatching.matcher.svmmatcher.SVMMatcher object at 0x0000022383AEAA20>   \n",
       "3  <py_entitymatching.matcher.linregmatcher.LinRegMatcher object at 0x0000022386E90C50>   \n",
       "4  <py_entitymatching.matcher.logregmatcher.LogRegMatcher object at 0x0000022386E90AC8>   \n",
       "5          <py_entitymatching.matcher.nbmatcher.NBMatcher object at 0x0000022386E906A0>   \n",
       "\n",
       "   Num folds  Fold 1  Fold 2  Fold 3  Fold 4    Fold 5  Fold 6  Fold 7  \\\n",
       "0         10     1.0     1.0     1.0     1.0  0.928571     1.0     1.0   \n",
       "1         10     1.0     1.0     1.0     1.0  0.928571     1.0     1.0   \n",
       "2         10     1.0     1.0     1.0     1.0  0.857143     1.0     1.0   \n",
       "3         10     1.0     1.0     1.0     1.0  1.000000     1.0     1.0   \n",
       "4         10     1.0     1.0     1.0     1.0  0.923077     1.0     1.0   \n",
       "5         10     1.0     1.0     1.0     1.0  0.923077     1.0     1.0   \n",
       "\n",
       "   Fold 8  Fold 9  Fold 10  Mean score  \n",
       "0     1.0     1.0      1.0    0.992857  \n",
       "1     1.0     1.0      1.0    0.992857  \n",
       "2     1.0     1.0      1.0    0.985714  \n",
       "3     1.0     1.0      1.0    1.000000  \n",
       "4     1.0     1.0      1.0    0.992308  \n",
       "5     1.0     1.0      1.0    0.992308  "
      ]
     },
     "execution_count": 134,
     "metadata": {},
     "output_type": "execute_result"
    }
   ],
   "source": [
    "result['cv_stats']"
   ]
  },
  {
   "cell_type": "markdown",
   "metadata": {},
   "source": [
    "Based on average precision across the 10 folds, we see that linear regression performs the best, follwed by decision tree and random forest performing equally well. "
   ]
  },
  {
   "cell_type": "markdown",
   "metadata": {},
   "source": [
    "**Package Note**: I really like the way these results are displayed - very clear and useful!"
   ]
  },
  {
   "cell_type": "code",
   "execution_count": 135,
   "metadata": {
    "collapsed": false
   },
   "outputs": [
    {
     "name": "stdout",
     "output_type": "stream",
     "text": [
      "Matching step - recall:  0.5123778116430913\n"
     ]
    }
   ],
   "source": [
    "#select best ML matcher based on cross-validation\n",
    "##RECALL\n",
    "start = time.clock()\n",
    "result = em.select_matcher([dt, rf, svm, ln, lg, nb], table=H,\n",
    "                          exclude_attrs=['_id', 'ltable_id','rtable_movieId', 'label'],\n",
    "                          k = 10,\n",
    "                          target_attr='label', metric='recall', random_state=0)\n",
    "elapsed = (time.clock() - start)\n",
    "print(\"Matching step - recall: \", elapsed)"
   ]
  },
  {
   "cell_type": "code",
   "execution_count": 136,
   "metadata": {
    "collapsed": false
   },
   "outputs": [
    {
     "data": {
      "text/html": [
       "<div>\n",
       "<table border=\"1\" class=\"dataframe\">\n",
       "  <thead>\n",
       "    <tr style=\"text-align: right;\">\n",
       "      <th></th>\n",
       "      <th>Name</th>\n",
       "      <th>Matcher</th>\n",
       "      <th>Num folds</th>\n",
       "      <th>Fold 1</th>\n",
       "      <th>Fold 2</th>\n",
       "      <th>Fold 3</th>\n",
       "      <th>Fold 4</th>\n",
       "      <th>Fold 5</th>\n",
       "      <th>Fold 6</th>\n",
       "      <th>Fold 7</th>\n",
       "      <th>Fold 8</th>\n",
       "      <th>Fold 9</th>\n",
       "      <th>Fold 10</th>\n",
       "      <th>Mean score</th>\n",
       "    </tr>\n",
       "  </thead>\n",
       "  <tbody>\n",
       "    <tr>\n",
       "      <th>0</th>\n",
       "      <td>DecisionTree</td>\n",
       "      <td>&lt;py_entitymatching.matcher.dtmatcher.DTMatcher object at 0x0000022383AEAB00&gt;</td>\n",
       "      <td>10</td>\n",
       "      <td>0.933333</td>\n",
       "      <td>1.000000</td>\n",
       "      <td>1.0000</td>\n",
       "      <td>0.928571</td>\n",
       "      <td>1.000000</td>\n",
       "      <td>1.0</td>\n",
       "      <td>0.933333</td>\n",
       "      <td>1.000000</td>\n",
       "      <td>1.000000</td>\n",
       "      <td>1.0</td>\n",
       "      <td>0.979524</td>\n",
       "    </tr>\n",
       "    <tr>\n",
       "      <th>1</th>\n",
       "      <td>RF</td>\n",
       "      <td>&lt;py_entitymatching.matcher.rfmatcher.RFMatcher object at 0x0000022386E90630&gt;</td>\n",
       "      <td>10</td>\n",
       "      <td>0.933333</td>\n",
       "      <td>1.000000</td>\n",
       "      <td>1.0000</td>\n",
       "      <td>1.000000</td>\n",
       "      <td>1.000000</td>\n",
       "      <td>1.0</td>\n",
       "      <td>1.000000</td>\n",
       "      <td>1.000000</td>\n",
       "      <td>1.000000</td>\n",
       "      <td>1.0</td>\n",
       "      <td>0.993333</td>\n",
       "    </tr>\n",
       "    <tr>\n",
       "      <th>2</th>\n",
       "      <td>SVM</td>\n",
       "      <td>&lt;py_entitymatching.matcher.svmmatcher.SVMMatcher object at 0x0000022383AEAA20&gt;</td>\n",
       "      <td>10</td>\n",
       "      <td>0.933333</td>\n",
       "      <td>0.923077</td>\n",
       "      <td>0.9375</td>\n",
       "      <td>0.928571</td>\n",
       "      <td>0.923077</td>\n",
       "      <td>1.0</td>\n",
       "      <td>1.000000</td>\n",
       "      <td>0.916667</td>\n",
       "      <td>0.857143</td>\n",
       "      <td>1.0</td>\n",
       "      <td>0.941937</td>\n",
       "    </tr>\n",
       "    <tr>\n",
       "      <th>3</th>\n",
       "      <td>LinReg</td>\n",
       "      <td>&lt;py_entitymatching.matcher.linregmatcher.LinRegMatcher object at 0x0000022386E90C50&gt;</td>\n",
       "      <td>10</td>\n",
       "      <td>0.933333</td>\n",
       "      <td>1.000000</td>\n",
       "      <td>1.0000</td>\n",
       "      <td>0.857143</td>\n",
       "      <td>0.846154</td>\n",
       "      <td>1.0</td>\n",
       "      <td>0.933333</td>\n",
       "      <td>1.000000</td>\n",
       "      <td>1.000000</td>\n",
       "      <td>1.0</td>\n",
       "      <td>0.956996</td>\n",
       "    </tr>\n",
       "    <tr>\n",
       "      <th>4</th>\n",
       "      <td>LogReg</td>\n",
       "      <td>&lt;py_entitymatching.matcher.logregmatcher.LogRegMatcher object at 0x0000022386E90AC8&gt;</td>\n",
       "      <td>10</td>\n",
       "      <td>0.933333</td>\n",
       "      <td>1.000000</td>\n",
       "      <td>1.0000</td>\n",
       "      <td>0.928571</td>\n",
       "      <td>0.923077</td>\n",
       "      <td>1.0</td>\n",
       "      <td>1.000000</td>\n",
       "      <td>1.000000</td>\n",
       "      <td>1.000000</td>\n",
       "      <td>1.0</td>\n",
       "      <td>0.978498</td>\n",
       "    </tr>\n",
       "    <tr>\n",
       "      <th>5</th>\n",
       "      <td>NaiveBayes</td>\n",
       "      <td>&lt;py_entitymatching.matcher.nbmatcher.NBMatcher object at 0x0000022386E906A0&gt;</td>\n",
       "      <td>10</td>\n",
       "      <td>0.933333</td>\n",
       "      <td>1.000000</td>\n",
       "      <td>1.0000</td>\n",
       "      <td>0.928571</td>\n",
       "      <td>0.923077</td>\n",
       "      <td>1.0</td>\n",
       "      <td>1.000000</td>\n",
       "      <td>1.000000</td>\n",
       "      <td>1.000000</td>\n",
       "      <td>1.0</td>\n",
       "      <td>0.978498</td>\n",
       "    </tr>\n",
       "  </tbody>\n",
       "</table>\n",
       "</div>"
      ],
      "text/plain": [
       "           Name  \\\n",
       "0  DecisionTree   \n",
       "1            RF   \n",
       "2           SVM   \n",
       "3        LinReg   \n",
       "4        LogReg   \n",
       "5    NaiveBayes   \n",
       "\n",
       "                                                                                Matcher  \\\n",
       "0          <py_entitymatching.matcher.dtmatcher.DTMatcher object at 0x0000022383AEAB00>   \n",
       "1          <py_entitymatching.matcher.rfmatcher.RFMatcher object at 0x0000022386E90630>   \n",
       "2        <py_entitymatching.matcher.svmmatcher.SVMMatcher object at 0x0000022383AEAA20>   \n",
       "3  <py_entitymatching.matcher.linregmatcher.LinRegMatcher object at 0x0000022386E90C50>   \n",
       "4  <py_entitymatching.matcher.logregmatcher.LogRegMatcher object at 0x0000022386E90AC8>   \n",
       "5          <py_entitymatching.matcher.nbmatcher.NBMatcher object at 0x0000022386E906A0>   \n",
       "\n",
       "   Num folds    Fold 1    Fold 2  Fold 3    Fold 4    Fold 5  Fold 6  \\\n",
       "0         10  0.933333  1.000000  1.0000  0.928571  1.000000     1.0   \n",
       "1         10  0.933333  1.000000  1.0000  1.000000  1.000000     1.0   \n",
       "2         10  0.933333  0.923077  0.9375  0.928571  0.923077     1.0   \n",
       "3         10  0.933333  1.000000  1.0000  0.857143  0.846154     1.0   \n",
       "4         10  0.933333  1.000000  1.0000  0.928571  0.923077     1.0   \n",
       "5         10  0.933333  1.000000  1.0000  0.928571  0.923077     1.0   \n",
       "\n",
       "     Fold 7    Fold 8    Fold 9  Fold 10  Mean score  \n",
       "0  0.933333  1.000000  1.000000      1.0    0.979524  \n",
       "1  1.000000  1.000000  1.000000      1.0    0.993333  \n",
       "2  1.000000  0.916667  0.857143      1.0    0.941937  \n",
       "3  0.933333  1.000000  1.000000      1.0    0.956996  \n",
       "4  1.000000  1.000000  1.000000      1.0    0.978498  \n",
       "5  1.000000  1.000000  1.000000      1.0    0.978498  "
      ]
     },
     "execution_count": 136,
     "metadata": {},
     "output_type": "execute_result"
    }
   ],
   "source": [
    "result['cv_stats']"
   ]
  },
  {
   "cell_type": "markdown",
   "metadata": {},
   "source": [
    "Based on the average recall across the 10 folds, we find that that the logistic regression performs the best, followed by Naive Bayes and than random forest/decision tree. \n",
    "\n",
    "For the purposes of our project, the goal is to create a matcher that achieves"
   ]
  },
  {
   "cell_type": "markdown",
   "metadata": {},
   "source": [
    "**Package note**: Is there a way to extract recall at a K, which the user can specify? For example, of the top 100 tuples that are declared matches, how many of these are true positives."
   ]
  },
  {
   "cell_type": "markdown",
   "metadata": {},
   "source": [
    "#### Debug"
   ]
  },
  {
   "cell_type": "markdown",
   "metadata": {},
   "source": [
    "Before proceeding, let's explore what is being misclassified:"
   ]
  },
  {
   "cell_type": "code",
   "execution_count": 137,
   "metadata": {
    "collapsed": false
   },
   "outputs": [
    {
     "data": {
      "text/html": [
       "<div>\n",
       "<table border=\"1\" class=\"dataframe\">\n",
       "  <thead>\n",
       "    <tr style=\"text-align: right;\">\n",
       "      <th></th>\n",
       "      <th>_id</th>\n",
       "      <th>ltable_id</th>\n",
       "      <th>rtable_movieId</th>\n",
       "      <th>ltable_title</th>\n",
       "      <th>ltable_year</th>\n",
       "      <th>ltable_genres</th>\n",
       "      <th>rtable_title</th>\n",
       "      <th>rtable_year</th>\n",
       "      <th>rtable_genres</th>\n",
       "    </tr>\n",
       "  </thead>\n",
       "  <tbody>\n",
       "    <tr>\n",
       "      <th>0</th>\n",
       "      <td>0</td>\n",
       "      <td>1026</td>\n",
       "      <td>1</td>\n",
       "      <td>jade</td>\n",
       "      <td>1995</td>\n",
       "      <td>crime|drama|thriller</td>\n",
       "      <td>Toy Story</td>\n",
       "      <td>1995</td>\n",
       "      <td>Adventure|Animation|Children|Comedy|Fantasy</td>\n",
       "    </tr>\n",
       "    <tr>\n",
       "      <th>1</th>\n",
       "      <td>1</td>\n",
       "      <td>2053</td>\n",
       "      <td>1</td>\n",
       "      <td>bad boys</td>\n",
       "      <td>1995</td>\n",
       "      <td>action|comedy|crime|drama|thriller</td>\n",
       "      <td>Toy Story</td>\n",
       "      <td>1995</td>\n",
       "      <td>Adventure|Animation|Children|Comedy|Fantasy</td>\n",
       "    </tr>\n",
       "    <tr>\n",
       "      <th>2</th>\n",
       "      <td>2</td>\n",
       "      <td>2822</td>\n",
       "      <td>1</td>\n",
       "      <td>clueless</td>\n",
       "      <td>1995</td>\n",
       "      <td>comedy|romance</td>\n",
       "      <td>Toy Story</td>\n",
       "      <td>1995</td>\n",
       "      <td>Adventure|Animation|Children|Comedy|Fantasy</td>\n",
       "    </tr>\n",
       "    <tr>\n",
       "      <th>3</th>\n",
       "      <td>3</td>\n",
       "      <td>4662</td>\n",
       "      <td>1</td>\n",
       "      <td>welcome to the dollhouse</td>\n",
       "      <td>1995</td>\n",
       "      <td>comedy|drama</td>\n",
       "      <td>Toy Story</td>\n",
       "      <td>1995</td>\n",
       "      <td>Adventure|Animation|Children|Comedy|Fantasy</td>\n",
       "    </tr>\n",
       "    <tr>\n",
       "      <th>4</th>\n",
       "      <td>4</td>\n",
       "      <td>3593</td>\n",
       "      <td>1</td>\n",
       "      <td>the usual suspects</td>\n",
       "      <td>1995</td>\n",
       "      <td>crime|drama|mystery|thriller</td>\n",
       "      <td>Toy Story</td>\n",
       "      <td>1995</td>\n",
       "      <td>Adventure|Animation|Children|Comedy|Fantasy</td>\n",
       "    </tr>\n",
       "  </tbody>\n",
       "</table>\n",
       "</div>"
      ],
      "text/plain": [
       "   _id  ltable_id  rtable_movieId              ltable_title ltable_year  \\\n",
       "0    0       1026               1                      jade        1995   \n",
       "1    1       2053               1                  bad boys        1995   \n",
       "2    2       2822               1                  clueless        1995   \n",
       "3    3       4662               1  welcome to the dollhouse        1995   \n",
       "4    4       3593               1        the usual suspects        1995   \n",
       "\n",
       "                        ltable_genres rtable_title rtable_year  \\\n",
       "0                crime|drama|thriller    Toy Story        1995   \n",
       "1  action|comedy|crime|drama|thriller    Toy Story        1995   \n",
       "2                      comedy|romance    Toy Story        1995   \n",
       "3                        comedy|drama    Toy Story        1995   \n",
       "4        crime|drama|mystery|thriller    Toy Story        1995   \n",
       "\n",
       "                                 rtable_genres  \n",
       "0  Adventure|Animation|Children|Comedy|Fantasy  \n",
       "1  Adventure|Animation|Children|Comedy|Fantasy  \n",
       "2  Adventure|Animation|Children|Comedy|Fantasy  \n",
       "3  Adventure|Animation|Children|Comedy|Fantasy  \n",
       "4  Adventure|Animation|Children|Comedy|Fantasy  "
      ]
     },
     "execution_count": 137,
     "metadata": {},
     "output_type": "execute_result"
    }
   ],
   "source": [
    "C.head()"
   ]
  },
  {
   "cell_type": "code",
   "execution_count": 138,
   "metadata": {
    "collapsed": true
   },
   "outputs": [],
   "source": [
    "dbg = em.debug_blocker(C, A, B, output_size = 5)"
   ]
  },
  {
   "cell_type": "code",
   "execution_count": 139,
   "metadata": {
    "collapsed": false
   },
   "outputs": [
    {
     "data": {
      "text/html": [
       "<div>\n",
       "<table border=\"1\" class=\"dataframe\">\n",
       "  <thead>\n",
       "    <tr style=\"text-align: right;\">\n",
       "      <th></th>\n",
       "      <th>_id</th>\n",
       "      <th>similarity</th>\n",
       "      <th>ltable_id</th>\n",
       "      <th>rtable_movieId</th>\n",
       "      <th>ltable_title</th>\n",
       "      <th>ltable_genres</th>\n",
       "      <th>ltable_year</th>\n",
       "      <th>rtable_title</th>\n",
       "      <th>rtable_genres</th>\n",
       "      <th>rtable_year</th>\n",
       "    </tr>\n",
       "  </thead>\n",
       "  <tbody>\n",
       "    <tr>\n",
       "      <th>0</th>\n",
       "      <td>0</td>\n",
       "      <td>0.750000</td>\n",
       "      <td>1231</td>\n",
       "      <td>57854</td>\n",
       "      <td>the count of monte cristo</td>\n",
       "      <td>action|adventure|drama|romance|thriller</td>\n",
       "      <td>2002</td>\n",
       "      <td>The Count of Monte Cristo</td>\n",
       "      <td>Action|Adventure|Drama|Romance|Thriller</td>\n",
       "      <td>1934</td>\n",
       "    </tr>\n",
       "    <tr>\n",
       "      <th>1</th>\n",
       "      <td>1</td>\n",
       "      <td>0.750000</td>\n",
       "      <td>832</td>\n",
       "      <td>92938</td>\n",
       "      <td>ghost rider: spirit of vengeance</td>\n",
       "      <td>action|fantasy|thriller</td>\n",
       "      <td>2011</td>\n",
       "      <td>Ghost Rider: Spirit of Vengeance</td>\n",
       "      <td>Action|Fantasy|Thriller</td>\n",
       "      <td>2012</td>\n",
       "    </tr>\n",
       "    <tr>\n",
       "      <th>2</th>\n",
       "      <td>2</td>\n",
       "      <td>0.750000</td>\n",
       "      <td>3189</td>\n",
       "      <td>93512</td>\n",
       "      <td>jeff, who lives at home</td>\n",
       "      <td>comedy|drama</td>\n",
       "      <td>2011</td>\n",
       "      <td>Jeff, Who Lives at Home</td>\n",
       "      <td>Comedy|Drama</td>\n",
       "      <td>2012</td>\n",
       "    </tr>\n",
       "    <tr>\n",
       "      <th>3</th>\n",
       "      <td>3</td>\n",
       "      <td>0.727273</td>\n",
       "      <td>2489</td>\n",
       "      <td>2338</td>\n",
       "      <td>i know what you did last summer</td>\n",
       "      <td>horror|mystery|thriller</td>\n",
       "      <td>1997</td>\n",
       "      <td>I Still Know What You Did Last Summer</td>\n",
       "      <td>Horror|Mystery|Thriller</td>\n",
       "      <td>1998</td>\n",
       "    </tr>\n",
       "    <tr>\n",
       "      <th>4</th>\n",
       "      <td>4</td>\n",
       "      <td>0.714286</td>\n",
       "      <td>4443</td>\n",
       "      <td>118862</td>\n",
       "      <td>closer to the moon</td>\n",
       "      <td>comedy|drama</td>\n",
       "      <td>2014</td>\n",
       "      <td>Closer to the Moon</td>\n",
       "      <td>Comedy|Drama</td>\n",
       "      <td>2013</td>\n",
       "    </tr>\n",
       "  </tbody>\n",
       "</table>\n",
       "</div>"
      ],
      "text/plain": [
       "   _id  similarity  ltable_id  rtable_movieId  \\\n",
       "0    0    0.750000       1231           57854   \n",
       "1    1    0.750000        832           92938   \n",
       "2    2    0.750000       3189           93512   \n",
       "3    3    0.727273       2489            2338   \n",
       "4    4    0.714286       4443          118862   \n",
       "\n",
       "                       ltable_title                            ltable_genres  \\\n",
       "0         the count of monte cristo  action|adventure|drama|romance|thriller   \n",
       "1  ghost rider: spirit of vengeance                  action|fantasy|thriller   \n",
       "2           jeff, who lives at home                             comedy|drama   \n",
       "3   i know what you did last summer                  horror|mystery|thriller   \n",
       "4                closer to the moon                             comedy|drama   \n",
       "\n",
       "  ltable_year                           rtable_title  \\\n",
       "0        2002              The Count of Monte Cristo   \n",
       "1        2011       Ghost Rider: Spirit of Vengeance   \n",
       "2        2011                Jeff, Who Lives at Home   \n",
       "3        1997  I Still Know What You Did Last Summer   \n",
       "4        2014                     Closer to the Moon   \n",
       "\n",
       "                             rtable_genres rtable_year  \n",
       "0  Action|Adventure|Drama|Romance|Thriller        1934  \n",
       "1                  Action|Fantasy|Thriller        2012  \n",
       "2                             Comedy|Drama        2012  \n",
       "3                  Horror|Mystery|Thriller        1998  \n",
       "4                             Comedy|Drama        2013  "
      ]
     },
     "execution_count": 139,
     "metadata": {},
     "output_type": "execute_result"
    }
   ],
   "source": [
    "dbg"
   ]
  },
  {
   "cell_type": "markdown",
   "metadata": {},
   "source": [
    "Based on the observations that are beign misclassified, it looks like there are two kinds of errors:\n",
    "\n",
    "- 1) a movie gets remade and there is an old and new version of the movie\n",
    "- 2) there appears to be a consistent error between the two datasets where in a subset of cases, there is a match on movie title, but year is one year off (in an inconsistent direction). This comes from how the data was originally classified in the datasets. Without going back to the source, we have no way of knowing the rules by which a movie's year was established (perhaps the difference is year it was filmed versus year when it was released).\n",
    "\n",
    "Since we already have high precision and recall and have gained insights into the error, we leave further investigation of this error to future work. "
   ]
  },
  {
   "cell_type": "markdown",
   "metadata": {},
   "source": [
    "### Evaluating the Matching Output"
   ]
  },
  {
   "cell_type": "markdown",
   "metadata": {},
   "source": [
    "First, we want to convert the feature vectors and create a new set _L_ based on the test set _J_, which will have the feature vectors from a feature table"
   ]
  },
  {
   "cell_type": "code",
   "execution_count": 140,
   "metadata": {
    "collapsed": false
   },
   "outputs": [
    {
     "name": "stderr",
     "output_type": "stream",
     "text": [
      "0%                          100%\n",
      "[##############################] | ETA: 00:00:00"
     ]
    },
    {
     "name": "stdout",
     "output_type": "stream",
     "text": [
      "Extract features on J:  0.9315263253015473\n"
     ]
    },
    {
     "name": "stderr",
     "output_type": "stream",
     "text": [
      "\n",
      "Total time elapsed: 00:00:00\n"
     ]
    }
   ],
   "source": [
    "start = time.clock()\n",
    "L = em.extract_feature_vecs(J, feature_table=feature_table,\n",
    "                           attrs_after='label',\n",
    "                           show_progress=True)\n",
    "elapsed = (time.clock() - start)\n",
    "print(\"Extract features on J: \", elapsed)"
   ]
  },
  {
   "cell_type": "markdown",
   "metadata": {},
   "source": [
    "Next, we will trian the matched based on the feature vectors from the development set. Based on the results of the development set, we want to find a matcher that achieves precision of at least 90% and recall as high possible. Based on the nature of our project (matching movie-year across two data sources), we want to minimize the number of false negatives (minimize type 2 error). Therefore, we select the logistic regression as our matcher."
   ]
  },
  {
   "cell_type": "code",
   "execution_count": 141,
   "metadata": {
    "collapsed": false
   },
   "outputs": [
    {
     "name": "stdout",
     "output_type": "stream",
     "text": [
      "LG on Test Set:  0.004608405979070085\n"
     ]
    }
   ],
   "source": [
    "#Train using feature vectors from, but now on test set J\n",
    "start = time.clock()\n",
    "lg.fit(table=L,\n",
    "      exclude_attrs=['_id', 'ltable_id', 'rtable_movieId', 'label'],\n",
    "      target_attr='label')\n",
    "elapsed = (time.clock() - start)\n",
    "print(\"LG on Test Set: \", elapsed)"
   ]
  },
  {
   "cell_type": "markdown",
   "metadata": {},
   "source": [
    "Based on the above, we now want to predict:"
   ]
  },
  {
   "cell_type": "code",
   "execution_count": 142,
   "metadata": {
    "collapsed": false,
    "scrolled": true
   },
   "outputs": [
    {
     "data": {
      "text/html": [
       "<div>\n",
       "<table border=\"1\" class=\"dataframe\">\n",
       "  <thead>\n",
       "    <tr style=\"text-align: right;\">\n",
       "      <th></th>\n",
       "      <th>_id</th>\n",
       "      <th>ltable_id</th>\n",
       "      <th>rtable_movieId</th>\n",
       "      <th>title_title_jac_qgm_3_qgm_3</th>\n",
       "      <th>title_title_cos_dlm_dc0_dlm_dc0</th>\n",
       "      <th>title_title_jac_dlm_dc0_dlm_dc0</th>\n",
       "      <th>title_title_mel</th>\n",
       "      <th>title_title_lev_dist</th>\n",
       "      <th>title_title_lev_sim</th>\n",
       "      <th>title_title_nmw</th>\n",
       "      <th>title_title_sw</th>\n",
       "      <th>label</th>\n",
       "    </tr>\n",
       "  </thead>\n",
       "  <tbody>\n",
       "    <tr>\n",
       "      <th>90</th>\n",
       "      <td>457561</td>\n",
       "      <td>4831</td>\n",
       "      <td>6881</td>\n",
       "      <td>0.478261</td>\n",
       "      <td>0.333333</td>\n",
       "      <td>0.2</td>\n",
       "      <td>0.911111</td>\n",
       "      <td>2</td>\n",
       "      <td>0.866667</td>\n",
       "      <td>13.0</td>\n",
       "      <td>13.0</td>\n",
       "      <td>1</td>\n",
       "    </tr>\n",
       "    <tr>\n",
       "      <th>254</th>\n",
       "      <td>581</td>\n",
       "      <td>4992</td>\n",
       "      <td>39183</td>\n",
       "      <td>0.000000</td>\n",
       "      <td>0.000000</td>\n",
       "      <td>0.0</td>\n",
       "      <td>0.419103</td>\n",
       "      <td>17</td>\n",
       "      <td>0.105263</td>\n",
       "      <td>0.0</td>\n",
       "      <td>3.0</td>\n",
       "      <td>0</td>\n",
       "    </tr>\n",
       "    <tr>\n",
       "      <th>283</th>\n",
       "      <td>771</td>\n",
       "      <td>1834</td>\n",
       "      <td>31856</td>\n",
       "      <td>0.000000</td>\n",
       "      <td>0.000000</td>\n",
       "      <td>0.0</td>\n",
       "      <td>0.481624</td>\n",
       "      <td>35</td>\n",
       "      <td>0.125000</td>\n",
       "      <td>-22.0</td>\n",
       "      <td>2.0</td>\n",
       "      <td>0</td>\n",
       "    </tr>\n",
       "    <tr>\n",
       "      <th>445</th>\n",
       "      <td>2013</td>\n",
       "      <td>2378</td>\n",
       "      <td>101715</td>\n",
       "      <td>0.000000</td>\n",
       "      <td>0.000000</td>\n",
       "      <td>0.0</td>\n",
       "      <td>0.351852</td>\n",
       "      <td>8</td>\n",
       "      <td>0.111111</td>\n",
       "      <td>-2.0</td>\n",
       "      <td>1.0</td>\n",
       "      <td>0</td>\n",
       "    </tr>\n",
       "    <tr>\n",
       "      <th>461</th>\n",
       "      <td>2169</td>\n",
       "      <td>1651</td>\n",
       "      <td>5957</td>\n",
       "      <td>0.000000</td>\n",
       "      <td>0.000000</td>\n",
       "      <td>0.0</td>\n",
       "      <td>0.384722</td>\n",
       "      <td>14</td>\n",
       "      <td>0.125000</td>\n",
       "      <td>-4.0</td>\n",
       "      <td>1.0</td>\n",
       "      <td>0</td>\n",
       "    </tr>\n",
       "  </tbody>\n",
       "</table>\n",
       "</div>"
      ],
      "text/plain": [
       "        _id  ltable_id  rtable_movieId  title_title_jac_qgm_3_qgm_3  \\\n",
       "90   457561       4831            6881                     0.478261   \n",
       "254     581       4992           39183                     0.000000   \n",
       "283     771       1834           31856                     0.000000   \n",
       "445    2013       2378          101715                     0.000000   \n",
       "461    2169       1651            5957                     0.000000   \n",
       "\n",
       "     title_title_cos_dlm_dc0_dlm_dc0  title_title_jac_dlm_dc0_dlm_dc0  \\\n",
       "90                          0.333333                              0.2   \n",
       "254                         0.000000                              0.0   \n",
       "283                         0.000000                              0.0   \n",
       "445                         0.000000                              0.0   \n",
       "461                         0.000000                              0.0   \n",
       "\n",
       "     title_title_mel  title_title_lev_dist  title_title_lev_sim  \\\n",
       "90          0.911111                     2             0.866667   \n",
       "254         0.419103                    17             0.105263   \n",
       "283         0.481624                    35             0.125000   \n",
       "445         0.351852                     8             0.111111   \n",
       "461         0.384722                    14             0.125000   \n",
       "\n",
       "     title_title_nmw  title_title_sw  label  \n",
       "90              13.0            13.0      1  \n",
       "254              0.0             3.0      0  \n",
       "283            -22.0             2.0      0  \n",
       "445             -2.0             1.0      0  \n",
       "461             -4.0             1.0      0  "
      ]
     },
     "execution_count": 142,
     "metadata": {},
     "output_type": "execute_result"
    }
   ],
   "source": [
    "L.head()\n"
   ]
  },
  {
   "cell_type": "code",
   "execution_count": 148,
   "metadata": {
    "collapsed": false
   },
   "outputs": [
    {
     "name": "stdout",
     "output_type": "stream",
     "text": [
      "Predictions from ML Matcher:  0.0023624383898095402\n"
     ]
    }
   ],
   "source": [
    "start = time.clock()\n",
    "predictions = lg.predict(table=L, exclude_attrs=['_id', 'ltable_id', 'rtable_movieId', 'label'], \n",
    "              append=True, target_attr='predicted', inplace=False)\n",
    "elapsed = (time.clock() - start)\n",
    "print(\"Predictions from ML Matcher: \", elapsed)"
   ]
  },
  {
   "cell_type": "markdown",
   "metadata": {},
   "source": [
    "### Results"
   ]
  },
  {
   "cell_type": "code",
   "execution_count": 144,
   "metadata": {
    "collapsed": false
   },
   "outputs": [
    {
     "name": "stdout",
     "output_type": "stream",
     "text": [
      "Precision : 100.0% (55/55)\n",
      "Recall : 98.21% (55/56)\n",
      "F1 : 99.1%\n",
      "False positives : 0 (out of 55 positive predictions)\n",
      "False negatives : 1 (out of 95 negative predictions)\n"
     ]
    }
   ],
   "source": [
    "eval_result = em.eval_matches(predictions, 'label', 'predicted')\n",
    "em.print_eval_summary(eval_result)"
   ]
  },
  {
   "cell_type": "code",
   "execution_count": 145,
   "metadata": {
    "collapsed": false
   },
   "outputs": [
    {
     "data": {
      "text/html": [
       "<div>\n",
       "<table border=\"1\" class=\"dataframe\">\n",
       "  <thead>\n",
       "    <tr style=\"text-align: right;\">\n",
       "      <th></th>\n",
       "      <th>_id</th>\n",
       "      <th>ltable_id</th>\n",
       "      <th>rtable_movieId</th>\n",
       "      <th>title_title_jac_qgm_3_qgm_3</th>\n",
       "      <th>title_title_cos_dlm_dc0_dlm_dc0</th>\n",
       "      <th>title_title_jac_dlm_dc0_dlm_dc0</th>\n",
       "      <th>title_title_mel</th>\n",
       "      <th>title_title_lev_dist</th>\n",
       "      <th>title_title_lev_sim</th>\n",
       "      <th>title_title_nmw</th>\n",
       "      <th>title_title_sw</th>\n",
       "      <th>label</th>\n",
       "      <th>predicted</th>\n",
       "    </tr>\n",
       "  </thead>\n",
       "  <tbody>\n",
       "    <tr>\n",
       "      <th>142</th>\n",
       "      <td>645229</td>\n",
       "      <td>1601</td>\n",
       "      <td>47</td>\n",
       "      <td>0.074074</td>\n",
       "      <td>0.0</td>\n",
       "      <td>0.0</td>\n",
       "      <td>0.583333</td>\n",
       "      <td>16</td>\n",
       "      <td>0.2</td>\n",
       "      <td>-11.0</td>\n",
       "      <td>4.0</td>\n",
       "      <td>1</td>\n",
       "      <td>0</td>\n",
       "    </tr>\n",
       "  </tbody>\n",
       "</table>\n",
       "</div>"
      ],
      "text/plain": [
       "        _id  ltable_id  rtable_movieId  title_title_jac_qgm_3_qgm_3  \\\n",
       "142  645229       1601              47                     0.074074   \n",
       "\n",
       "     title_title_cos_dlm_dc0_dlm_dc0  title_title_jac_dlm_dc0_dlm_dc0  \\\n",
       "142                              0.0                              0.0   \n",
       "\n",
       "     title_title_mel  title_title_lev_dist  title_title_lev_sim  \\\n",
       "142         0.583333                    16                  0.2   \n",
       "\n",
       "     title_title_nmw  title_title_sw  label  predicted  \n",
       "142            -11.0             4.0      1          0  "
      ]
     },
     "execution_count": 145,
     "metadata": {},
     "output_type": "execute_result"
    }
   ],
   "source": [
    "predictions[(predictions['label'] != predictions['predicted'])]"
   ]
  },
  {
   "cell_type": "code",
   "execution_count": 146,
   "metadata": {
    "collapsed": false
   },
   "outputs": [
    {
     "data": {
      "text/html": [
       "<div>\n",
       "<table border=\"1\" class=\"dataframe\">\n",
       "  <thead>\n",
       "    <tr style=\"text-align: right;\">\n",
       "      <th></th>\n",
       "      <th>_id</th>\n",
       "      <th>ltable_id</th>\n",
       "      <th>rtable_movieId</th>\n",
       "      <th>ltable_title</th>\n",
       "      <th>ltable_year</th>\n",
       "      <th>ltable_genres</th>\n",
       "      <th>rtable_title</th>\n",
       "      <th>rtable_year</th>\n",
       "      <th>rtable_genres</th>\n",
       "    </tr>\n",
       "  </thead>\n",
       "  <tbody>\n",
       "    <tr>\n",
       "      <th>3255</th>\n",
       "      <td>3255</td>\n",
       "      <td>1601</td>\n",
       "      <td>47</td>\n",
       "      <td>se7en</td>\n",
       "      <td>1995</td>\n",
       "      <td>crime|drama|mystery|thriller</td>\n",
       "      <td>Seven (a.k.a. Se7en)</td>\n",
       "      <td>1995</td>\n",
       "      <td>Mystery|Thriller</td>\n",
       "    </tr>\n",
       "  </tbody>\n",
       "</table>\n",
       "</div>"
      ],
      "text/plain": [
       "       _id  ltable_id  rtable_movieId ltable_title ltable_year  \\\n",
       "3255  3255       1601              47        se7en        1995   \n",
       "\n",
       "                     ltable_genres          rtable_title rtable_year  \\\n",
       "3255  crime|drama|mystery|thriller  Seven (a.k.a. Se7en)        1995   \n",
       "\n",
       "         rtable_genres  \n",
       "3255  Mystery|Thriller  "
      ]
     },
     "execution_count": 146,
     "metadata": {},
     "output_type": "execute_result"
    }
   ],
   "source": [
    "C.loc[(C['ltable_id'] == 1601) & (C['rtable_movieId'] == 47)]"
   ]
  },
  {
   "cell_type": "markdown",
   "metadata": {},
   "source": [
    "**Package note**: this summary statistics output is AWESOME."
   ]
  },
  {
   "cell_type": "markdown",
   "metadata": {},
   "source": [
    "From the above test set, we can see that we have minimized false negatives (type 2 error) and still achieved precision of over 90%. Our results are very good - this was likely because our dataset had some cleaning in it from the original source. \n",
    "\n",
    "We are able to achieve very high recall on our test set by using the logistic regression matcher and using overlap blocking.\n",
    "\n",
    "We again explore our mis-classified observation and find that it is misclassified due to two titles in *rtable_title* and use of \"a.k.a.\""
   ]
  }
 ],
 "metadata": {
  "anaconda-cloud": {},
  "kernelspec": {
   "display_name": "Python [conda root]",
   "language": "python",
   "name": "conda-root-py"
  },
  "language_info": {
   "codemirror_mode": {
    "name": "ipython",
    "version": 3
   },
   "file_extension": ".py",
   "mimetype": "text/x-python",
   "name": "python",
   "nbconvert_exporter": "python",
   "pygments_lexer": "ipython3",
   "version": "3.5.2"
  }
 },
 "nbformat": 4,
 "nbformat_minor": 2
}
