{
 "cells": [
  {
   "cell_type": "markdown",
   "metadata": {},
   "source": [
    "# CS838 Project Stage3"
   ]
  },
  {
   "cell_type": "code",
   "execution_count": 1,
   "metadata": {
    "collapsed": false,
    "scrolled": true
   },
   "outputs": [],
   "source": [
    "import csv\n",
    "import py_entitymatching as em"
   ]
  },
  {
   "cell_type": "markdown",
   "metadata": {},
   "source": [
    "## Read input tables"
   ]
  },
  {
   "cell_type": "markdown",
   "metadata": {},
   "source": [
    "Since the original two movie dataset that we selected don't have too many overlaps, we changed one of them to another movie dataset. The first dataset is from kaggle.com. The second dataset is from movielens.org.\n",
    "\n",
    "We added an id column for both datasets."
   ]
  },
  {
   "cell_type": "code",
   "execution_count": 2,
   "metadata": {
    "collapsed": false
   },
   "outputs": [
    {
     "name": "stderr",
     "output_type": "stream",
     "text": [
      "Metadata file is not present in the given path; proceeding to read the csv file.\n",
      "Metadata file is not present in the given path; proceeding to read the csv file.\n"
     ]
    }
   ],
   "source": [
    "A = em.read_csv_metadata('movie1_stage3.csv', key='id',encoding='mac_roman')\n",
    "B = em.read_csv_metadata('movie2_stage3.csv', key='movieId',encoding='mac_roman')"
   ]
  },
  {
   "cell_type": "code",
   "execution_count": 3,
   "metadata": {
    "collapsed": false
   },
   "outputs": [
    {
     "data": {
      "text/html": [
       "<div>\n",
       "<table border=\"1\" class=\"dataframe\">\n",
       "  <thead>\n",
       "    <tr style=\"text-align: right;\">\n",
       "      <th></th>\n",
       "      <th>id</th>\n",
       "      <th>movie_title</th>\n",
       "      <th>genres</th>\n",
       "      <th>director_name</th>\n",
       "      <th>plot_keywords</th>\n",
       "      <th>actor_3_facebook_likes</th>\n",
       "      <th>cast_total_facebook_likes</th>\n",
       "      <th>content_rating</th>\n",
       "      <th>budget</th>\n",
       "      <th>duration</th>\n",
       "      <th>...</th>\n",
       "      <th>actor_2_facebook_likes</th>\n",
       "      <th>imdb_score</th>\n",
       "      <th>movie_facebook_likes</th>\n",
       "      <th>language</th>\n",
       "      <th>actor_1_facebook_likes</th>\n",
       "      <th>facenumber_in_poster</th>\n",
       "      <th>actor_1_name</th>\n",
       "      <th>num_user_for_reviews</th>\n",
       "      <th>aspect_ratio</th>\n",
       "      <th>num_critic_for_reviews</th>\n",
       "    </tr>\n",
       "  </thead>\n",
       "  <tbody>\n",
       "    <tr>\n",
       "      <th>0</th>\n",
       "      <td>1</td>\n",
       "      <td>avatar</td>\n",
       "      <td>action|adventure|fantasy|sci-fi</td>\n",
       "      <td>james cameron</td>\n",
       "      <td>avatar|future|marine|native|paraplegic</td>\n",
       "      <td>855</td>\n",
       "      <td>4834</td>\n",
       "      <td>pg-13</td>\n",
       "      <td>237000000</td>\n",
       "      <td>178</td>\n",
       "      <td>...</td>\n",
       "      <td>936</td>\n",
       "      <td>7.9</td>\n",
       "      <td>33000</td>\n",
       "      <td>english</td>\n",
       "      <td>1000</td>\n",
       "      <td>0</td>\n",
       "      <td>cch pounder</td>\n",
       "      <td>3054</td>\n",
       "      <td>1.78</td>\n",
       "      <td>723</td>\n",
       "    </tr>\n",
       "    <tr>\n",
       "      <th>1</th>\n",
       "      <td>2</td>\n",
       "      <td>pirates of the caribbean: at world's end</td>\n",
       "      <td>action|adventure|fantasy</td>\n",
       "      <td>gore verbinski</td>\n",
       "      <td>goddess|marriage ceremony|marriage proposal|pirate|singapore</td>\n",
       "      <td>1000</td>\n",
       "      <td>48350</td>\n",
       "      <td>pg-13</td>\n",
       "      <td>300000000</td>\n",
       "      <td>169</td>\n",
       "      <td>...</td>\n",
       "      <td>5000</td>\n",
       "      <td>7.1</td>\n",
       "      <td>0</td>\n",
       "      <td>english</td>\n",
       "      <td>40000</td>\n",
       "      <td>0</td>\n",
       "      <td>johnny depp</td>\n",
       "      <td>1238</td>\n",
       "      <td>2.35</td>\n",
       "      <td>302</td>\n",
       "    </tr>\n",
       "    <tr>\n",
       "      <th>2</th>\n",
       "      <td>3</td>\n",
       "      <td>spectre</td>\n",
       "      <td>action|adventure|thriller</td>\n",
       "      <td>sam mendes</td>\n",
       "      <td>bomb|espionage|sequel|spy|terrorist</td>\n",
       "      <td>161</td>\n",
       "      <td>11700</td>\n",
       "      <td>pg-13</td>\n",
       "      <td>245000000</td>\n",
       "      <td>148</td>\n",
       "      <td>...</td>\n",
       "      <td>393</td>\n",
       "      <td>6.8</td>\n",
       "      <td>85000</td>\n",
       "      <td>english</td>\n",
       "      <td>11000</td>\n",
       "      <td>1</td>\n",
       "      <td>christoph waltz</td>\n",
       "      <td>994</td>\n",
       "      <td>2.35</td>\n",
       "      <td>602</td>\n",
       "    </tr>\n",
       "    <tr>\n",
       "      <th>3</th>\n",
       "      <td>4</td>\n",
       "      <td>the dark knight rises</td>\n",
       "      <td>action|thriller</td>\n",
       "      <td>christopher nolan</td>\n",
       "      <td>deception|imprisonment|lawlessness|police officer|terrorist plot</td>\n",
       "      <td>23000</td>\n",
       "      <td>106759</td>\n",
       "      <td>pg-13</td>\n",
       "      <td>250000000</td>\n",
       "      <td>164</td>\n",
       "      <td>...</td>\n",
       "      <td>23000</td>\n",
       "      <td>8.5</td>\n",
       "      <td>164000</td>\n",
       "      <td>english</td>\n",
       "      <td>27000</td>\n",
       "      <td>0</td>\n",
       "      <td>tom hardy</td>\n",
       "      <td>2701</td>\n",
       "      <td>2.35</td>\n",
       "      <td>813</td>\n",
       "    </tr>\n",
       "    <tr>\n",
       "      <th>4</th>\n",
       "      <td>5</td>\n",
       "      <td>star wars: episode vii - the force awakens</td>\n",
       "      <td>documentary</td>\n",
       "      <td>doug walker</td>\n",
       "      <td>.</td>\n",
       "      <td>.</td>\n",
       "      <td>143</td>\n",
       "      <td>.</td>\n",
       "      <td>.</td>\n",
       "      <td>.</td>\n",
       "      <td>...</td>\n",
       "      <td>12</td>\n",
       "      <td>7.1</td>\n",
       "      <td>0</td>\n",
       "      <td>.</td>\n",
       "      <td>131</td>\n",
       "      <td>0</td>\n",
       "      <td>doug walker</td>\n",
       "      <td>.</td>\n",
       "      <td>.</td>\n",
       "      <td>.</td>\n",
       "    </tr>\n",
       "  </tbody>\n",
       "</table>\n",
       "<p>5 rows × 28 columns</p>\n",
       "</div>"
      ],
      "text/plain": [
       "   id                                 movie_title  \\\n",
       "0   1                                      avatar   \n",
       "1   2    pirates of the caribbean: at world's end   \n",
       "2   3                                     spectre   \n",
       "3   4                       the dark knight rises   \n",
       "4   5  star wars: episode vii - the force awakens   \n",
       "\n",
       "                            genres      director_name  \\\n",
       "0  action|adventure|fantasy|sci-fi      james cameron   \n",
       "1         action|adventure|fantasy     gore verbinski   \n",
       "2        action|adventure|thriller         sam mendes   \n",
       "3                  action|thriller  christopher nolan   \n",
       "4                      documentary        doug walker   \n",
       "\n",
       "                                                      plot_keywords  \\\n",
       "0                            avatar|future|marine|native|paraplegic   \n",
       "1      goddess|marriage ceremony|marriage proposal|pirate|singapore   \n",
       "2                               bomb|espionage|sequel|spy|terrorist   \n",
       "3  deception|imprisonment|lawlessness|police officer|terrorist plot   \n",
       "4                                                                 .   \n",
       "\n",
       "  actor_3_facebook_likes  cast_total_facebook_likes content_rating     budget  \\\n",
       "0                    855                       4834          pg-13  237000000   \n",
       "1                   1000                      48350          pg-13  300000000   \n",
       "2                    161                      11700          pg-13  245000000   \n",
       "3                  23000                     106759          pg-13  250000000   \n",
       "4                      .                        143              .          .   \n",
       "\n",
       "  duration           ...           actor_2_facebook_likes imdb_score  \\\n",
       "0      178           ...                              936        7.9   \n",
       "1      169           ...                             5000        7.1   \n",
       "2      148           ...                              393        6.8   \n",
       "3      164           ...                            23000        8.5   \n",
       "4        .           ...                               12        7.1   \n",
       "\n",
       "  movie_facebook_likes  language actor_1_facebook_likes facenumber_in_poster  \\\n",
       "0                33000   english                   1000                    0   \n",
       "1                    0   english                  40000                    0   \n",
       "2                85000   english                  11000                    1   \n",
       "3               164000   english                  27000                    0   \n",
       "4                    0         .                    131                    0   \n",
       "\n",
       "      actor_1_name num_user_for_reviews aspect_ratio  num_critic_for_reviews  \n",
       "0      cch pounder                 3054         1.78                     723  \n",
       "1      johnny depp                 1238         2.35                     302  \n",
       "2  christoph waltz                  994         2.35                     602  \n",
       "3        tom hardy                 2701         2.35                     813  \n",
       "4      doug walker                    .            .                       .  \n",
       "\n",
       "[5 rows x 28 columns]"
      ]
     },
     "execution_count": 3,
     "metadata": {},
     "output_type": "execute_result"
    }
   ],
   "source": [
    "A.head()"
   ]
  },
  {
   "cell_type": "code",
   "execution_count": 4,
   "metadata": {
    "collapsed": false
   },
   "outputs": [
    {
     "data": {
      "text/html": [
       "<div>\n",
       "<table border=\"1\" class=\"dataframe\">\n",
       "  <thead>\n",
       "    <tr style=\"text-align: right;\">\n",
       "      <th></th>\n",
       "      <th>movieId</th>\n",
       "      <th>title</th>\n",
       "      <th>genres</th>\n",
       "      <th>year</th>\n",
       "    </tr>\n",
       "  </thead>\n",
       "  <tbody>\n",
       "    <tr>\n",
       "      <th>0</th>\n",
       "      <td>1</td>\n",
       "      <td>Toy Story</td>\n",
       "      <td>Adventure|Animation|Children|Comedy|Fantasy</td>\n",
       "      <td>1995</td>\n",
       "    </tr>\n",
       "    <tr>\n",
       "      <th>1</th>\n",
       "      <td>2</td>\n",
       "      <td>Jumanji</td>\n",
       "      <td>Adventure|Children|Fantasy</td>\n",
       "      <td>1995</td>\n",
       "    </tr>\n",
       "    <tr>\n",
       "      <th>2</th>\n",
       "      <td>3</td>\n",
       "      <td>Grumpier Old Men</td>\n",
       "      <td>Comedy|Romance</td>\n",
       "      <td>1995</td>\n",
       "    </tr>\n",
       "    <tr>\n",
       "      <th>3</th>\n",
       "      <td>4</td>\n",
       "      <td>Waiting to Exhale</td>\n",
       "      <td>Comedy|Drama|Romance</td>\n",
       "      <td>1995</td>\n",
       "    </tr>\n",
       "    <tr>\n",
       "      <th>4</th>\n",
       "      <td>5</td>\n",
       "      <td>Father of the Bride Part II</td>\n",
       "      <td>Comedy</td>\n",
       "      <td>1995</td>\n",
       "    </tr>\n",
       "  </tbody>\n",
       "</table>\n",
       "</div>"
      ],
      "text/plain": [
       "   movieId                        title  \\\n",
       "0        1                    Toy Story   \n",
       "1        2                      Jumanji   \n",
       "2        3             Grumpier Old Men   \n",
       "3        4            Waiting to Exhale   \n",
       "4        5  Father of the Bride Part II   \n",
       "\n",
       "                                        genres  year  \n",
       "0  Adventure|Animation|Children|Comedy|Fantasy  1995  \n",
       "1                   Adventure|Children|Fantasy  1995  \n",
       "2                               Comedy|Romance  1995  \n",
       "3                         Comedy|Drama|Romance  1995  \n",
       "4                                       Comedy  1995  "
      ]
     },
     "execution_count": 4,
     "metadata": {},
     "output_type": "execute_result"
    }
   ],
   "source": [
    "B.head()"
   ]
  },
  {
   "cell_type": "markdown",
   "metadata": {
    "collapsed": true
   },
   "source": [
    "## Block Tables To Get Candidate Set"
   ]
  },
  {
   "cell_type": "markdown",
   "metadata": {},
   "source": [
    "Block on attribute 'year' using an overlap blocker since the same movie must have the same year. The output attributes of table A is limited to id, title, year and genres to match the information provided by table B."
   ]
  },
  {
   "cell_type": "code",
   "execution_count": null,
   "metadata": {
    "collapsed": true
   },
   "outputs": [],
   "source": [
    "# Create overlap blocker\n",
    "ob = em.OverlapBlocker()\n",
    "# Block tables using 'year' attribute \n",
    "C = ob.block_tables(sample_A, sample_B, 'title_year', 'year', \n",
    "                    l_output_attrs=['id', 'movie_title', 'title_year', 'genres'], \n",
    "                    r_output_attrs=['movieId', 'title', 'year', 'genres'],\n",
    "                    overlap_size=1, show_progress=True\n",
    "                    )\n",
    "em.to_csv_metadata(C, './candidate_pairs.csv')"
   ]
  },
  {
   "cell_type": "markdown",
   "metadata": {},
   "source": [
    "## Match tuple pairs in candidate set"
   ]
  },
  {
   "cell_type": "markdown",
   "metadata": {},
   "source": [
    "### Sampling and labeling the candidate set"
   ]
  },
  {
   "cell_type": "markdown",
   "metadata": {},
   "source": [
    "We randomly sampled 500 tuple pairs for labling. There are 201 mathes and 299 mismatches."
   ]
  },
  {
   "cell_type": "code",
   "execution_count": 7,
   "metadata": {
    "collapsed": false
   },
   "outputs": [
    {
     "name": "stderr",
     "output_type": "stream",
     "text": [
      "Metadata file is not present in the given path; proceeding to read the csv file.\n"
     ]
    },
    {
     "data": {
      "text/plain": [
       "500"
      ]
     },
     "execution_count": 7,
     "metadata": {},
     "output_type": "execute_result"
    }
   ],
   "source": [
    "G = em.read_csv_metadata('gold.csv', \n",
    "                         key='_id',\n",
    "                         ltable=A, rtable=B, \n",
    "                         fk_ltable='ltable_id', fk_rtable='rtable_movieId',\n",
    "                         encoding='mac_roman')\n",
    "len(G)"
   ]
  },
  {
   "cell_type": "code",
   "execution_count": 9,
   "metadata": {
    "collapsed": false
   },
   "outputs": [
    {
     "data": {
      "text/html": [
       "<div>\n",
       "<table border=\"1\" class=\"dataframe\">\n",
       "  <thead>\n",
       "    <tr style=\"text-align: right;\">\n",
       "      <th></th>\n",
       "      <th>_id</th>\n",
       "      <th>ltable_id</th>\n",
       "      <th>rtable_movieId</th>\n",
       "      <th>ltable_movie_title</th>\n",
       "      <th>ltable_title_year</th>\n",
       "      <th>ltable_genres</th>\n",
       "      <th>rtable_title</th>\n",
       "      <th>rtable_year</th>\n",
       "      <th>rtable_genres</th>\n",
       "      <th>label</th>\n",
       "    </tr>\n",
       "  </thead>\n",
       "  <tbody>\n",
       "    <tr>\n",
       "      <th>0</th>\n",
       "      <td>2433</td>\n",
       "      <td>894</td>\n",
       "      <td>64716</td>\n",
       "      <td>seven pounds</td>\n",
       "      <td>2008</td>\n",
       "      <td>drama|romance</td>\n",
       "      <td>Seven Pounds</td>\n",
       "      <td>2008</td>\n",
       "      <td>Drama</td>\n",
       "      <td>1</td>\n",
       "    </tr>\n",
       "    <tr>\n",
       "      <th>1</th>\n",
       "      <td>4545</td>\n",
       "      <td>2842</td>\n",
       "      <td>4015</td>\n",
       "      <td>dude, where's my car?</td>\n",
       "      <td>2000</td>\n",
       "      <td>comedy|mystery</td>\n",
       "      <td>Dude, Where's My Car?</td>\n",
       "      <td>2000</td>\n",
       "      <td>Comedy|Sci-Fi</td>\n",
       "      <td>1</td>\n",
       "    </tr>\n",
       "    <tr>\n",
       "      <th>2</th>\n",
       "      <td>6907</td>\n",
       "      <td>3697</td>\n",
       "      <td>104908</td>\n",
       "      <td>insidious: chapter 2</td>\n",
       "      <td>2013</td>\n",
       "      <td>fantasy|horror|thriller</td>\n",
       "      <td>Insidious: Chapter 2</td>\n",
       "      <td>2013</td>\n",
       "      <td>Horror|Thriller</td>\n",
       "      <td>1</td>\n",
       "    </tr>\n",
       "    <tr>\n",
       "      <th>3</th>\n",
       "      <td>24168</td>\n",
       "      <td>4384</td>\n",
       "      <td>2891</td>\n",
       "      <td>happy, texas</td>\n",
       "      <td>1999</td>\n",
       "      <td>comedy|crime|romance</td>\n",
       "      <td>Happy, Texas</td>\n",
       "      <td>1999</td>\n",
       "      <td>Comedy</td>\n",
       "      <td>1</td>\n",
       "    </tr>\n",
       "    <tr>\n",
       "      <th>4</th>\n",
       "      <td>31352</td>\n",
       "      <td>1844</td>\n",
       "      <td>7980</td>\n",
       "      <td>a bridge too far</td>\n",
       "      <td>1977</td>\n",
       "      <td>drama|history|war</td>\n",
       "      <td>Bridge Too Far, A</td>\n",
       "      <td>1977</td>\n",
       "      <td>Action|Drama|War</td>\n",
       "      <td>1</td>\n",
       "    </tr>\n",
       "    <tr>\n",
       "      <th>5</th>\n",
       "      <td>35987</td>\n",
       "      <td>874</td>\n",
       "      <td>2676</td>\n",
       "      <td>instinct</td>\n",
       "      <td>1999</td>\n",
       "      <td>drama|thriller</td>\n",
       "      <td>Instinct</td>\n",
       "      <td>1999</td>\n",
       "      <td>Drama|Thriller</td>\n",
       "      <td>1</td>\n",
       "    </tr>\n",
       "    <tr>\n",
       "      <th>6</th>\n",
       "      <td>37526</td>\n",
       "      <td>2582</td>\n",
       "      <td>1599</td>\n",
       "      <td>steel</td>\n",
       "      <td>1997</td>\n",
       "      <td>action|crime|sci-fi</td>\n",
       "      <td>Steel</td>\n",
       "      <td>1997</td>\n",
       "      <td>Action</td>\n",
       "      <td>1</td>\n",
       "    </tr>\n",
       "    <tr>\n",
       "      <th>7</th>\n",
       "      <td>50124</td>\n",
       "      <td>1212</td>\n",
       "      <td>1408</td>\n",
       "      <td>the last of the mohicans</td>\n",
       "      <td>1992</td>\n",
       "      <td>action|adventure|drama|romance|war</td>\n",
       "      <td>Last of the Mohicans, The</td>\n",
       "      <td>1992</td>\n",
       "      <td>Action|Romance|War|Western</td>\n",
       "      <td>1</td>\n",
       "    </tr>\n",
       "    <tr>\n",
       "      <th>8</th>\n",
       "      <td>57296</td>\n",
       "      <td>2987</td>\n",
       "      <td>66200</td>\n",
       "      <td>two lovers</td>\n",
       "      <td>2008</td>\n",
       "      <td>drama|romance</td>\n",
       "      <td>Two Lovers</td>\n",
       "      <td>2008</td>\n",
       "      <td>Drama|Romance</td>\n",
       "      <td>1</td>\n",
       "    </tr>\n",
       "    <tr>\n",
       "      <th>9</th>\n",
       "      <td>64913</td>\n",
       "      <td>2952</td>\n",
       "      <td>2841</td>\n",
       "      <td>stir of echoes</td>\n",
       "      <td>1999</td>\n",
       "      <td>horror|mystery|thriller</td>\n",
       "      <td>Stir of Echoes</td>\n",
       "      <td>1999</td>\n",
       "      <td>Horror|Mystery|Thriller</td>\n",
       "      <td>1</td>\n",
       "    </tr>\n",
       "  </tbody>\n",
       "</table>\n",
       "</div>"
      ],
      "text/plain": [
       "     _id  ltable_id  rtable_movieId        ltable_movie_title  \\\n",
       "0   2433        894           64716              seven pounds   \n",
       "1   4545       2842            4015     dude, where's my car?   \n",
       "2   6907       3697          104908      insidious: chapter 2   \n",
       "3  24168       4384            2891              happy, texas   \n",
       "4  31352       1844            7980          a bridge too far   \n",
       "5  35987        874            2676                  instinct   \n",
       "6  37526       2582            1599                     steel   \n",
       "7  50124       1212            1408  the last of the mohicans   \n",
       "8  57296       2987           66200                two lovers   \n",
       "9  64913       2952            2841            stir of echoes   \n",
       "\n",
       "   ltable_title_year                       ltable_genres  \\\n",
       "0               2008                       drama|romance   \n",
       "1               2000                      comedy|mystery   \n",
       "2               2013             fantasy|horror|thriller   \n",
       "3               1999                comedy|crime|romance   \n",
       "4               1977                   drama|history|war   \n",
       "5               1999                      drama|thriller   \n",
       "6               1997                 action|crime|sci-fi   \n",
       "7               1992  action|adventure|drama|romance|war   \n",
       "8               2008                       drama|romance   \n",
       "9               1999             horror|mystery|thriller   \n",
       "\n",
       "                rtable_title  rtable_year               rtable_genres  label  \n",
       "0               Seven Pounds         2008                       Drama      1  \n",
       "1      Dude, Where's My Car?         2000               Comedy|Sci-Fi      1  \n",
       "2       Insidious: Chapter 2         2013             Horror|Thriller      1  \n",
       "3               Happy, Texas         1999                      Comedy      1  \n",
       "4          Bridge Too Far, A         1977            Action|Drama|War      1  \n",
       "5                   Instinct         1999              Drama|Thriller      1  \n",
       "6                      Steel         1997                      Action      1  \n",
       "7  Last of the Mohicans, The         1992  Action|Romance|War|Western      1  \n",
       "8                 Two Lovers         2008               Drama|Romance      1  \n",
       "9             Stir of Echoes         1999     Horror|Mystery|Thriller      1  "
      ]
     },
     "execution_count": 9,
     "metadata": {},
     "output_type": "execute_result"
    }
   ],
   "source": [
    "G.head(10)"
   ]
  },
  {
   "cell_type": "code",
   "execution_count": null,
   "metadata": {
    "collapsed": true
   },
   "outputs": [],
   "source": []
  }
 ],
 "metadata": {
  "kernelspec": {
   "display_name": "Python 3",
   "language": "python",
   "name": "python3"
  },
  "language_info": {
   "codemirror_mode": {
    "name": "ipython",
    "version": 3
   },
   "file_extension": ".py",
   "mimetype": "text/x-python",
   "name": "python",
   "nbconvert_exporter": "python",
   "pygments_lexer": "ipython3",
   "version": "3.6.1"
  }
 },
 "nbformat": 4,
 "nbformat_minor": 2
}
