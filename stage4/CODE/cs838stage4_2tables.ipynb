{
 "cells": [
  {
   "cell_type": "markdown",
   "metadata": {},
   "source": [
    "# CS838 Project Stage3\n",
    "\n",
    "Yuying Chen\n",
    "Maria Kamenetsky"
   ]
  },
  {
   "cell_type": "code",
   "execution_count": 1,
   "metadata": {
    "collapsed": false,
    "scrolled": true
   },
   "outputs": [],
   "source": [
    "#import modules\n",
    "import csv\n",
    "import py_entitymatching as em\n",
    "import pandas as pd\n",
    "import numpy as np\n",
    "import time\n",
    "import sys"
   ]
  },
  {
   "cell_type": "markdown",
   "metadata": {},
   "source": [
    "Our full pipeline of training and testing the ML matcher used below was completed in Stage 3 (which can be found in the respective folder). Results of that process were that the logistic regression performed the best. We Follo"
   ]
  },
  {
   "cell_type": "markdown",
   "metadata": {},
   "source": [
    "## Read input tables"
   ]
  },
  {
   "cell_type": "markdown",
   "metadata": {},
   "source": [
    "Since the original two movie dataset that we selected don't have too many overlaps, we changed one of them to another movie dataset. The first dataset is from kaggle.com. The second dataset is from movielens.org.\n",
    "\n",
    "We added an id column for both datasets."
   ]
  },
  {
   "cell_type": "code",
   "execution_count": 2,
   "metadata": {
    "collapsed": false
   },
   "outputs": [
    {
     "name": "stderr",
     "output_type": "stream",
     "text": [
      "Metadata file is not present in the given path; proceeding to read the csv file.\n",
      "Metadata file is not present in the given path; proceeding to read the csv file.\n"
     ]
    }
   ],
   "source": [
    "A = em.read_csv_metadata('../../stage3/DATA/movie1_stage3.csv', key='id',encoding='mac_roman')\n",
    "B = em.read_csv_metadata('../../stage3/DATA/movie2_stage3.csv', key='movieId',encoding='mac_roman')"
   ]
  },
  {
   "cell_type": "code",
   "execution_count": 3,
   "metadata": {
    "collapsed": false
   },
   "outputs": [
    {
     "name": "stdout",
     "output_type": "stream",
     "text": [
      "Number of tuples in A: 5043\n",
      "Number of tuples in B: 27278\n",
      "Number of tuples in A x B: 137562954\n"
     ]
    }
   ],
   "source": [
    "print('Number of tuples in A: ' + str(len(A)))\n",
    "print('Number of tuples in B: ' + str(len(B)))\n",
    "print('Number of tuples in A x B: ' + str(len(A)*len(B)))"
   ]
  },
  {
   "cell_type": "code",
   "execution_count": 4,
   "metadata": {
    "collapsed": false
   },
   "outputs": [
    {
     "data": {
      "text/html": [
       "<div>\n",
       "<table border=\"1\" class=\"dataframe\">\n",
       "  <thead>\n",
       "    <tr style=\"text-align: right;\">\n",
       "      <th></th>\n",
       "      <th>id</th>\n",
       "      <th>title</th>\n",
       "      <th>genres</th>\n",
       "      <th>director_name</th>\n",
       "      <th>plot_keywords</th>\n",
       "      <th>actor_3_facebook_likes</th>\n",
       "      <th>cast_total_facebook_likes</th>\n",
       "      <th>content_rating</th>\n",
       "      <th>budget</th>\n",
       "      <th>duration</th>\n",
       "      <th>...</th>\n",
       "      <th>actor_2_facebook_likes</th>\n",
       "      <th>imdb_score</th>\n",
       "      <th>movie_facebook_likes</th>\n",
       "      <th>language</th>\n",
       "      <th>actor_1_facebook_likes</th>\n",
       "      <th>facenumber_in_poster</th>\n",
       "      <th>actor_1_name</th>\n",
       "      <th>num_user_for_reviews</th>\n",
       "      <th>aspect_ratio</th>\n",
       "      <th>num_critic_for_reviews</th>\n",
       "    </tr>\n",
       "  </thead>\n",
       "  <tbody>\n",
       "    <tr>\n",
       "      <th>0</th>\n",
       "      <td>1</td>\n",
       "      <td>avatar</td>\n",
       "      <td>action|adventure|fantasy|sci-fi</td>\n",
       "      <td>james cameron</td>\n",
       "      <td>avatar|future|marine|native|paraplegic</td>\n",
       "      <td>855</td>\n",
       "      <td>4834</td>\n",
       "      <td>pg-13</td>\n",
       "      <td>237000000</td>\n",
       "      <td>178</td>\n",
       "      <td>...</td>\n",
       "      <td>936</td>\n",
       "      <td>7.9</td>\n",
       "      <td>33000</td>\n",
       "      <td>english</td>\n",
       "      <td>1000</td>\n",
       "      <td>0</td>\n",
       "      <td>cch pounder</td>\n",
       "      <td>3054</td>\n",
       "      <td>1.78</td>\n",
       "      <td>723</td>\n",
       "    </tr>\n",
       "    <tr>\n",
       "      <th>1</th>\n",
       "      <td>2</td>\n",
       "      <td>pirates of the caribbean: at world's end</td>\n",
       "      <td>action|adventure|fantasy</td>\n",
       "      <td>gore verbinski</td>\n",
       "      <td>goddess|marriage ceremony|marriage proposal|pirate|singapore</td>\n",
       "      <td>1000</td>\n",
       "      <td>48350</td>\n",
       "      <td>pg-13</td>\n",
       "      <td>300000000</td>\n",
       "      <td>169</td>\n",
       "      <td>...</td>\n",
       "      <td>5000</td>\n",
       "      <td>7.1</td>\n",
       "      <td>0</td>\n",
       "      <td>english</td>\n",
       "      <td>40000</td>\n",
       "      <td>0</td>\n",
       "      <td>johnny depp</td>\n",
       "      <td>1238</td>\n",
       "      <td>2.35</td>\n",
       "      <td>302</td>\n",
       "    </tr>\n",
       "    <tr>\n",
       "      <th>2</th>\n",
       "      <td>3</td>\n",
       "      <td>spectre</td>\n",
       "      <td>action|adventure|thriller</td>\n",
       "      <td>sam mendes</td>\n",
       "      <td>bomb|espionage|sequel|spy|terrorist</td>\n",
       "      <td>161</td>\n",
       "      <td>11700</td>\n",
       "      <td>pg-13</td>\n",
       "      <td>245000000</td>\n",
       "      <td>148</td>\n",
       "      <td>...</td>\n",
       "      <td>393</td>\n",
       "      <td>6.8</td>\n",
       "      <td>85000</td>\n",
       "      <td>english</td>\n",
       "      <td>11000</td>\n",
       "      <td>1</td>\n",
       "      <td>christoph waltz</td>\n",
       "      <td>994</td>\n",
       "      <td>2.35</td>\n",
       "      <td>602</td>\n",
       "    </tr>\n",
       "    <tr>\n",
       "      <th>3</th>\n",
       "      <td>4</td>\n",
       "      <td>the dark knight rises</td>\n",
       "      <td>action|thriller</td>\n",
       "      <td>christopher nolan</td>\n",
       "      <td>deception|imprisonment|lawlessness|police officer|terrorist plot</td>\n",
       "      <td>23000</td>\n",
       "      <td>106759</td>\n",
       "      <td>pg-13</td>\n",
       "      <td>250000000</td>\n",
       "      <td>164</td>\n",
       "      <td>...</td>\n",
       "      <td>23000</td>\n",
       "      <td>8.5</td>\n",
       "      <td>164000</td>\n",
       "      <td>english</td>\n",
       "      <td>27000</td>\n",
       "      <td>0</td>\n",
       "      <td>tom hardy</td>\n",
       "      <td>2701</td>\n",
       "      <td>2.35</td>\n",
       "      <td>813</td>\n",
       "    </tr>\n",
       "    <tr>\n",
       "      <th>4</th>\n",
       "      <td>5</td>\n",
       "      <td>star wars: episode vii - the force awakens</td>\n",
       "      <td>documentary</td>\n",
       "      <td>doug walker</td>\n",
       "      <td>.</td>\n",
       "      <td>.</td>\n",
       "      <td>143</td>\n",
       "      <td>.</td>\n",
       "      <td>.</td>\n",
       "      <td>.</td>\n",
       "      <td>...</td>\n",
       "      <td>12</td>\n",
       "      <td>7.1</td>\n",
       "      <td>0</td>\n",
       "      <td>.</td>\n",
       "      <td>131</td>\n",
       "      <td>0</td>\n",
       "      <td>doug walker</td>\n",
       "      <td>.</td>\n",
       "      <td>.</td>\n",
       "      <td>.</td>\n",
       "    </tr>\n",
       "  </tbody>\n",
       "</table>\n",
       "<p>5 rows × 28 columns</p>\n",
       "</div>"
      ],
      "text/plain": [
       "   id                                       title  \\\n",
       "0   1                                      avatar   \n",
       "1   2    pirates of the caribbean: at world's end   \n",
       "2   3                                     spectre   \n",
       "3   4                       the dark knight rises   \n",
       "4   5  star wars: episode vii - the force awakens   \n",
       "\n",
       "                            genres      director_name  \\\n",
       "0  action|adventure|fantasy|sci-fi      james cameron   \n",
       "1         action|adventure|fantasy     gore verbinski   \n",
       "2        action|adventure|thriller         sam mendes   \n",
       "3                  action|thriller  christopher nolan   \n",
       "4                      documentary        doug walker   \n",
       "\n",
       "                                                      plot_keywords  \\\n",
       "0                            avatar|future|marine|native|paraplegic   \n",
       "1      goddess|marriage ceremony|marriage proposal|pirate|singapore   \n",
       "2                               bomb|espionage|sequel|spy|terrorist   \n",
       "3  deception|imprisonment|lawlessness|police officer|terrorist plot   \n",
       "4                                                                 .   \n",
       "\n",
       "  actor_3_facebook_likes  cast_total_facebook_likes content_rating     budget  \\\n",
       "0                    855                       4834          pg-13  237000000   \n",
       "1                   1000                      48350          pg-13  300000000   \n",
       "2                    161                      11700          pg-13  245000000   \n",
       "3                  23000                     106759          pg-13  250000000   \n",
       "4                      .                        143              .          .   \n",
       "\n",
       "  duration           ...           actor_2_facebook_likes imdb_score  \\\n",
       "0      178           ...                              936        7.9   \n",
       "1      169           ...                             5000        7.1   \n",
       "2      148           ...                              393        6.8   \n",
       "3      164           ...                            23000        8.5   \n",
       "4        .           ...                               12        7.1   \n",
       "\n",
       "  movie_facebook_likes  language actor_1_facebook_likes facenumber_in_poster  \\\n",
       "0                33000   english                   1000                    0   \n",
       "1                    0   english                  40000                    0   \n",
       "2                85000   english                  11000                    1   \n",
       "3               164000   english                  27000                    0   \n",
       "4                    0         .                    131                    0   \n",
       "\n",
       "      actor_1_name num_user_for_reviews aspect_ratio  num_critic_for_reviews  \n",
       "0      cch pounder                 3054         1.78                     723  \n",
       "1      johnny depp                 1238         2.35                     302  \n",
       "2  christoph waltz                  994         2.35                     602  \n",
       "3        tom hardy                 2701         2.35                     813  \n",
       "4      doug walker                    .            .                       .  \n",
       "\n",
       "[5 rows x 28 columns]"
      ]
     },
     "execution_count": 4,
     "metadata": {},
     "output_type": "execute_result"
    }
   ],
   "source": [
    "A.head() "
   ]
  },
  {
   "cell_type": "code",
   "execution_count": 5,
   "metadata": {
    "collapsed": false
   },
   "outputs": [
    {
     "data": {
      "text/plain": [
       "array(['id', 'title', 'genres', 'director_name', 'plot_keywords',\n",
       "       'actor_3_facebook_likes', 'cast_total_facebook_likes',\n",
       "       'content_rating', 'budget', 'duration', 'country', 'color', 'year',\n",
       "       'num_voted_users', 'director_facebook_likes', 'gross',\n",
       "       'actor_2_name', 'actor_3_name', 'actor_2_facebook_likes',\n",
       "       'imdb_score', 'movie_facebook_likes', 'language',\n",
       "       'actor_1_facebook_likes', 'facenumber_in_poster', 'actor_1_name',\n",
       "       'num_user_for_reviews', 'aspect_ratio', 'num_critic_for_reviews'], dtype=object)"
      ]
     },
     "execution_count": 5,
     "metadata": {},
     "output_type": "execute_result"
    }
   ],
   "source": [
    "A.columns.values"
   ]
  },
  {
   "cell_type": "code",
   "execution_count": null,
   "metadata": {
    "collapsed": false
   },
   "outputs": [],
   "source": [
    "B.head()"
   ]
  },
  {
   "cell_type": "code",
   "execution_count": null,
   "metadata": {
    "collapsed": false
   },
   "outputs": [],
   "source": [
    "B.columns.values"
   ]
  },
  {
   "cell_type": "code",
   "execution_count": 6,
   "metadata": {
    "collapsed": false
   },
   "outputs": [
    {
     "data": {
      "text/plain": [
       "('id', 'movieId')"
      ]
     },
     "execution_count": 6,
     "metadata": {},
     "output_type": "execute_result"
    }
   ],
   "source": [
    "em.get_key(A), em.get_key(B)"
   ]
  },
  {
   "cell_type": "markdown",
   "metadata": {},
   "source": [
    "Since the tables are very large let's downsample:"
   ]
  },
  {
   "cell_type": "markdown",
   "metadata": {
    "collapsed": true
   },
   "source": [
    "## Block Tables To Get Candidate Set"
   ]
  },
  {
   "cell_type": "markdown",
   "metadata": {},
   "source": [
    "Block on attribute 'year' using an overlap blocker since the same movie must have the same year. The output attributes of table A is limited to id, title, year and genres to match the information provided by table B."
   ]
  },
  {
   "cell_type": "code",
   "execution_count": 7,
   "metadata": {
    "collapsed": false
   },
   "outputs": [
    {
     "name": "stderr",
     "output_type": "stream",
     "text": [
      "0%                          100%\n",
      "[##############################] | ETA: 00:00:00\n",
      "Total time elapsed: 00:00:17\n"
     ]
    },
    {
     "name": "stdout",
     "output_type": "stream",
     "text": [
      "Overlap blocking step:  22.88170370300954\n"
     ]
    }
   ],
   "source": [
    "# Create overlap blocker\n",
    "ob = em.OverlapBlocker()\n",
    "\n",
    "start = time.clock()\n",
    "C = ob.block_tables(A, B, 'year', 'year',\n",
    "                   l_output_attrs=['id', 'title', 'year', 'genres'],\n",
    "                   r_output_attrs=['movieId', 'title','year', 'genres'],\n",
    "                   overlap_size=1, show_progress=True)\n",
    "\n",
    "elapsed = (time.clock() - start)\n",
    "print(\"Overlap blocking step: \", elapsed)"
   ]
  },
  {
   "cell_type": "code",
   "execution_count": 8,
   "metadata": {
    "collapsed": false
   },
   "outputs": [
    {
     "data": {
      "text/html": [
       "<div>\n",
       "<table border=\"1\" class=\"dataframe\">\n",
       "  <thead>\n",
       "    <tr style=\"text-align: right;\">\n",
       "      <th></th>\n",
       "      <th>_id</th>\n",
       "      <th>ltable_id</th>\n",
       "      <th>rtable_movieId</th>\n",
       "      <th>ltable_title</th>\n",
       "      <th>ltable_year</th>\n",
       "      <th>ltable_genres</th>\n",
       "      <th>rtable_title</th>\n",
       "      <th>rtable_year</th>\n",
       "      <th>rtable_genres</th>\n",
       "    </tr>\n",
       "  </thead>\n",
       "  <tbody>\n",
       "    <tr>\n",
       "      <th>0</th>\n",
       "      <td>0</td>\n",
       "      <td>1026</td>\n",
       "      <td>1</td>\n",
       "      <td>jade</td>\n",
       "      <td>1995</td>\n",
       "      <td>crime|drama|thriller</td>\n",
       "      <td>Toy Story</td>\n",
       "      <td>1995</td>\n",
       "      <td>Adventure|Animation|Children|Comedy|Fantasy</td>\n",
       "    </tr>\n",
       "    <tr>\n",
       "      <th>1</th>\n",
       "      <td>1</td>\n",
       "      <td>2053</td>\n",
       "      <td>1</td>\n",
       "      <td>bad boys</td>\n",
       "      <td>1995</td>\n",
       "      <td>action|comedy|crime|drama|thriller</td>\n",
       "      <td>Toy Story</td>\n",
       "      <td>1995</td>\n",
       "      <td>Adventure|Animation|Children|Comedy|Fantasy</td>\n",
       "    </tr>\n",
       "    <tr>\n",
       "      <th>2</th>\n",
       "      <td>2</td>\n",
       "      <td>2822</td>\n",
       "      <td>1</td>\n",
       "      <td>clueless</td>\n",
       "      <td>1995</td>\n",
       "      <td>comedy|romance</td>\n",
       "      <td>Toy Story</td>\n",
       "      <td>1995</td>\n",
       "      <td>Adventure|Animation|Children|Comedy|Fantasy</td>\n",
       "    </tr>\n",
       "    <tr>\n",
       "      <th>3</th>\n",
       "      <td>3</td>\n",
       "      <td>4662</td>\n",
       "      <td>1</td>\n",
       "      <td>welcome to the dollhouse</td>\n",
       "      <td>1995</td>\n",
       "      <td>comedy|drama</td>\n",
       "      <td>Toy Story</td>\n",
       "      <td>1995</td>\n",
       "      <td>Adventure|Animation|Children|Comedy|Fantasy</td>\n",
       "    </tr>\n",
       "    <tr>\n",
       "      <th>4</th>\n",
       "      <td>4</td>\n",
       "      <td>3593</td>\n",
       "      <td>1</td>\n",
       "      <td>the usual suspects</td>\n",
       "      <td>1995</td>\n",
       "      <td>crime|drama|mystery|thriller</td>\n",
       "      <td>Toy Story</td>\n",
       "      <td>1995</td>\n",
       "      <td>Adventure|Animation|Children|Comedy|Fantasy</td>\n",
       "    </tr>\n",
       "  </tbody>\n",
       "</table>\n",
       "</div>"
      ],
      "text/plain": [
       "   _id  ltable_id  rtable_movieId              ltable_title ltable_year  \\\n",
       "0    0       1026               1                      jade        1995   \n",
       "1    1       2053               1                  bad boys        1995   \n",
       "2    2       2822               1                  clueless        1995   \n",
       "3    3       4662               1  welcome to the dollhouse        1995   \n",
       "4    4       3593               1        the usual suspects        1995   \n",
       "\n",
       "                        ltable_genres rtable_title rtable_year  \\\n",
       "0                crime|drama|thriller    Toy Story        1995   \n",
       "1  action|comedy|crime|drama|thriller    Toy Story        1995   \n",
       "2                      comedy|romance    Toy Story        1995   \n",
       "3                        comedy|drama    Toy Story        1995   \n",
       "4        crime|drama|mystery|thriller    Toy Story        1995   \n",
       "\n",
       "                                 rtable_genres  \n",
       "0  Adventure|Animation|Children|Comedy|Fantasy  \n",
       "1  Adventure|Animation|Children|Comedy|Fantasy  \n",
       "2  Adventure|Animation|Children|Comedy|Fantasy  \n",
       "3  Adventure|Animation|Children|Comedy|Fantasy  \n",
       "4  Adventure|Animation|Children|Comedy|Fantasy  "
      ]
     },
     "execution_count": 8,
     "metadata": {},
     "output_type": "execute_result"
    }
   ],
   "source": [
    "C2 = C.head(1000)\n",
    "C2.head()"
   ]
  },
  {
   "cell_type": "code",
   "execution_count": 9,
   "metadata": {
    "collapsed": false
   },
   "outputs": [
    {
     "name": "stderr",
     "output_type": "stream",
     "text": [
      "File already exists at ../DATA/c2.csv; Overwriting it\n",
      "Metadata file already exists at ../DATA/c2.metadata. Overwriting it\n"
     ]
    },
    {
     "data": {
      "text/plain": [
       "True"
      ]
     },
     "execution_count": 9,
     "metadata": {},
     "output_type": "execute_result"
    }
   ],
   "source": [
    "em.to_csv_metadata(C2, '../DATA/c2.csv')"
   ]
  },
  {
   "cell_type": "code",
   "execution_count": 10,
   "metadata": {
    "collapsed": false
   },
   "outputs": [],
   "source": [
    "C = em.read_csv_metadata('../DATA/c2.csv',\n",
    "                        key='_id',\n",
    "                        ltable=A, rtable=B,encoding='mac_roman')"
   ]
  },
  {
   "cell_type": "code",
   "execution_count": 11,
   "metadata": {
    "collapsed": false
   },
   "outputs": [
    {
     "data": {
      "text/plain": [
       "1000"
      ]
     },
     "execution_count": 11,
     "metadata": {},
     "output_type": "execute_result"
    }
   ],
   "source": [
    "len(C)"
   ]
  },
  {
   "cell_type": "markdown",
   "metadata": {},
   "source": [
    "## Match tuple pairs in candidate set"
   ]
  },
  {
   "cell_type": "markdown",
   "metadata": {},
   "source": [
    "### Import Pre-Determined Golden Data"
   ]
  },
  {
   "cell_type": "markdown",
   "metadata": {},
   "source": [
    "We randomly sampled 500 tuple pairs for labeling. There are 201 matches and 299 mismatches. **gold.csv** is our gold dataset of perfect matches that we have determined prior to this. "
   ]
  },
  {
   "cell_type": "code",
   "execution_count": 12,
   "metadata": {
    "collapsed": false
   },
   "outputs": [
    {
     "name": "stderr",
     "output_type": "stream",
     "text": [
      "Metadata file is not present in the given path; proceeding to read the csv file.\n"
     ]
    },
    {
     "data": {
      "text/plain": [
       "500"
      ]
     },
     "execution_count": 12,
     "metadata": {},
     "output_type": "execute_result"
    }
   ],
   "source": [
    "G = em.read_csv_metadata('../../stage3/DATA/gold.csv', \n",
    "                         key='_id',\n",
    "                            ltable=A, rtable=B, \n",
    "                        fk_ltable='ltable_id', fk_rtable='rtable_movieId',\n",
    "                         encoding='mac_roman')\n",
    "len(G)"
   ]
  },
  {
   "cell_type": "code",
   "execution_count": 13,
   "metadata": {
    "collapsed": false
   },
   "outputs": [
    {
     "data": {
      "text/html": [
       "<div>\n",
       "<table border=\"1\" class=\"dataframe\">\n",
       "  <thead>\n",
       "    <tr style=\"text-align: right;\">\n",
       "      <th></th>\n",
       "      <th>_id</th>\n",
       "      <th>ltable_id</th>\n",
       "      <th>rtable_movieId</th>\n",
       "      <th>ltable_movie_title</th>\n",
       "      <th>ltable_title_year</th>\n",
       "      <th>ltable_genres</th>\n",
       "      <th>rtable_title</th>\n",
       "      <th>rtable_year</th>\n",
       "      <th>rtable_genres</th>\n",
       "      <th>label</th>\n",
       "    </tr>\n",
       "  </thead>\n",
       "  <tbody>\n",
       "    <tr>\n",
       "      <th>0</th>\n",
       "      <td>2433</td>\n",
       "      <td>894</td>\n",
       "      <td>64716</td>\n",
       "      <td>seven pounds</td>\n",
       "      <td>2008</td>\n",
       "      <td>drama|romance</td>\n",
       "      <td>Seven Pounds</td>\n",
       "      <td>2008</td>\n",
       "      <td>Drama</td>\n",
       "      <td>1</td>\n",
       "    </tr>\n",
       "    <tr>\n",
       "      <th>1</th>\n",
       "      <td>4545</td>\n",
       "      <td>2842</td>\n",
       "      <td>4015</td>\n",
       "      <td>dude, where's my car?</td>\n",
       "      <td>2000</td>\n",
       "      <td>comedy|mystery</td>\n",
       "      <td>Dude, Where's My Car?</td>\n",
       "      <td>2000</td>\n",
       "      <td>Comedy|Sci-Fi</td>\n",
       "      <td>1</td>\n",
       "    </tr>\n",
       "    <tr>\n",
       "      <th>2</th>\n",
       "      <td>6907</td>\n",
       "      <td>3697</td>\n",
       "      <td>104908</td>\n",
       "      <td>insidious: chapter 2</td>\n",
       "      <td>2013</td>\n",
       "      <td>fantasy|horror|thriller</td>\n",
       "      <td>Insidious: Chapter 2</td>\n",
       "      <td>2013</td>\n",
       "      <td>Horror|Thriller</td>\n",
       "      <td>1</td>\n",
       "    </tr>\n",
       "    <tr>\n",
       "      <th>3</th>\n",
       "      <td>24168</td>\n",
       "      <td>4384</td>\n",
       "      <td>2891</td>\n",
       "      <td>happy, texas</td>\n",
       "      <td>1999</td>\n",
       "      <td>comedy|crime|romance</td>\n",
       "      <td>Happy, Texas</td>\n",
       "      <td>1999</td>\n",
       "      <td>Comedy</td>\n",
       "      <td>1</td>\n",
       "    </tr>\n",
       "    <tr>\n",
       "      <th>4</th>\n",
       "      <td>31352</td>\n",
       "      <td>1844</td>\n",
       "      <td>7980</td>\n",
       "      <td>a bridge too far</td>\n",
       "      <td>1977</td>\n",
       "      <td>drama|history|war</td>\n",
       "      <td>Bridge Too Far, A</td>\n",
       "      <td>1977</td>\n",
       "      <td>Action|Drama|War</td>\n",
       "      <td>1</td>\n",
       "    </tr>\n",
       "    <tr>\n",
       "      <th>5</th>\n",
       "      <td>35987</td>\n",
       "      <td>874</td>\n",
       "      <td>2676</td>\n",
       "      <td>instinct</td>\n",
       "      <td>1999</td>\n",
       "      <td>drama|thriller</td>\n",
       "      <td>Instinct</td>\n",
       "      <td>1999</td>\n",
       "      <td>Drama|Thriller</td>\n",
       "      <td>1</td>\n",
       "    </tr>\n",
       "    <tr>\n",
       "      <th>6</th>\n",
       "      <td>37526</td>\n",
       "      <td>2582</td>\n",
       "      <td>1599</td>\n",
       "      <td>steel</td>\n",
       "      <td>1997</td>\n",
       "      <td>action|crime|sci-fi</td>\n",
       "      <td>Steel</td>\n",
       "      <td>1997</td>\n",
       "      <td>Action</td>\n",
       "      <td>1</td>\n",
       "    </tr>\n",
       "    <tr>\n",
       "      <th>7</th>\n",
       "      <td>50124</td>\n",
       "      <td>1212</td>\n",
       "      <td>1408</td>\n",
       "      <td>the last of the mohicans</td>\n",
       "      <td>1992</td>\n",
       "      <td>action|adventure|drama|romance|war</td>\n",
       "      <td>Last of the Mohicans, The</td>\n",
       "      <td>1992</td>\n",
       "      <td>Action|Romance|War|Western</td>\n",
       "      <td>1</td>\n",
       "    </tr>\n",
       "    <tr>\n",
       "      <th>8</th>\n",
       "      <td>57296</td>\n",
       "      <td>2987</td>\n",
       "      <td>66200</td>\n",
       "      <td>two lovers</td>\n",
       "      <td>2008</td>\n",
       "      <td>drama|romance</td>\n",
       "      <td>Two Lovers</td>\n",
       "      <td>2008</td>\n",
       "      <td>Drama|Romance</td>\n",
       "      <td>1</td>\n",
       "    </tr>\n",
       "    <tr>\n",
       "      <th>9</th>\n",
       "      <td>64913</td>\n",
       "      <td>2952</td>\n",
       "      <td>2841</td>\n",
       "      <td>stir of echoes</td>\n",
       "      <td>1999</td>\n",
       "      <td>horror|mystery|thriller</td>\n",
       "      <td>Stir of Echoes</td>\n",
       "      <td>1999</td>\n",
       "      <td>Horror|Mystery|Thriller</td>\n",
       "      <td>1</td>\n",
       "    </tr>\n",
       "  </tbody>\n",
       "</table>\n",
       "</div>"
      ],
      "text/plain": [
       "     _id  ltable_id  rtable_movieId        ltable_movie_title  \\\n",
       "0   2433        894           64716              seven pounds   \n",
       "1   4545       2842            4015     dude, where's my car?   \n",
       "2   6907       3697          104908      insidious: chapter 2   \n",
       "3  24168       4384            2891              happy, texas   \n",
       "4  31352       1844            7980          a bridge too far   \n",
       "5  35987        874            2676                  instinct   \n",
       "6  37526       2582            1599                     steel   \n",
       "7  50124       1212            1408  the last of the mohicans   \n",
       "8  57296       2987           66200                two lovers   \n",
       "9  64913       2952            2841            stir of echoes   \n",
       "\n",
       "   ltable_title_year                       ltable_genres  \\\n",
       "0               2008                       drama|romance   \n",
       "1               2000                      comedy|mystery   \n",
       "2               2013             fantasy|horror|thriller   \n",
       "3               1999                comedy|crime|romance   \n",
       "4               1977                   drama|history|war   \n",
       "5               1999                      drama|thriller   \n",
       "6               1997                 action|crime|sci-fi   \n",
       "7               1992  action|adventure|drama|romance|war   \n",
       "8               2008                       drama|romance   \n",
       "9               1999             horror|mystery|thriller   \n",
       "\n",
       "                rtable_title  rtable_year               rtable_genres  label  \n",
       "0               Seven Pounds         2008                       Drama      1  \n",
       "1      Dude, Where's My Car?         2000               Comedy|Sci-Fi      1  \n",
       "2       Insidious: Chapter 2         2013             Horror|Thriller      1  \n",
       "3               Happy, Texas         1999                      Comedy      1  \n",
       "4          Bridge Too Far, A         1977            Action|Drama|War      1  \n",
       "5                   Instinct         1999              Drama|Thriller      1  \n",
       "6                      Steel         1997                      Action      1  \n",
       "7  Last of the Mohicans, The         1992  Action|Romance|War|Western      1  \n",
       "8                 Two Lovers         2008               Drama|Romance      1  \n",
       "9             Stir of Echoes         1999     Horror|Mystery|Thriller      1  "
      ]
     },
     "execution_count": 13,
     "metadata": {},
     "output_type": "execute_result"
    }
   ],
   "source": [
    "G.head(10)"
   ]
  },
  {
   "cell_type": "markdown",
   "metadata": {
    "collapsed": true
   },
   "source": [
    "We note here, that based on what we saw in the creation of the golden data, we establish a *correct* match as a perfect match on year and title, where title is lower case. For example, we would not consider tuple *(insidious, 2013)* and tuple *(insidious: chapter 2, 2013)* to be a match. We do so because we cannot reliably say that the sequal refers to the original. "
   ]
  },
  {
   "cell_type": "markdown",
   "metadata": {
    "collapsed": true
   },
   "source": [
    "### Splitting Labeled Data into Development and Evaluation Set"
   ]
  },
  {
   "cell_type": "markdown",
   "metadata": {},
   "source": [
    "### Selecting Best Learning-Based Matcher"
   ]
  },
  {
   "cell_type": "code",
   "execution_count": 14,
   "metadata": {
    "collapsed": true
   },
   "outputs": [],
   "source": [
    "# Select ML matcher from last time\n",
    "\n",
    "lg = em.LogRegMatcher(name='LogReg', random_state=0)\n"
   ]
  },
  {
   "cell_type": "code",
   "execution_count": 15,
   "metadata": {
    "collapsed": false
   },
   "outputs": [],
   "source": [
    "feature_table = em.get_features_for_matching(A,B)"
   ]
  },
  {
   "cell_type": "code",
   "execution_count": 16,
   "metadata": {
    "collapsed": false
   },
   "outputs": [
    {
     "data": {
      "text/plain": [
       "0        title_title_jac_qgm_3_qgm_3\n",
       "1    title_title_cos_dlm_dc0_dlm_dc0\n",
       "2    title_title_jac_dlm_dc0_dlm_dc0\n",
       "3                    title_title_mel\n",
       "4               title_title_lev_dist\n",
       "5                title_title_lev_sim\n",
       "6                    title_title_nmw\n",
       "7                     title_title_sw\n",
       "Name: feature_name, dtype: object"
      ]
     },
     "execution_count": 16,
     "metadata": {},
     "output_type": "execute_result"
    }
   ],
   "source": [
    "feature_table.feature_name"
   ]
  },
  {
   "cell_type": "code",
   "execution_count": 17,
   "metadata": {
    "collapsed": false
   },
   "outputs": [
    {
     "data": {
      "text/html": [
       "<div>\n",
       "<table border=\"1\" class=\"dataframe\">\n",
       "  <thead>\n",
       "    <tr style=\"text-align: right;\">\n",
       "      <th></th>\n",
       "      <th>_id</th>\n",
       "      <th>ltable_id</th>\n",
       "      <th>rtable_movieId</th>\n",
       "      <th>ltable_movie_title</th>\n",
       "      <th>ltable_title_year</th>\n",
       "      <th>ltable_genres</th>\n",
       "      <th>rtable_title</th>\n",
       "      <th>rtable_year</th>\n",
       "      <th>rtable_genres</th>\n",
       "      <th>label</th>\n",
       "    </tr>\n",
       "  </thead>\n",
       "  <tbody>\n",
       "    <tr>\n",
       "      <th>0</th>\n",
       "      <td>2433</td>\n",
       "      <td>894</td>\n",
       "      <td>64716</td>\n",
       "      <td>seven pounds</td>\n",
       "      <td>2008</td>\n",
       "      <td>drama|romance</td>\n",
       "      <td>Seven Pounds</td>\n",
       "      <td>2008</td>\n",
       "      <td>Drama</td>\n",
       "      <td>1</td>\n",
       "    </tr>\n",
       "    <tr>\n",
       "      <th>1</th>\n",
       "      <td>4545</td>\n",
       "      <td>2842</td>\n",
       "      <td>4015</td>\n",
       "      <td>dude, where's my car?</td>\n",
       "      <td>2000</td>\n",
       "      <td>comedy|mystery</td>\n",
       "      <td>Dude, Where's My Car?</td>\n",
       "      <td>2000</td>\n",
       "      <td>Comedy|Sci-Fi</td>\n",
       "      <td>1</td>\n",
       "    </tr>\n",
       "    <tr>\n",
       "      <th>2</th>\n",
       "      <td>6907</td>\n",
       "      <td>3697</td>\n",
       "      <td>104908</td>\n",
       "      <td>insidious: chapter 2</td>\n",
       "      <td>2013</td>\n",
       "      <td>fantasy|horror|thriller</td>\n",
       "      <td>Insidious: Chapter 2</td>\n",
       "      <td>2013</td>\n",
       "      <td>Horror|Thriller</td>\n",
       "      <td>1</td>\n",
       "    </tr>\n",
       "    <tr>\n",
       "      <th>3</th>\n",
       "      <td>24168</td>\n",
       "      <td>4384</td>\n",
       "      <td>2891</td>\n",
       "      <td>happy, texas</td>\n",
       "      <td>1999</td>\n",
       "      <td>comedy|crime|romance</td>\n",
       "      <td>Happy, Texas</td>\n",
       "      <td>1999</td>\n",
       "      <td>Comedy</td>\n",
       "      <td>1</td>\n",
       "    </tr>\n",
       "    <tr>\n",
       "      <th>4</th>\n",
       "      <td>31352</td>\n",
       "      <td>1844</td>\n",
       "      <td>7980</td>\n",
       "      <td>a bridge too far</td>\n",
       "      <td>1977</td>\n",
       "      <td>drama|history|war</td>\n",
       "      <td>Bridge Too Far, A</td>\n",
       "      <td>1977</td>\n",
       "      <td>Action|Drama|War</td>\n",
       "      <td>1</td>\n",
       "    </tr>\n",
       "  </tbody>\n",
       "</table>\n",
       "</div>"
      ],
      "text/plain": [
       "     _id  ltable_id  rtable_movieId     ltable_movie_title  ltable_title_year  \\\n",
       "0   2433        894           64716           seven pounds               2008   \n",
       "1   4545       2842            4015  dude, where's my car?               2000   \n",
       "2   6907       3697          104908   insidious: chapter 2               2013   \n",
       "3  24168       4384            2891           happy, texas               1999   \n",
       "4  31352       1844            7980       a bridge too far               1977   \n",
       "\n",
       "             ltable_genres           rtable_title  rtable_year  \\\n",
       "0            drama|romance           Seven Pounds         2008   \n",
       "1           comedy|mystery  Dude, Where's My Car?         2000   \n",
       "2  fantasy|horror|thriller   Insidious: Chapter 2         2013   \n",
       "3     comedy|crime|romance           Happy, Texas         1999   \n",
       "4        drama|history|war      Bridge Too Far, A         1977   \n",
       "\n",
       "      rtable_genres  label  \n",
       "0             Drama      1  \n",
       "1     Comedy|Sci-Fi      1  \n",
       "2   Horror|Thriller      1  \n",
       "3            Comedy      1  \n",
       "4  Action|Drama|War      1  "
      ]
     },
     "execution_count": 17,
     "metadata": {},
     "output_type": "execute_result"
    }
   ],
   "source": [
    "G.head()"
   ]
  },
  {
   "cell_type": "code",
   "execution_count": 18,
   "metadata": {
    "collapsed": false
   },
   "outputs": [
    {
     "name": "stderr",
     "output_type": "stream",
     "text": [
      "0%                          100%\n",
      "[##############################] | ETA: 00:00:00\n",
      "Total time elapsed: 00:00:02\n"
     ]
    }
   ],
   "source": [
    "# Select the attrs. to be included in the feature vector table\n",
    "attrs_from_table = ['ltable_movie_title', 'ltable_title_year',\n",
    "                    'rtable_title', 'rtable_year']\n",
    "\n",
    "#convert to feature vectors\n",
    "H = em.extract_feature_vecs(G,\n",
    "                           feature_table=feature_table,\n",
    "                           attrs_after='label',\n",
    "                           show_progress=True)"
   ]
  },
  {
   "cell_type": "code",
   "execution_count": 19,
   "metadata": {
    "collapsed": false
   },
   "outputs": [
    {
     "data": {
      "text/html": [
       "<div>\n",
       "<table border=\"1\" class=\"dataframe\">\n",
       "  <thead>\n",
       "    <tr style=\"text-align: right;\">\n",
       "      <th></th>\n",
       "      <th>_id</th>\n",
       "      <th>ltable_id</th>\n",
       "      <th>rtable_movieId</th>\n",
       "      <th>title_title_jac_qgm_3_qgm_3</th>\n",
       "      <th>title_title_cos_dlm_dc0_dlm_dc0</th>\n",
       "      <th>title_title_jac_dlm_dc0_dlm_dc0</th>\n",
       "      <th>title_title_mel</th>\n",
       "      <th>title_title_lev_dist</th>\n",
       "      <th>title_title_lev_sim</th>\n",
       "      <th>title_title_nmw</th>\n",
       "      <th>title_title_sw</th>\n",
       "      <th>label</th>\n",
       "    </tr>\n",
       "  </thead>\n",
       "  <tbody>\n",
       "    <tr>\n",
       "      <th>0</th>\n",
       "      <td>2433</td>\n",
       "      <td>894</td>\n",
       "      <td>64716</td>\n",
       "      <td>0.400000</td>\n",
       "      <td>0.000000</td>\n",
       "      <td>0.0</td>\n",
       "      <td>0.888889</td>\n",
       "      <td>2</td>\n",
       "      <td>0.833333</td>\n",
       "      <td>10.0</td>\n",
       "      <td>10.0</td>\n",
       "      <td>1</td>\n",
       "    </tr>\n",
       "    <tr>\n",
       "      <th>1</th>\n",
       "      <td>4545</td>\n",
       "      <td>2842</td>\n",
       "      <td>4015</td>\n",
       "      <td>0.314286</td>\n",
       "      <td>0.000000</td>\n",
       "      <td>0.0</td>\n",
       "      <td>0.853408</td>\n",
       "      <td>4</td>\n",
       "      <td>0.809524</td>\n",
       "      <td>17.0</td>\n",
       "      <td>17.0</td>\n",
       "      <td>1</td>\n",
       "    </tr>\n",
       "    <tr>\n",
       "      <th>2</th>\n",
       "      <td>6907</td>\n",
       "      <td>3697</td>\n",
       "      <td>104908</td>\n",
       "      <td>0.571429</td>\n",
       "      <td>0.333333</td>\n",
       "      <td>0.2</td>\n",
       "      <td>0.887037</td>\n",
       "      <td>2</td>\n",
       "      <td>0.900000</td>\n",
       "      <td>18.0</td>\n",
       "      <td>18.0</td>\n",
       "      <td>1</td>\n",
       "    </tr>\n",
       "    <tr>\n",
       "      <th>3</th>\n",
       "      <td>24168</td>\n",
       "      <td>4384</td>\n",
       "      <td>2891</td>\n",
       "      <td>0.400000</td>\n",
       "      <td>0.000000</td>\n",
       "      <td>0.0</td>\n",
       "      <td>0.888889</td>\n",
       "      <td>2</td>\n",
       "      <td>0.833333</td>\n",
       "      <td>10.0</td>\n",
       "      <td>10.0</td>\n",
       "      <td>1</td>\n",
       "    </tr>\n",
       "    <tr>\n",
       "      <th>4</th>\n",
       "      <td>31352</td>\n",
       "      <td>1844</td>\n",
       "      <td>7980</td>\n",
       "      <td>0.156250</td>\n",
       "      <td>0.000000</td>\n",
       "      <td>0.0</td>\n",
       "      <td>0.665850</td>\n",
       "      <td>8</td>\n",
       "      <td>0.529412</td>\n",
       "      <td>6.0</td>\n",
       "      <td>11.0</td>\n",
       "      <td>1</td>\n",
       "    </tr>\n",
       "  </tbody>\n",
       "</table>\n",
       "</div>"
      ],
      "text/plain": [
       "     _id  ltable_id  rtable_movieId  title_title_jac_qgm_3_qgm_3  \\\n",
       "0   2433        894           64716                     0.400000   \n",
       "1   4545       2842            4015                     0.314286   \n",
       "2   6907       3697          104908                     0.571429   \n",
       "3  24168       4384            2891                     0.400000   \n",
       "4  31352       1844            7980                     0.156250   \n",
       "\n",
       "   title_title_cos_dlm_dc0_dlm_dc0  title_title_jac_dlm_dc0_dlm_dc0  \\\n",
       "0                         0.000000                              0.0   \n",
       "1                         0.000000                              0.0   \n",
       "2                         0.333333                              0.2   \n",
       "3                         0.000000                              0.0   \n",
       "4                         0.000000                              0.0   \n",
       "\n",
       "   title_title_mel  title_title_lev_dist  title_title_lev_sim  \\\n",
       "0         0.888889                     2             0.833333   \n",
       "1         0.853408                     4             0.809524   \n",
       "2         0.887037                     2             0.900000   \n",
       "3         0.888889                     2             0.833333   \n",
       "4         0.665850                     8             0.529412   \n",
       "\n",
       "   title_title_nmw  title_title_sw  label  \n",
       "0             10.0            10.0      1  \n",
       "1             17.0            17.0      1  \n",
       "2             18.0            18.0      1  \n",
       "3             10.0            10.0      1  \n",
       "4              6.0            11.0      1  "
      ]
     },
     "execution_count": 19,
     "metadata": {},
     "output_type": "execute_result"
    }
   ],
   "source": [
    "H.head()"
   ]
  },
  {
   "cell_type": "markdown",
   "metadata": {},
   "source": [
    "### Selecting best ML Matcher"
   ]
  },
  {
   "cell_type": "markdown",
   "metadata": {
    "collapsed": false
   },
   "source": [
    "Now we want to select the best matcher. We use k-fold cross validation. We will use 10 folds here and use precision, recall, and F1 to select the best matcher.\n",
    "\n"
   ]
  },
  {
   "cell_type": "code",
   "execution_count": 21,
   "metadata": {
    "collapsed": false
   },
   "outputs": [],
   "source": [
    "# Instantiate the RF Matcher\n",
    "lg = em.LogRegMatcher()"
   ]
  },
  {
   "cell_type": "code",
   "execution_count": null,
   "metadata": {
    "collapsed": true
   },
   "outputs": [],
   "source": []
  },
  {
   "cell_type": "code",
   "execution_count": 24,
   "metadata": {
    "collapsed": false
   },
   "outputs": [
    {
     "data": {
      "text/plain": [
       "['_id', 'ltable_id', 'rtable_movieId', 'label']"
      ]
     },
     "execution_count": 24,
     "metadata": {},
     "output_type": "execute_result"
    }
   ],
   "source": [
    "# Get the attributes to be projected while training\n",
    "attrs_to_be_excluded = []\n",
    "attrs_to_be_excluded.extend(['_id', 'ltable_id', 'rtable_movieId', 'label'])\n",
    "attrs_to_be_excluded"
   ]
  },
  {
   "cell_type": "code",
   "execution_count": 25,
   "metadata": {
    "collapsed": false
   },
   "outputs": [],
   "source": [
    "# Train using feature vectors from the labeled data.\n",
    "lg.fit(table=H, exclude_attrs=attrs_to_be_excluded, target_attr='label')"
   ]
  },
  {
   "cell_type": "markdown",
   "metadata": {},
   "source": [
    "### Predict matches in the candidate set using trained matcher"
   ]
  },
  {
   "cell_type": "code",
   "execution_count": 26,
   "metadata": {
    "collapsed": false
   },
   "outputs": [
    {
     "data": {
      "text/html": [
       "<div>\n",
       "<table border=\"1\" class=\"dataframe\">\n",
       "  <thead>\n",
       "    <tr style=\"text-align: right;\">\n",
       "      <th></th>\n",
       "      <th>_id</th>\n",
       "      <th>ltable_id</th>\n",
       "      <th>rtable_movieId</th>\n",
       "      <th>ltable_title</th>\n",
       "      <th>ltable_year</th>\n",
       "      <th>ltable_genres</th>\n",
       "      <th>rtable_title</th>\n",
       "      <th>rtable_year</th>\n",
       "      <th>rtable_genres</th>\n",
       "    </tr>\n",
       "  </thead>\n",
       "  <tbody>\n",
       "    <tr>\n",
       "      <th>0</th>\n",
       "      <td>0</td>\n",
       "      <td>1026</td>\n",
       "      <td>1</td>\n",
       "      <td>jade</td>\n",
       "      <td>1995</td>\n",
       "      <td>crime|drama|thriller</td>\n",
       "      <td>Toy Story</td>\n",
       "      <td>1995</td>\n",
       "      <td>Adventure|Animation|Children|Comedy|Fantasy</td>\n",
       "    </tr>\n",
       "    <tr>\n",
       "      <th>1</th>\n",
       "      <td>1</td>\n",
       "      <td>2053</td>\n",
       "      <td>1</td>\n",
       "      <td>bad boys</td>\n",
       "      <td>1995</td>\n",
       "      <td>action|comedy|crime|drama|thriller</td>\n",
       "      <td>Toy Story</td>\n",
       "      <td>1995</td>\n",
       "      <td>Adventure|Animation|Children|Comedy|Fantasy</td>\n",
       "    </tr>\n",
       "    <tr>\n",
       "      <th>2</th>\n",
       "      <td>2</td>\n",
       "      <td>2822</td>\n",
       "      <td>1</td>\n",
       "      <td>clueless</td>\n",
       "      <td>1995</td>\n",
       "      <td>comedy|romance</td>\n",
       "      <td>Toy Story</td>\n",
       "      <td>1995</td>\n",
       "      <td>Adventure|Animation|Children|Comedy|Fantasy</td>\n",
       "    </tr>\n",
       "    <tr>\n",
       "      <th>3</th>\n",
       "      <td>3</td>\n",
       "      <td>4662</td>\n",
       "      <td>1</td>\n",
       "      <td>welcome to the dollhouse</td>\n",
       "      <td>1995</td>\n",
       "      <td>comedy|drama</td>\n",
       "      <td>Toy Story</td>\n",
       "      <td>1995</td>\n",
       "      <td>Adventure|Animation|Children|Comedy|Fantasy</td>\n",
       "    </tr>\n",
       "    <tr>\n",
       "      <th>4</th>\n",
       "      <td>4</td>\n",
       "      <td>3593</td>\n",
       "      <td>1</td>\n",
       "      <td>the usual suspects</td>\n",
       "      <td>1995</td>\n",
       "      <td>crime|drama|mystery|thriller</td>\n",
       "      <td>Toy Story</td>\n",
       "      <td>1995</td>\n",
       "      <td>Adventure|Animation|Children|Comedy|Fantasy</td>\n",
       "    </tr>\n",
       "  </tbody>\n",
       "</table>\n",
       "</div>"
      ],
      "text/plain": [
       "   _id  ltable_id  rtable_movieId              ltable_title  ltable_year  \\\n",
       "0    0       1026               1                      jade         1995   \n",
       "1    1       2053               1                  bad boys         1995   \n",
       "2    2       2822               1                  clueless         1995   \n",
       "3    3       4662               1  welcome to the dollhouse         1995   \n",
       "4    4       3593               1        the usual suspects         1995   \n",
       "\n",
       "                        ltable_genres rtable_title  rtable_year  \\\n",
       "0                crime|drama|thriller    Toy Story         1995   \n",
       "1  action|comedy|crime|drama|thriller    Toy Story         1995   \n",
       "2                      comedy|romance    Toy Story         1995   \n",
       "3                        comedy|drama    Toy Story         1995   \n",
       "4        crime|drama|mystery|thriller    Toy Story         1995   \n",
       "\n",
       "                                 rtable_genres  \n",
       "0  Adventure|Animation|Children|Comedy|Fantasy  \n",
       "1  Adventure|Animation|Children|Comedy|Fantasy  \n",
       "2  Adventure|Animation|Children|Comedy|Fantasy  \n",
       "3  Adventure|Animation|Children|Comedy|Fantasy  \n",
       "4  Adventure|Animation|Children|Comedy|Fantasy  "
      ]
     },
     "execution_count": 26,
     "metadata": {},
     "output_type": "execute_result"
    }
   ],
   "source": [
    "C.head()"
   ]
  },
  {
   "cell_type": "code",
   "execution_count": 27,
   "metadata": {
    "collapsed": false
   },
   "outputs": [
    {
     "name": "stderr",
     "output_type": "stream",
     "text": [
      "0%                          100%\n",
      "[##############################] | ETA: 00:00:00\n",
      "Total time elapsed: 00:00:03\n"
     ]
    }
   ],
   "source": [
    "# Select the attrs. to be included in the feature vector table\n",
    "attrs_from_table = ['ltable_title', 'ltable_year',\n",
    "                    'rtable_title', 'rtable_year']\n",
    "# Convert the cancidate set to feature vectors using the feature table\n",
    "L = em.extract_feature_vecs(C, feature_table=feature_table,\n",
    "                             attrs_before= attrs_from_table,\n",
    "                             show_progress=True)"
   ]
  },
  {
   "cell_type": "markdown",
   "metadata": {},
   "source": [
    "Predict matches in the candidate set using trained matcher and feature vectors:"
   ]
  },
  {
   "cell_type": "code",
   "execution_count": 28,
   "metadata": {
    "collapsed": false
   },
   "outputs": [
    {
     "data": {
      "text/html": [
       "<div>\n",
       "<table border=\"1\" class=\"dataframe\">\n",
       "  <thead>\n",
       "    <tr style=\"text-align: right;\">\n",
       "      <th></th>\n",
       "      <th>_id</th>\n",
       "      <th>ltable_id</th>\n",
       "      <th>rtable_movieId</th>\n",
       "      <th>ltable_title</th>\n",
       "      <th>ltable_year</th>\n",
       "      <th>rtable_title</th>\n",
       "      <th>rtable_year</th>\n",
       "      <th>title_title_jac_qgm_3_qgm_3</th>\n",
       "      <th>title_title_cos_dlm_dc0_dlm_dc0</th>\n",
       "      <th>title_title_jac_dlm_dc0_dlm_dc0</th>\n",
       "      <th>title_title_mel</th>\n",
       "      <th>title_title_lev_dist</th>\n",
       "      <th>title_title_lev_sim</th>\n",
       "      <th>title_title_nmw</th>\n",
       "      <th>title_title_sw</th>\n",
       "    </tr>\n",
       "  </thead>\n",
       "  <tbody>\n",
       "    <tr>\n",
       "      <th>0</th>\n",
       "      <td>0</td>\n",
       "      <td>1026</td>\n",
       "      <td>1</td>\n",
       "      <td>jade</td>\n",
       "      <td>1995</td>\n",
       "      <td>Toy Story</td>\n",
       "      <td>1995</td>\n",
       "      <td>0.0</td>\n",
       "      <td>0.0</td>\n",
       "      <td>0.0</td>\n",
       "      <td>0.000000</td>\n",
       "      <td>9</td>\n",
       "      <td>0.000000</td>\n",
       "      <td>-5.0</td>\n",
       "      <td>0.0</td>\n",
       "    </tr>\n",
       "    <tr>\n",
       "      <th>1</th>\n",
       "      <td>1</td>\n",
       "      <td>2053</td>\n",
       "      <td>1</td>\n",
       "      <td>bad boys</td>\n",
       "      <td>1995</td>\n",
       "      <td>Toy Story</td>\n",
       "      <td>1995</td>\n",
       "      <td>0.0</td>\n",
       "      <td>0.0</td>\n",
       "      <td>0.0</td>\n",
       "      <td>0.569444</td>\n",
       "      <td>7</td>\n",
       "      <td>0.222222</td>\n",
       "      <td>1.0</td>\n",
       "      <td>2.0</td>\n",
       "    </tr>\n",
       "    <tr>\n",
       "      <th>2</th>\n",
       "      <td>2</td>\n",
       "      <td>2822</td>\n",
       "      <td>1</td>\n",
       "      <td>clueless</td>\n",
       "      <td>1995</td>\n",
       "      <td>Toy Story</td>\n",
       "      <td>1995</td>\n",
       "      <td>0.0</td>\n",
       "      <td>0.0</td>\n",
       "      <td>0.0</td>\n",
       "      <td>0.000000</td>\n",
       "      <td>9</td>\n",
       "      <td>0.000000</td>\n",
       "      <td>-1.0</td>\n",
       "      <td>0.0</td>\n",
       "    </tr>\n",
       "    <tr>\n",
       "      <th>3</th>\n",
       "      <td>3</td>\n",
       "      <td>4662</td>\n",
       "      <td>1</td>\n",
       "      <td>welcome to the dollhouse</td>\n",
       "      <td>1995</td>\n",
       "      <td>Toy Story</td>\n",
       "      <td>1995</td>\n",
       "      <td>0.0</td>\n",
       "      <td>0.0</td>\n",
       "      <td>0.0</td>\n",
       "      <td>0.537037</td>\n",
       "      <td>20</td>\n",
       "      <td>0.166667</td>\n",
       "      <td>-11.0</td>\n",
       "      <td>3.0</td>\n",
       "    </tr>\n",
       "    <tr>\n",
       "      <th>4</th>\n",
       "      <td>4</td>\n",
       "      <td>3593</td>\n",
       "      <td>1</td>\n",
       "      <td>the usual suspects</td>\n",
       "      <td>1995</td>\n",
       "      <td>Toy Story</td>\n",
       "      <td>1995</td>\n",
       "      <td>0.0</td>\n",
       "      <td>0.0</td>\n",
       "      <td>0.0</td>\n",
       "      <td>0.277778</td>\n",
       "      <td>17</td>\n",
       "      <td>0.055556</td>\n",
       "      <td>-8.0</td>\n",
       "      <td>1.0</td>\n",
       "    </tr>\n",
       "  </tbody>\n",
       "</table>\n",
       "</div>"
      ],
      "text/plain": [
       "   _id  ltable_id  rtable_movieId              ltable_title  ltable_year  \\\n",
       "0    0       1026               1                      jade         1995   \n",
       "1    1       2053               1                  bad boys         1995   \n",
       "2    2       2822               1                  clueless         1995   \n",
       "3    3       4662               1  welcome to the dollhouse         1995   \n",
       "4    4       3593               1        the usual suspects         1995   \n",
       "\n",
       "  rtable_title  rtable_year  title_title_jac_qgm_3_qgm_3  \\\n",
       "0    Toy Story         1995                          0.0   \n",
       "1    Toy Story         1995                          0.0   \n",
       "2    Toy Story         1995                          0.0   \n",
       "3    Toy Story         1995                          0.0   \n",
       "4    Toy Story         1995                          0.0   \n",
       "\n",
       "   title_title_cos_dlm_dc0_dlm_dc0  title_title_jac_dlm_dc0_dlm_dc0  \\\n",
       "0                              0.0                              0.0   \n",
       "1                              0.0                              0.0   \n",
       "2                              0.0                              0.0   \n",
       "3                              0.0                              0.0   \n",
       "4                              0.0                              0.0   \n",
       "\n",
       "   title_title_mel  title_title_lev_dist  title_title_lev_sim  \\\n",
       "0         0.000000                     9             0.000000   \n",
       "1         0.569444                     7             0.222222   \n",
       "2         0.000000                     9             0.000000   \n",
       "3         0.537037                    20             0.166667   \n",
       "4         0.277778                    17             0.055556   \n",
       "\n",
       "   title_title_nmw  title_title_sw  \n",
       "0             -5.0             0.0  \n",
       "1              1.0             2.0  \n",
       "2             -1.0             0.0  \n",
       "3            -11.0             3.0  \n",
       "4             -8.0             1.0  "
      ]
     },
     "execution_count": 28,
     "metadata": {},
     "output_type": "execute_result"
    }
   ],
   "source": [
    "L.head()"
   ]
  },
  {
   "cell_type": "code",
   "execution_count": 29,
   "metadata": {
    "collapsed": false
   },
   "outputs": [
    {
     "data": {
      "text/plain": [
       "['_id',\n",
       " 'ltable_id',\n",
       " 'rtable_movieId',\n",
       " 'ltable_title',\n",
       " 'ltable_year',\n",
       " 'rtable_title',\n",
       " 'rtable_year']"
      ]
     },
     "execution_count": 29,
     "metadata": {},
     "output_type": "execute_result"
    }
   ],
   "source": [
    "# Get the attributes to be excluded while predicting \n",
    "attrs_to_be_excluded = []\n",
    "attrs_to_be_excluded.extend(['_id', 'ltable_id', 'rtable_movieId'])\n",
    "attrs_to_be_excluded.extend(attrs_from_table)\n",
    "attrs_to_be_excluded"
   ]
  },
  {
   "cell_type": "code",
   "execution_count": 30,
   "metadata": {
    "collapsed": false
   },
   "outputs": [],
   "source": [
    "# Predict the matches\n",
    "predictions = lg.predict(table=L, exclude_attrs=attrs_to_be_excluded,                          \n",
    "              append=True, target_attr='predicted', inplace=False)"
   ]
  },
  {
   "cell_type": "code",
   "execution_count": 31,
   "metadata": {
    "collapsed": false
   },
   "outputs": [
    {
     "data": {
      "text/html": [
       "<div>\n",
       "<table border=\"1\" class=\"dataframe\">\n",
       "  <thead>\n",
       "    <tr style=\"text-align: right;\">\n",
       "      <th></th>\n",
       "      <th>_id</th>\n",
       "      <th>ltable_id</th>\n",
       "      <th>rtable_movieId</th>\n",
       "      <th>ltable_title</th>\n",
       "      <th>ltable_year</th>\n",
       "      <th>rtable_title</th>\n",
       "      <th>rtable_year</th>\n",
       "      <th>title_title_jac_qgm_3_qgm_3</th>\n",
       "      <th>title_title_cos_dlm_dc0_dlm_dc0</th>\n",
       "      <th>title_title_jac_dlm_dc0_dlm_dc0</th>\n",
       "      <th>title_title_mel</th>\n",
       "      <th>title_title_lev_dist</th>\n",
       "      <th>title_title_lev_sim</th>\n",
       "      <th>title_title_nmw</th>\n",
       "      <th>title_title_sw</th>\n",
       "      <th>predicted</th>\n",
       "    </tr>\n",
       "  </thead>\n",
       "  <tbody>\n",
       "    <tr>\n",
       "      <th>0</th>\n",
       "      <td>0</td>\n",
       "      <td>1026</td>\n",
       "      <td>1</td>\n",
       "      <td>jade</td>\n",
       "      <td>1995</td>\n",
       "      <td>Toy Story</td>\n",
       "      <td>1995</td>\n",
       "      <td>0.0</td>\n",
       "      <td>0.0</td>\n",
       "      <td>0.0</td>\n",
       "      <td>0.000000</td>\n",
       "      <td>9</td>\n",
       "      <td>0.000000</td>\n",
       "      <td>-5.0</td>\n",
       "      <td>0.0</td>\n",
       "      <td>0</td>\n",
       "    </tr>\n",
       "    <tr>\n",
       "      <th>1</th>\n",
       "      <td>1</td>\n",
       "      <td>2053</td>\n",
       "      <td>1</td>\n",
       "      <td>bad boys</td>\n",
       "      <td>1995</td>\n",
       "      <td>Toy Story</td>\n",
       "      <td>1995</td>\n",
       "      <td>0.0</td>\n",
       "      <td>0.0</td>\n",
       "      <td>0.0</td>\n",
       "      <td>0.569444</td>\n",
       "      <td>7</td>\n",
       "      <td>0.222222</td>\n",
       "      <td>1.0</td>\n",
       "      <td>2.0</td>\n",
       "      <td>0</td>\n",
       "    </tr>\n",
       "    <tr>\n",
       "      <th>2</th>\n",
       "      <td>2</td>\n",
       "      <td>2822</td>\n",
       "      <td>1</td>\n",
       "      <td>clueless</td>\n",
       "      <td>1995</td>\n",
       "      <td>Toy Story</td>\n",
       "      <td>1995</td>\n",
       "      <td>0.0</td>\n",
       "      <td>0.0</td>\n",
       "      <td>0.0</td>\n",
       "      <td>0.000000</td>\n",
       "      <td>9</td>\n",
       "      <td>0.000000</td>\n",
       "      <td>-1.0</td>\n",
       "      <td>0.0</td>\n",
       "      <td>0</td>\n",
       "    </tr>\n",
       "    <tr>\n",
       "      <th>3</th>\n",
       "      <td>3</td>\n",
       "      <td>4662</td>\n",
       "      <td>1</td>\n",
       "      <td>welcome to the dollhouse</td>\n",
       "      <td>1995</td>\n",
       "      <td>Toy Story</td>\n",
       "      <td>1995</td>\n",
       "      <td>0.0</td>\n",
       "      <td>0.0</td>\n",
       "      <td>0.0</td>\n",
       "      <td>0.537037</td>\n",
       "      <td>20</td>\n",
       "      <td>0.166667</td>\n",
       "      <td>-11.0</td>\n",
       "      <td>3.0</td>\n",
       "      <td>0</td>\n",
       "    </tr>\n",
       "    <tr>\n",
       "      <th>4</th>\n",
       "      <td>4</td>\n",
       "      <td>3593</td>\n",
       "      <td>1</td>\n",
       "      <td>the usual suspects</td>\n",
       "      <td>1995</td>\n",
       "      <td>Toy Story</td>\n",
       "      <td>1995</td>\n",
       "      <td>0.0</td>\n",
       "      <td>0.0</td>\n",
       "      <td>0.0</td>\n",
       "      <td>0.277778</td>\n",
       "      <td>17</td>\n",
       "      <td>0.055556</td>\n",
       "      <td>-8.0</td>\n",
       "      <td>1.0</td>\n",
       "      <td>0</td>\n",
       "    </tr>\n",
       "  </tbody>\n",
       "</table>\n",
       "</div>"
      ],
      "text/plain": [
       "   _id  ltable_id  rtable_movieId              ltable_title  ltable_year  \\\n",
       "0    0       1026               1                      jade         1995   \n",
       "1    1       2053               1                  bad boys         1995   \n",
       "2    2       2822               1                  clueless         1995   \n",
       "3    3       4662               1  welcome to the dollhouse         1995   \n",
       "4    4       3593               1        the usual suspects         1995   \n",
       "\n",
       "  rtable_title  rtable_year  title_title_jac_qgm_3_qgm_3  \\\n",
       "0    Toy Story         1995                          0.0   \n",
       "1    Toy Story         1995                          0.0   \n",
       "2    Toy Story         1995                          0.0   \n",
       "3    Toy Story         1995                          0.0   \n",
       "4    Toy Story         1995                          0.0   \n",
       "\n",
       "   title_title_cos_dlm_dc0_dlm_dc0  title_title_jac_dlm_dc0_dlm_dc0  \\\n",
       "0                              0.0                              0.0   \n",
       "1                              0.0                              0.0   \n",
       "2                              0.0                              0.0   \n",
       "3                              0.0                              0.0   \n",
       "4                              0.0                              0.0   \n",
       "\n",
       "   title_title_mel  title_title_lev_dist  title_title_lev_sim  \\\n",
       "0         0.000000                     9             0.000000   \n",
       "1         0.569444                     7             0.222222   \n",
       "2         0.000000                     9             0.000000   \n",
       "3         0.537037                    20             0.166667   \n",
       "4         0.277778                    17             0.055556   \n",
       "\n",
       "   title_title_nmw  title_title_sw  predicted  \n",
       "0             -5.0             0.0          0  \n",
       "1              1.0             2.0          0  \n",
       "2             -1.0             0.0          0  \n",
       "3            -11.0             3.0          0  \n",
       "4             -8.0             1.0          0  "
      ]
     },
     "execution_count": 31,
     "metadata": {},
     "output_type": "execute_result"
    }
   ],
   "source": [
    "predictions.head()"
   ]
  },
  {
   "cell_type": "code",
   "execution_count": 33,
   "metadata": {
    "collapsed": false
   },
   "outputs": [],
   "source": [
    "# Get the attributes to be projected out\n",
    "attrs_proj = []\n",
    "attrs_proj.extend(['_id', 'ltable_id', 'rtable_movieId'])\n",
    "attrs_proj.extend(attrs_from_table)\n",
    "attrs_proj.append('predicted')\n",
    "\n",
    "# Project the attributes\n",
    "predictions = predictions[attrs_proj]"
   ]
  },
  {
   "cell_type": "code",
   "execution_count": 36,
   "metadata": {
    "collapsed": false
   },
   "outputs": [
    {
     "data": {
      "text/html": [
       "<div>\n",
       "<table border=\"1\" class=\"dataframe\">\n",
       "  <thead>\n",
       "    <tr style=\"text-align: right;\">\n",
       "      <th></th>\n",
       "      <th>_id</th>\n",
       "      <th>ltable_id</th>\n",
       "      <th>rtable_movieId</th>\n",
       "      <th>ltable_title</th>\n",
       "      <th>ltable_year</th>\n",
       "      <th>rtable_title</th>\n",
       "      <th>rtable_year</th>\n",
       "      <th>predicted</th>\n",
       "    </tr>\n",
       "  </thead>\n",
       "  <tbody>\n",
       "    <tr>\n",
       "      <th>995</th>\n",
       "      <td>995</td>\n",
       "      <td>1561</td>\n",
       "      <td>15</td>\n",
       "      <td>the quick and the dead</td>\n",
       "      <td>1995</td>\n",
       "      <td>Cutthroat Island</td>\n",
       "      <td>1995</td>\n",
       "      <td>0</td>\n",
       "    </tr>\n",
       "    <tr>\n",
       "      <th>996</th>\n",
       "      <td>996</td>\n",
       "      <td>3740</td>\n",
       "      <td>15</td>\n",
       "      <td>halloween: the curse of michael myers</td>\n",
       "      <td>1995</td>\n",
       "      <td>Cutthroat Island</td>\n",
       "      <td>1995</td>\n",
       "      <td>0</td>\n",
       "    </tr>\n",
       "    <tr>\n",
       "      <th>997</th>\n",
       "      <td>997</td>\n",
       "      <td>2210</td>\n",
       "      <td>15</td>\n",
       "      <td>copycat</td>\n",
       "      <td>1995</td>\n",
       "      <td>Cutthroat Island</td>\n",
       "      <td>1995</td>\n",
       "      <td>0</td>\n",
       "    </tr>\n",
       "    <tr>\n",
       "      <th>998</th>\n",
       "      <td>998</td>\n",
       "      <td>2809</td>\n",
       "      <td>15</td>\n",
       "      <td>jefferson in paris</td>\n",
       "      <td>1995</td>\n",
       "      <td>Cutthroat Island</td>\n",
       "      <td>1995</td>\n",
       "      <td>0</td>\n",
       "    </tr>\n",
       "    <tr>\n",
       "      <th>999</th>\n",
       "      <td>999</td>\n",
       "      <td>1574</td>\n",
       "      <td>15</td>\n",
       "      <td>mr. holland's opus</td>\n",
       "      <td>1995</td>\n",
       "      <td>Cutthroat Island</td>\n",
       "      <td>1995</td>\n",
       "      <td>0</td>\n",
       "    </tr>\n",
       "  </tbody>\n",
       "</table>\n",
       "</div>"
      ],
      "text/plain": [
       "     _id  ltable_id  rtable_movieId                           ltable_title  \\\n",
       "995  995       1561              15                 the quick and the dead   \n",
       "996  996       3740              15  halloween: the curse of michael myers   \n",
       "997  997       2210              15                                copycat   \n",
       "998  998       2809              15                     jefferson in paris   \n",
       "999  999       1574              15                     mr. holland's opus   \n",
       "\n",
       "     ltable_year      rtable_title  rtable_year  predicted  \n",
       "995         1995  Cutthroat Island         1995          0  \n",
       "996         1995  Cutthroat Island         1995          0  \n",
       "997         1995  Cutthroat Island         1995          0  \n",
       "998         1995  Cutthroat Island         1995          0  \n",
       "999         1995  Cutthroat Island         1995          0  "
      ]
     },
     "execution_count": 36,
     "metadata": {},
     "output_type": "execute_result"
    }
   ],
   "source": [
    "predictions.tail()"
   ]
  },
  {
   "cell_type": "markdown",
   "metadata": {},
   "source": [
    "Next, we will take only where predicted == 1 and create that to be a separate csv:"
   ]
  },
  {
   "cell_type": "code",
   "execution_count": 41,
   "metadata": {
    "collapsed": false
   },
   "outputs": [
    {
     "data": {
      "text/html": [
       "<div>\n",
       "<table border=\"1\" class=\"dataframe\">\n",
       "  <thead>\n",
       "    <tr style=\"text-align: right;\">\n",
       "      <th></th>\n",
       "      <th>_id</th>\n",
       "      <th>ltable_id</th>\n",
       "      <th>rtable_movieId</th>\n",
       "      <th>ltable_title</th>\n",
       "      <th>ltable_year</th>\n",
       "      <th>rtable_title</th>\n",
       "      <th>rtable_year</th>\n",
       "      <th>predicted</th>\n",
       "    </tr>\n",
       "  </thead>\n",
       "  <tbody>\n",
       "    <tr>\n",
       "      <th>31</th>\n",
       "      <td>31</td>\n",
       "      <td>1589</td>\n",
       "      <td>1</td>\n",
       "      <td>toy story</td>\n",
       "      <td>1995</td>\n",
       "      <td>Toy Story</td>\n",
       "      <td>1995</td>\n",
       "      <td>1</td>\n",
       "    </tr>\n",
       "    <tr>\n",
       "      <th>414</th>\n",
       "      <td>414</td>\n",
       "      <td>1292</td>\n",
       "      <td>6</td>\n",
       "      <td>kiss of death</td>\n",
       "      <td>1995</td>\n",
       "      <td>Heat</td>\n",
       "      <td>1995</td>\n",
       "      <td>1</td>\n",
       "    </tr>\n",
       "    <tr>\n",
       "      <th>432</th>\n",
       "      <td>432</td>\n",
       "      <td>3988</td>\n",
       "      <td>7</td>\n",
       "      <td>friday</td>\n",
       "      <td>1995</td>\n",
       "      <td>Sabrina</td>\n",
       "      <td>1995</td>\n",
       "      <td>1</td>\n",
       "    </tr>\n",
       "    <tr>\n",
       "      <th>673</th>\n",
       "      <td>673</td>\n",
       "      <td>718</td>\n",
       "      <td>10</td>\n",
       "      <td>goldeneye</td>\n",
       "      <td>1995</td>\n",
       "      <td>GoldenEye</td>\n",
       "      <td>1995</td>\n",
       "      <td>1</td>\n",
       "    </tr>\n",
       "    <tr>\n",
       "      <th>734</th>\n",
       "      <td>734</td>\n",
       "      <td>704</td>\n",
       "      <td>11</td>\n",
       "      <td>the american president</td>\n",
       "      <td>1995</td>\n",
       "      <td>American President, The</td>\n",
       "      <td>1995</td>\n",
       "      <td>1</td>\n",
       "    </tr>\n",
       "    <tr>\n",
       "      <th>825</th>\n",
       "      <td>825</td>\n",
       "      <td>3039</td>\n",
       "      <td>12</td>\n",
       "      <td>dead man walking</td>\n",
       "      <td>1995</td>\n",
       "      <td>Dracula: Dead and Loving It</td>\n",
       "      <td>1995</td>\n",
       "      <td>1</td>\n",
       "    </tr>\n",
       "    <tr>\n",
       "      <th>963</th>\n",
       "      <td>963</td>\n",
       "      <td>1126</td>\n",
       "      <td>14</td>\n",
       "      <td>nixon</td>\n",
       "      <td>1995</td>\n",
       "      <td>Nixon</td>\n",
       "      <td>1995</td>\n",
       "      <td>1</td>\n",
       "    </tr>\n",
       "  </tbody>\n",
       "</table>\n",
       "</div>"
      ],
      "text/plain": [
       "     _id  ltable_id  rtable_movieId            ltable_title  ltable_year  \\\n",
       "31    31       1589               1               toy story         1995   \n",
       "414  414       1292               6           kiss of death         1995   \n",
       "432  432       3988               7                  friday         1995   \n",
       "673  673        718              10               goldeneye         1995   \n",
       "734  734        704              11  the american president         1995   \n",
       "825  825       3039              12        dead man walking         1995   \n",
       "963  963       1126              14                   nixon         1995   \n",
       "\n",
       "                    rtable_title  rtable_year  predicted  \n",
       "31                     Toy Story         1995          1  \n",
       "414                         Heat         1995          1  \n",
       "432                      Sabrina         1995          1  \n",
       "673                    GoldenEye         1995          1  \n",
       "734      American President, The         1995          1  \n",
       "825  Dracula: Dead and Loving It         1995          1  \n",
       "963                        Nixon         1995          1  "
      ]
     },
     "execution_count": 41,
     "metadata": {},
     "output_type": "execute_result"
    }
   ],
   "source": [
    "predictpos = predictions.loc[predictions['predicted']==1]\n",
    "predictpos.head(10)"
   ]
  },
  {
   "cell_type": "code",
   "execution_count": 39,
   "metadata": {
    "collapsed": true
   },
   "outputs": [],
   "source": [
    "predictpos.to_csv('pospredictions.csv', sep=',')"
   ]
  }
 ],
 "metadata": {
  "anaconda-cloud": {},
  "kernelspec": {
   "display_name": "Python [conda root]",
   "language": "python",
   "name": "conda-root-py"
  },
  "language_info": {
   "codemirror_mode": {
    "name": "ipython",
    "version": 3
   },
   "file_extension": ".py",
   "mimetype": "text/x-python",
   "name": "python",
   "nbconvert_exporter": "python",
   "pygments_lexer": "ipython3",
   "version": "3.5.2"
  }
 },
 "nbformat": 4,
 "nbformat_minor": 2
}
