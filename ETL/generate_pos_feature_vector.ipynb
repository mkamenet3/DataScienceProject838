{
 "cells": [
  {
   "cell_type": "markdown",
   "metadata": {},
   "source": [
    "# Features"
   ]
  },
  {
   "cell_type": "markdown",
   "metadata": {},
   "source": [
    "- rule1: \"<PRE>\\n\\s(.*?)\\)\\n\"\n",
    "- rule2: \"revi*(.*?)\\)\\)*\"\n",
    "- rule3: \"\""
   ]
  },
  {
   "cell_type": "markdown",
   "metadata": {},
   "source": [
    "# Function"
   ]
  },
  {
   "cell_type": "code",
   "execution_count": 163,
   "metadata": {
    "collapsed": false
   },
   "outputs": [],
   "source": [
    "#testfiles: 6161, 6162, 6160, 9549\n",
    "\n",
    "import re\n",
    "\n",
    "def import_review(file):\n",
    "    \"\"\"TODO\"\"\"\n",
    "    with open(file, 'r') as f:\n",
    "        dat = f.read()\n",
    "        return(dat)\n",
    "    \n",
    "\n",
    "def extract_movie_regex1(file):\n",
    "    \"\"\"TODO\"\"\"\n",
    "    movie_r1 = []\n",
    "    find_movie = re.compile(r\"<PRE>\\n\\s(.*?)\\)\\n\") #regex specifically for movie title with date\n",
    "    movie_r1.append(re.search(find_movie,file).group(1))\n",
    "    return(movie_r1)\n",
    "    \n",
    "def extract_movie_regex2(file):\n",
    "    \"\"\"TODO\"\"\"\n",
    "    movie_r2 = []\n",
    "    find_movie = re.compile(r\"revi*(.*?)\\)\\)*\") #anything between review* and newline\n",
    "    review = file.lower()\n",
    "    movie_r2.append(re.search(find_movie, review).group(0))\n",
    "    return(movie_r2)\n",
    "\n",
    "def extract_movie_regex3(file):\n",
    "    \"\"\"TODO\"\"\"\n",
    "    movie_r3 = []\n",
    "    find_movie = re.compile(r\"\\?\\d*\\\">(.*?)\\)<\") #anything after HREF Title # and before carat\n",
    "    movie_r3.append(re.search(find_movie, file).group(0))\n",
    "    return(movie_r3)\n",
    "\n",
    "def extract_movie_regex4(file):\n",
    "    \"\"\"TODO\"\"\"\n",
    "    movie_r4 = []\n",
    "    find_movie = re.compile(r\"\\w*,\\s\\w*\") #anything after HREF Title # and before carat\n",
    "    movie_r4.append(re.search(find_movie, file).group(0))\n",
    "    return(movie_r4)\n",
    "\n",
    "def main(file):\n",
    "    \"\"\"main function that does everything. Returns set of positive examples\"\"\"\n",
    "    review = import_review(file)\n",
    "    f1 = extract_movie_regex1(review)\n",
    "    f2 = extract_movie_regex2(review)\n",
    "    f3 = extract_movie_regex3(review)\n",
    "    f4 = extract_movie_regex4(review)\n",
    "    return(f1,f2,f3,f4)\n",
    "            "
   ]
  },
  {
   "cell_type": "code",
   "execution_count": 168,
   "metadata": {
    "collapsed": false
   },
   "outputs": [
    {
     "data": {
      "text/plain": [
       "(['                            The Trap (1966'],\n",
       " ['review for trap, the (1966)'],\n",
       " ['?0061115\">Trap, The (1966)<'],\n",
       " ['Trap, The'])"
      ]
     },
     "execution_count": 168,
     "metadata": {},
     "output_type": "execute_result"
    }
   ],
   "source": [
    "main('../../DataforProject/6161.txt')\n",
    "\n"
   ]
  },
  {
   "cell_type": "markdown",
   "metadata": {},
   "source": [
    "## CREATE NEGATIVE EXAMPLES Based on Test Files\n",
    "\n",
    "\n",
    "## CREATE POSITIVE EXAMPLES Based on Test Files"
   ]
  },
  {
   "cell_type": "code",
   "execution_count": 167,
   "metadata": {
    "collapsed": false
   },
   "outputs": [
    {
     "data": {
      "text/plain": [
       "['Trap, The',\n",
       " 'Trap, The',\n",
       " 'title, but',\n",
       " 'dollars, and',\n",
       " 'indeed, expect',\n",
       " 'Personally, I',\n",
       " 'Reed, playing',\n",
       " 'mute, seems',\n",
       " 'them, stamping',\n",
       " 'handicap, just',\n",
       " 'nature, red',\n",
       " 'hunting, trapping',\n",
       " ', and',\n",
       " 'mountain, and',\n",
       " 'others, including',\n",
       " ', and',\n",
       " 'title, along',\n",
       " ', the',\n",
       " 'cabin, the',\n",
       " 'characters,\\nand',\n",
       " 'traps,\\nbut',\n",
       " 'later,\\npartnered',\n",
       " 'otherwise, the']"
      ]
     },
     "execution_count": 167,
     "metadata": {},
     "output_type": "execute_result"
    }
   ],
   "source": [
    "#SANDBOX - running the code\n",
    "\n",
    "test2 = import_review('../../DataforProject/6161.txt')\n",
    "find_movie =  re.compile(r\"\\w*,\\s\\w*\")\n",
    "# re.compile(r\"eview\\sfor\\s(.*?)(\")\n",
    "\n",
    "re.findall(find_movie,test2)"
   ]
  },
  {
   "cell_type": "code",
   "execution_count": null,
   "metadata": {
    "collapsed": false
   },
   "outputs": [],
   "source": []
  }
 ],
 "metadata": {
  "anaconda-cloud": {},
  "kernelspec": {
   "display_name": "Python [conda root]",
   "language": "python",
   "name": "conda-root-py"
  },
  "language_info": {
   "codemirror_mode": {
    "name": "ipython",
    "version": 3
   },
   "file_extension": ".py",
   "mimetype": "text/x-python",
   "name": "python",
   "nbconvert_exporter": "python",
   "pygments_lexer": "ipython3",
   "version": "3.5.2"
  }
 },
 "nbformat": 4,
 "nbformat_minor": 1
}
