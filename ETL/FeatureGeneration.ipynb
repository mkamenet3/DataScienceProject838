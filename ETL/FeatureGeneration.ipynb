{
 "cells": [
  {
   "cell_type": "code",
   "execution_count": 1,
   "metadata": {
    "collapsed": true
   },
   "outputs": [],
   "source": [
    "import os\n",
    "import sys\n",
    "import re\n",
    "import time\n",
    "import shutil\n",
    "import collections\n",
    "from pandas import DataFrame as df\n",
    "import pandas\n",
    "from html.parser import HTMLParser\n",
    "\n",
    "\n"
   ]
  },
  {
   "cell_type": "code",
   "execution_count": 2,
   "metadata": {
    "collapsed": true
   },
   "outputs": [],
   "source": [
    "# set path\n",
    "#home = os.path.expanduser(\"~\")\n",
    "#review_path = home + '/data/cs838group/movie/'\n",
    "#table_path = home + '/data/cs838group/clean/'\n",
    "#files = os.listdir(review_path)\n"
   ]
  },
  {
   "cell_type": "code",
   "execution_count": 4,
   "metadata": {
    "collapsed": true
   },
   "outputs": [],
   "source": [
    "# class to read data between html tags (<pre> and <p>)\n",
    "# content is between two <hr> tags\n",
    "# returns a list of tuples; a tuple for each <pre> or <p> tag\n",
    "class HTMLBodyParser(HTMLParser):\n",
    "    \n",
    "    def __init__(self):\n",
    "        \n",
    "        HTMLParser.__init__(self)\n",
    "        self.hr1 = False # read data while true\n",
    "        self.curnum = 0\n",
    "        self.curtag = ''\n",
    "        self.content = []\n",
    "    def handle_starttag(self, tag, attrs):\n",
    "        if tag == 'hr':\n",
    "            if not self.hr1:\n",
    "                self.hr1 = True\n",
    "            else:\n",
    "                self.hr1 = False\n",
    "        if tag == 'pre' or tag == 'p':\n",
    "            self.curtag = tag\n",
    "            self.curnum += 1\n",
    "    def handle_data(self, data):\n",
    "        if self.hr1:\n",
    "            if data != '\\n':\n",
    "                self.content.append((self.curnum, self.curtag,data))\n",
    "    def get_content(self):\n",
    "        return(self.content)"
   ]
  },
  {
   "cell_type": "code",
   "execution_count": 13,
   "metadata": {
    "collapsed": false
   },
   "outputs": [
    {
     "name": "stdout",
     "output_type": "stream",
     "text": [
      "['10001.html', '10011.html', '10018.html', '10023.html', '10024.html', '7436.html', '7463.html', '7471.html', '7480.html', '7492.html', '7543.html', '7544.html', '7652.html', '7685.html', '7716.html', '7720.html', '7747.html', '7782.html', '7824.html', '7841.html', '7859.html', '7884.html', '7892.html', '7894.html', '7901.html', '7940.html', '7978.html', '8005.html', '8011.html', '8087.html', '8132.html', '8157.html', '8192.html', '8289.html', '8315.html', '8316.html', '8321.html', '8401.html', '8482.html', '8531.html', '8542.html', '8605.html', '8640.html', '8652.html', '8658.html', '8669.html', '8683.html', '8825.html', '8858.html', '8860.html', '8896.html', '8899.html', '8900.html', '8911.html', '8912.html', '8964.html', '9127.html', '9149.html', '9180.html', '9194.html', '9289.html', '9331.html', '9485.html', '9494.html', '9506.html', '9568.html', '9613.html', '9646.html', '9664.html', '9669.html', '9729.html', '9771.html', '9772.html', '9792.html', '9799.html', '9803.html', '9816.html', '9837.html', '9887.html', '9889.html', '9915.html', '9916.html', '9917.html', '9921.html', '9926.html', '9928.html', '9937.html', '9943.html', '9945.html', '9951.html', '9952.html', '9953.html', '9969.html', '9980.html', '9981.html', '9983.html', '9985.html', '9989.html', '9990.html', '9997.html', 'desktop.ini', 'wc']\n"
     ]
    }
   ],
   "source": [
    "review_path = 'C:/Users/Maria/Google Drive/CS838_DS/DataforProject/reviews/Maria/'\n",
    "files = os.listdir(review_path)\n",
    "print(files)"
   ]
  },
  {
   "cell_type": "code",
   "execution_count": null,
   "metadata": {
    "collapsed": true
   },
   "outputs": [],
   "source": []
  },
  {
   "cell_type": "code",
   "execution_count": 26,
   "metadata": {
    "collapsed": false
   },
   "outputs": [
    {
     "name": "stdout",
     "output_type": "stream",
     "text": [
      "10001\n",
      "['is']\n",
      "10011\n",
      "['films.\\n']\n",
      "10018\n",
      "['thrills']\n",
      "10023\n"
     ]
    },
    {
     "ename": "AttributeError",
     "evalue": "'NoneType' object has no attribute 'group'",
     "output_type": "error",
     "traceback": [
      "\u001b[0;31m---------------------------------------------------------------------------\u001b[0m",
      "\u001b[0;31mAttributeError\u001b[0m                            Traceback (most recent call last)",
      "\u001b[0;32m<ipython-input-26-43f3b8b7c51a>\u001b[0m in \u001b[0;36m<module>\u001b[0;34m()\u001b[0m\n\u001b[1;32m     13\u001b[0m         \u001b[0mbetween_tags\u001b[0m \u001b[1;33m=\u001b[0m \u001b[0mre\u001b[0m\u001b[1;33m.\u001b[0m\u001b[0mcompile\u001b[0m\u001b[1;33m(\u001b[0m\u001b[1;34mr\"<myy>(.*?)<\\/myy>\"\u001b[0m\u001b[1;33m)\u001b[0m\u001b[1;33m\u001b[0m\u001b[0m\n\u001b[1;32m     14\u001b[0m         \u001b[0mafter_tags1\u001b[0m \u001b[1;33m=\u001b[0m \u001b[0mre\u001b[0m\u001b[1;33m.\u001b[0m\u001b[0mcompile\u001b[0m\u001b[1;33m(\u001b[0m\u001b[1;34mr\"([^ ]* )<myy>(.*?)<\\/myy> ([^ ]*)\"\u001b[0m\u001b[1;33m)\u001b[0m\u001b[1;33m\u001b[0m\u001b[0m\n\u001b[0;32m---> 15\u001b[0;31m         \u001b[0mextract1\u001b[0m\u001b[1;33m.\u001b[0m\u001b[0mappend\u001b[0m\u001b[1;33m(\u001b[0m\u001b[0mre\u001b[0m\u001b[1;33m.\u001b[0m\u001b[0msearch\u001b[0m\u001b[1;33m(\u001b[0m\u001b[0mbetween_tags\u001b[0m\u001b[1;33m,\u001b[0m \u001b[0mtext\u001b[0m\u001b[1;33m)\u001b[0m\u001b[1;33m.\u001b[0m\u001b[0mgroup\u001b[0m\u001b[1;33m(\u001b[0m\u001b[1;36m1\u001b[0m\u001b[1;33m)\u001b[0m\u001b[1;33m)\u001b[0m\u001b[1;33m\u001b[0m\u001b[0m\n\u001b[0m\u001b[1;32m     16\u001b[0m         \u001b[0mextract2\u001b[0m\u001b[1;33m.\u001b[0m\u001b[0mappend\u001b[0m\u001b[1;33m(\u001b[0m\u001b[0mre\u001b[0m\u001b[1;33m.\u001b[0m\u001b[0msearch\u001b[0m\u001b[1;33m(\u001b[0m\u001b[0mafter_tags1\u001b[0m\u001b[1;33m,\u001b[0m \u001b[0mtext\u001b[0m\u001b[1;33m)\u001b[0m\u001b[1;33m.\u001b[0m\u001b[0mgroup\u001b[0m\u001b[1;33m(\u001b[0m\u001b[1;36m3\u001b[0m\u001b[1;33m)\u001b[0m\u001b[1;33m)\u001b[0m\u001b[1;33m\u001b[0m\u001b[0m\n\u001b[1;32m     17\u001b[0m     \u001b[0mprint\u001b[0m\u001b[1;33m(\u001b[0m\u001b[0mextract2\u001b[0m\u001b[1;33m)\u001b[0m\u001b[1;33m\u001b[0m\u001b[0m\n",
      "\u001b[0;31mAttributeError\u001b[0m: 'NoneType' object has no attribute 'group'"
     ]
    }
   ],
   "source": [
    "reviews = collections.defaultdict(list)\n",
    "\n",
    "for file in files:\n",
    "    fileID = file.split('.')[0]\n",
    "    print(fileID)\n",
    "    extract1 = []\n",
    "    extract2 = []\n",
    "    with open(review_path + file) as infile:\n",
    "        #text = infile.read()\n",
    "        #try:\n",
    "        text = infile.read()\n",
    "        #extracting movie title between the tags\n",
    "        between_tags = re.compile(r\"<myy>(.*?)<\\/myy>\")\n",
    "        after_tags1 = re.compile(r\"([^ ]* )<myy>(.*?)<\\/myy> ([^ ]*)\")\n",
    "        extract1.append(re.search(between_tags, text).group(1))\n",
    "        extract2.append(re.search(after_tags1, text).group(3))\n",
    "    print(extract2)\n",
    "        \n",
    "        \n",
    "        #header_match = re.search('CLASS=\"title\"><.*?>(.*?) \\((\\d{4}).*?<myy><.*?>(.*?)</A>', text)\n",
    "    \n",
    "    \n",
    " #'([^ ]* )<myy>(.*?)</myy> ([^ ]*)'     \n"
   ]
  },
  {
   "cell_type": "code",
   "execution_count": 68,
   "metadata": {
    "collapsed": false
   },
   "outputs": [
    {
     "name": "stdout",
     "output_type": "stream",
     "text": [
      "{'review': [False, False, False, False, True, False, False], 'in': [False, False, False, False, False, False, True], 'made': [False, False, False, False, False, True, False]}\n"
     ]
    }
   ],
   "source": [
    "\n",
    "test1 = ('HAMLET',[\"Mann's\", 'Laurie','1991'], \n",
    "        ['is', 'a', 'superbly-produced'], True)\n",
    "test2 = ('HAM',[\"Am'd\", 'Laur','1998'], \n",
    "        ['isss', 'aaa', '2001'], True)\n",
    "test3 = ('Ham',[\"Am's\", 'Laur',' (1998) '], \n",
    "        ['isss', \"aaa'd\", 'super'], False)\n",
    "test4 = ('HAM 2',['Am', 'Laur','198'], \n",
    "        ['isss', 'aaa', 'super'], True)\n",
    "test5 = ('HAM ',['Am', 'review','test'], \n",
    "        ['isss', 'aaa', 'super'],True)\n",
    "test6 = ('HAM ',['Am', 'Laur','test'], \n",
    "        ['isss', 'made', 'super'],True)\n",
    "test7 = ('HAM ',['in', 'Laur','test'], \n",
    "        ['isss', 'aaa', 'super'],True)\n",
    "\n",
    "cases = [test1,test2,test3, test4, test5, test6, test7]\n",
    "\n",
    "cuewords = {'in':True, 'made':True, 'review':True}\n",
    "\n",
    "#features\n",
    "##is it capitalized\n",
    "\n",
    "#uppers = [l for l in letters if l.isupper()]\n",
    "#print(cases[0][0].isupper())\n",
    "\n",
    "\n",
    "def isitcapitalized(testcase):\n",
    "    \"\"\"TODO\"\"\"\n",
    "    return testcase[0].isupper()\n",
    "\n",
    "\n",
    "def isthereayear(testcase):\n",
    "    \"\"\"TODO\"\"\"\n",
    "    combo = testcase[1] + testcase[2]\n",
    "    joined = \"\".join(combo)\n",
    "    yearsearch = re.compile(r\"\\d\\d\\d\\d\")\n",
    "    if re.search(yearsearch, joined):\n",
    "        return True\n",
    "    else:\n",
    "        return False\n",
    "    \n",
    "\n",
    "\n",
    "def hasCueWords(testcase, cueword=None):\n",
    "    combo = testcase[1] + testcase[2]\n",
    "    if cueword:\n",
    "        for word in combo:\n",
    "            if word == cueword:\n",
    "                return True\n",
    "    else:\n",
    "        for word in combo:\n",
    "            if word in cuewords:\n",
    "                return True\n",
    "    return False\n",
    "\n",
    "def hasAppostrophe(testcase):\n",
    "    if testcase[1][0].find(\"'s\") == -1:\n",
    "        return False\n",
    "    return True\n",
    "\n",
    "def isPositive(testcase):\n",
    "    return testcase[3]\n",
    "\n",
    "#[isthereayear(case) for case in cases]    \n",
    "    \n",
    "#[isitcapitalized(case) for case in cases]\n",
    "\n",
    "#[hasCueWords(case) for case in cases]    \n",
    "\n",
    "#[hasAppostrophe(case) for case in cases]    \n",
    "\n",
    "for cueword in cuewords:\n",
    "    cuewords[cueword] = [hasCueWords(case, cueword) for case in cases]\n",
    "    \n",
    "print(cuewords)"
   ]
  },
  {
   "cell_type": "code",
   "execution_count": 77,
   "metadata": {
    "collapsed": false
   },
   "outputs": [
    {
     "name": "stdout",
     "output_type": "stream",
     "text": [
      "      in   made review hasApostrophe hasCueWords hasYear  isCap isPositive\n",
      "0  False  False  False          True       False    True   True       True\n",
      "1  False  False  False         False       False    True   True       True\n",
      "2  False  False  False          True       False    True  False      False\n",
      "3  False  False  False         False       False   False   True       True\n",
      "4  False  False   True         False        True   False   True       True\n",
      "5  False   True  False         False        True   False   True       True\n",
      "6   True  False  False         False        True   False   True       True\n"
     ]
    }
   ],
   "source": [
    "import pandas as pd\n",
    "\n",
    "cuewords_df = pd.DataFrame(cuewords)\n",
    "\n",
    "features = pd.DataFrame(\n",
    "    {'hasYear':[isthereayear(case) for case in cases],\n",
    "     'isCap':[isitcapitalized(case) for case in cases],\n",
    "     'hasCueWords':[hasCueWords(case) for case in cases],    \n",
    "     'hasApostrophe':[hasAppostrophe(case) for case in cases],\n",
    "     'isPositive':[isPositive(case) for case in cases]\n",
    "    }\n",
    ")\n",
    "\n",
    "\n",
    "print(pd.concat([cuewords_df, features], axis=1))"
   ]
  }
 ],
 "metadata": {
  "anaconda-cloud": {},
  "kernelspec": {
   "display_name": "Python [conda root]",
   "language": "python",
   "name": "conda-root-py"
  },
  "language_info": {
   "codemirror_mode": {
    "name": "ipython",
    "version": 3
   },
   "file_extension": ".py",
   "mimetype": "text/x-python",
   "name": "python",
   "nbconvert_exporter": "python",
   "pygments_lexer": "ipython3",
   "version": "3.5.2"
  }
 },
 "nbformat": 4,
 "nbformat_minor": 1
}
